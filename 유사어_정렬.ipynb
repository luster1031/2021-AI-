{
 "cells": [
  {
   "cell_type": "code",
   "execution_count": 1,
   "id": "7fe73c38",
   "metadata": {},
   "outputs": [
    {
     "name": "stdout",
     "output_type": "stream",
     "text": [
      "Requirement already satisfied: pypapago in c:\\users\\deeplearning_3\\anaconda3\\lib\\site-packages (0.1.1.1)\n",
      "Requirement already satisfied: tqdm<5 in c:\\users\\deeplearning_3\\anaconda3\\lib\\site-packages (from pypapago) (4.59.0)\n",
      "Requirement already satisfied: requests<3 in c:\\users\\deeplearning_3\\anaconda3\\lib\\site-packages (from pypapago) (2.26.0)\n",
      "Requirement already satisfied: idna<4,>=2.5 in c:\\users\\deeplearning_3\\anaconda3\\lib\\site-packages (from requests<3->pypapago) (3.2)\n",
      "Requirement already satisfied: charset-normalizer~=2.0.0 in c:\\users\\deeplearning_3\\anaconda3\\lib\\site-packages (from requests<3->pypapago) (2.0.4)\n",
      "Requirement already satisfied: urllib3<1.27,>=1.21.1 in c:\\users\\deeplearning_3\\anaconda3\\lib\\site-packages (from requests<3->pypapago) (1.22)\n",
      "Requirement already satisfied: certifi>=2017.4.17 in c:\\users\\deeplearning_3\\anaconda3\\lib\\site-packages (from requests<3->pypapago) (2020.12.5)\n"
     ]
    },
    {
     "name": "stderr",
     "output_type": "stream",
     "text": [
      "WARNING: Ignoring invalid distribution -pype1 (c:\\users\\deeplearning_3\\anaconda3\\lib\\site-packages)\n",
      "WARNING: Ignoring invalid distribution -pype1 (c:\\users\\deeplearning_3\\anaconda3\\lib\\site-packages)\n",
      "WARNING: Ignoring invalid distribution -pype1 (c:\\users\\deeplearning_3\\anaconda3\\lib\\site-packages)\n",
      "WARNING: Ignoring invalid distribution -pype1 (c:\\users\\deeplearning_3\\anaconda3\\lib\\site-packages)\n",
      "WARNING: Ignoring invalid distribution -pype1 (c:\\users\\deeplearning_3\\anaconda3\\lib\\site-packages)\n"
     ]
    }
   ],
   "source": [
    "!pip install pypapago"
   ]
  },
  {
   "cell_type": "code",
   "execution_count": 2,
   "id": "8d7e2e18",
   "metadata": {},
   "outputs": [],
   "source": [
    "import os \n",
    "import sys \n",
    "import urllib.request\n",
    "import re\n",
    "import pandas as pd\n",
    "reg = re.compile(r'[^ㄱ-ㅣ가-힣]+')\n",
    "co = pd.read_csv('./data/KO_token.txt',encoding='utf-8') #조사 불용어"
   ]
  },
  {
   "cell_type": "code",
   "execution_count": 9,
   "id": "2525b877",
   "metadata": {},
   "outputs": [],
   "source": [
    "result_df1 = pd.read_csv('./data/NM_EN_token.csv',encoding = 'utf-8-sig')\n",
    "result_df2 = pd.read_csv('./data/NM_KO_hannanum.csv',encoding='utf-8-sig') "
   ]
  },
  {
   "cell_type": "code",
   "execution_count": 10,
   "id": "5c2097a7",
   "metadata": {},
   "outputs": [],
   "source": [
    "client_id = \"U9UBbQtpSbWt6Mzn6WdC\"\n",
    "client_secret = \"rHPIy0JgYq\""
   ]
  },
  {
   "cell_type": "code",
   "execution_count": 12,
   "id": "23d8a5a5",
   "metadata": {},
   "outputs": [
    {
     "name": "stdout",
     "output_type": "stream",
     "text": [
      "가축\n",
      "한글 --> 영어\n",
      "b'{\"message\":{\"@type\":\"response\",\"@service\":\"naverservice.nmt.proxy\",\"@version\":\"1.0.0\",\"result\":{\"srcLangType\":\"ko\",\"tarLangType\":\"en\",\"translatedText\":\"domestic animals\",\"engineType\":\"PRETRANS\",\"pivot\":null}}}'\n"
     ]
    }
   ],
   "source": [
    "input_str = input()\n",
    "ko_response_word = ''\n",
    "en_response_word = ''\n",
    "ko_word =input_str\n",
    "en_word = input_str\n",
    "if reg.match(input_str):\n",
    "    print(\"영어 --> 한글\")\n",
    "    encText = urllib.parse.quote(input_str) \n",
    "    data = \"source=en&target=ko&text=the \" + encText\n",
    "    url = \"https://openapi.naver.com/v1/papago/n2mt\"\n",
    "    request = urllib.request.Request(url)\n",
    "    request.add_header(\"X-Naver-Client-Id\",client_id)\n",
    "    request.add_header(\"X-Naver-Client-Secret\",client_secret)\n",
    "    response = urllib.request.urlopen(request, data=data.encode(\"utf-8\"))\n",
    "    rescode = response.getcode()\n",
    "    if(rescode==200):\n",
    "        response_body = response.read()\n",
    "        print(response_body)\n",
    "        ko_response_word =response_body.decode('utf-8')\n",
    "    else:\n",
    "        print(\"Error Code:\" + rescode)\n",
    "else:\n",
    "    print(\"한글 --> 영어\")\n",
    "    encText = urllib.parse.quote(input_str) \n",
    "    data = \"source=ko&target=en&text=\" + encText\n",
    "    url = \"https://openapi.naver.com/v1/papago/n2mt\"\n",
    "    request = urllib.request.Request(url)\n",
    "    request.add_header(\"X-Naver-Client-Id\",client_id)\n",
    "    request.add_header(\"X-Naver-Client-Secret\",client_secret)\n",
    "    response = urllib.request.urlopen(request, data=data.encode(\"utf-8\"))\n",
    "    rescode = response.getcode()\n",
    "    if(rescode==200):\n",
    "        response_body = response.read()\n",
    "        print(response_body)\n",
    "        en_response_word =response_body.decode('utf-8')\n",
    "    else:\n",
    "        print(\"Error Code:\" + rescode)"
   ]
  },
  {
   "cell_type": "code",
   "execution_count": 37,
   "id": "26380f66",
   "metadata": {},
   "outputs": [],
   "source": [
    "if len(ko_response_word)!= 0:\n",
    "    ko_word = ko_response_word[ko_response_word.index('translatedText')+17:ko_response_word.index('engineType')-3]\n",
    "if len(en_response_word)!= 0:\n",
    "    en_word = en_response_word[en_response_word.index('translatedText')+17:en_response_word.index('engineType')-3]"
   ]
  },
  {
   "cell_type": "code",
   "execution_count": 38,
   "id": "a6ef4671",
   "metadata": {},
   "outputs": [
    {
     "name": "stdout",
     "output_type": "stream",
     "text": [
      "가축\n",
      "domestic animals\n"
     ]
    }
   ],
   "source": [
    "en_word =en_word.lower()\n",
    "print(ko_word)\n",
    "print(en_word)"
   ]
  },
  {
   "cell_type": "code",
   "execution_count": 39,
   "id": "ecd2cf21",
   "metadata": {},
   "outputs": [
    {
     "name": "stdout",
     "output_type": "stream",
     "text": [
      "['가축']\n",
      "가축\n"
     ]
    },
    {
     "name": "stderr",
     "output_type": "stream",
     "text": [
      "[nltk_data] Downloading package punkt to\n",
      "[nltk_data]     C:\\Users\\DeepLearning_3\\AppData\\Roaming\\nltk_data...\n",
      "[nltk_data]   Package punkt is already up-to-date!\n"
     ]
    }
   ],
   "source": [
    "#조사 없애기\n",
    "import nltk\n",
    "nltk.download('punkt')\n",
    "\n",
    "string_list=co['KO'].tolist()\n",
    "\n",
    "clean_words = [] \n",
    "for word in nltk.tokenize.word_tokenize(ko_word):\n",
    "    if word not in string_list: #불용어 제거\n",
    "        clean_words.append(word)\n",
    "print(clean_words)\n",
    "ko_word = ''.join(clean_words)        \n",
    "print(ko_word) "
   ]
  },
  {
   "cell_type": "code",
   "execution_count": 33,
   "id": "3dc8da4f",
   "metadata": {},
   "outputs": [
    {
     "name": "stdout",
     "output_type": "stream",
     "text": [
      "animals NNS\n"
     ]
    }
   ],
   "source": [
    "#영어도 명사만 --> 안됨\n",
    "# 가축이면 domestic animals 인데, animals만 가능,,,\n",
    "# 그렇다고 splic하기도 좀 그런데,, \n",
    "from tensorflow.keras.preprocessing.text import text_to_word_sequence\n",
    "word_tokens = text_to_word_sequence(en_word)\n",
    "tokens_pos  = nltk.pos_tag(word_tokens)\n",
    "en = ''\n",
    "for word , tag in tokens_pos:\n",
    "    if len(tag) > 1:\n",
    "        if tag in ['NN','NNS']:\n",
    "            print(word, tag)\n",
    "            en += (word + ' ')\n",
    "en_word = en"
   ]
  },
  {
   "cell_type": "code",
   "execution_count": 35,
   "id": "9403ffda",
   "metadata": {
    "scrolled": true
   },
   "outputs": [],
   "source": [
    "try:\n",
    "    result_df1.drop(['Unnamed: 0'],axis = 1, inplace = True)\n",
    "except :\n",
    "    pass"
   ]
  },
  {
   "cell_type": "code",
   "execution_count": 41,
   "id": "834472f5",
   "metadata": {},
   "outputs": [
    {
     "name": "stdout",
     "output_type": "stream",
     "text": [
      "domestic\n",
      "animals\n"
     ]
    },
    {
     "data": {
      "text/html": [
       "<div>\n",
       "<style scoped>\n",
       "    .dataframe tbody tr th:only-of-type {\n",
       "        vertical-align: middle;\n",
       "    }\n",
       "\n",
       "    .dataframe tbody tr th {\n",
       "        vertical-align: top;\n",
       "    }\n",
       "\n",
       "    .dataframe thead th {\n",
       "        text-align: right;\n",
       "    }\n",
       "</style>\n",
       "<table border=\"1\" class=\"dataframe\">\n",
       "  <thead>\n",
       "    <tr style=\"text-align: right;\">\n",
       "      <th></th>\n",
       "      <th>HSCODE</th>\n",
       "      <th>HSCODE_6</th>\n",
       "      <th>NM_EN</th>\n",
       "    </tr>\n",
       "  </thead>\n",
       "  <tbody>\n",
       "    <tr>\n",
       "      <th>0</th>\n",
       "      <td>105111000</td>\n",
       "      <td>10511</td>\n",
       "      <td>purebred breeding animals chicks purebred bree...</td>\n",
       "    </tr>\n",
       "    <tr>\n",
       "      <th>1</th>\n",
       "      <td>106199000</td>\n",
       "      <td>10619</td>\n",
       "      <td>other cat pet domestic shorthair live guineapi...</td>\n",
       "    </tr>\n",
       "    <tr>\n",
       "      <th>2</th>\n",
       "      <td>207129000</td>\n",
       "      <td>20712</td>\n",
       "      <td>other cut pieces chicken cut pieces frozen fow...</td>\n",
       "    </tr>\n",
       "    <tr>\n",
       "      <th>3</th>\n",
       "      <td>207141010</td>\n",
       "      <td>20714</td>\n",
       "      <td>leg chicken drum sticks chicken whole leg bone...</td>\n",
       "    </tr>\n",
       "    <tr>\n",
       "      <th>4</th>\n",
       "      <td>407210000</td>\n",
       "      <td>40721</td>\n",
       "      <td>fowls species chicken eggs fresh eggs fresh eg...</td>\n",
       "    </tr>\n",
       "    <tr>\n",
       "      <th>...</th>\n",
       "      <td>...</td>\n",
       "      <td>...</td>\n",
       "      <td>...</td>\n",
       "    </tr>\n",
       "    <tr>\n",
       "      <th>155</th>\n",
       "      <td>9503003493</td>\n",
       "      <td>950300</td>\n",
       "      <td>toys representing animals swimming duck wsb</td>\n",
       "    </tr>\n",
       "    <tr>\n",
       "      <th>156</th>\n",
       "      <td>9503003495</td>\n",
       "      <td>950300</td>\n",
       "      <td>ceramics ceramic coin bank ceramic doll animal...</td>\n",
       "    </tr>\n",
       "    <tr>\n",
       "      <th>157</th>\n",
       "      <td>9503003497</td>\n",
       "      <td>950300</td>\n",
       "      <td>wood wooden genga masai doll wood toys represe...</td>\n",
       "    </tr>\n",
       "    <tr>\n",
       "      <th>158</th>\n",
       "      <td>9503003499</td>\n",
       "      <td>950300</td>\n",
       "      <td>other miniature wooden toys disney figure eedi...</td>\n",
       "    </tr>\n",
       "    <tr>\n",
       "      <th>159</th>\n",
       "      <td>9615191000</td>\n",
       "      <td>961519</td>\n",
       "      <td>combs slicker brush steel comb plastic combs i...</td>\n",
       "    </tr>\n",
       "  </tbody>\n",
       "</table>\n",
       "<p>160 rows × 3 columns</p>\n",
       "</div>"
      ],
      "text/plain": [
       "         HSCODE HSCODE_6                                              NM_EN\n",
       "0     105111000    10511  purebred breeding animals chicks purebred bree...\n",
       "1     106199000    10619  other cat pet domestic shorthair live guineapi...\n",
       "2     207129000    20712  other cut pieces chicken cut pieces frozen fow...\n",
       "3     207141010    20714  leg chicken drum sticks chicken whole leg bone...\n",
       "4     407210000    40721  fowls species chicken eggs fresh eggs fresh eg...\n",
       "..          ...      ...                                                ...\n",
       "155  9503003493   950300       toys representing animals swimming duck wsb \n",
       "156  9503003495   950300  ceramics ceramic coin bank ceramic doll animal...\n",
       "157  9503003497   950300  wood wooden genga masai doll wood toys represe...\n",
       "158  9503003499   950300  other miniature wooden toys disney figure eedi...\n",
       "159  9615191000   961519  combs slicker brush steel comb plastic combs i...\n",
       "\n",
       "[160 rows x 3 columns]"
      ]
     },
     "execution_count": 41,
     "metadata": {},
     "output_type": "execute_result"
    }
   ],
   "source": [
    "search = result_df2\n",
    "result_ko = search[search['NM_KO'].str.contains(ko_word, na=False)]\n",
    "#for index in result_ko['NM_KO']:\n",
    "  #print(index)\n",
    "search1 = result_df1\n",
    "result_en = pd.DataFrame(columns=['HSCODE','HSCODE_6','NM_EN'])\n",
    "result_en = result_en.append( search1[search1['NM_EN'].str.contains(en_word, na=False)],ignore_index=True)\n",
    "\n",
    "#검색 결과가 0이면 split해서 검색 해보자. \n",
    "# 여기서 문제는 유사도가 이상함, \n",
    "# 가축을 검색했는데, domestic검색하고, animals검색하는거니깐,,,\n",
    "# 유사도 해야겠네. \n",
    "if len(result_en) == 0:\n",
    "    for word in en_word.split():\n",
    "        print(word)\n",
    "        result_en = result_en.append( search1[search1['NM_EN'].str.contains(word, na=False)],ignore_index=True)\n",
    "result_en"
   ]
  },
  {
   "cell_type": "code",
   "execution_count": null,
   "id": "845bbdbb",
   "metadata": {},
   "outputs": [],
   "source": []
  },
  {
   "cell_type": "code",
   "execution_count": null,
   "id": "df3dd7f2",
   "metadata": {},
   "outputs": [],
   "source": []
  },
  {
   "cell_type": "code",
   "execution_count": null,
   "id": "9e10b66c",
   "metadata": {},
   "outputs": [],
   "source": []
  },
  {
   "cell_type": "code",
   "execution_count": null,
   "id": "27cf6ec9",
   "metadata": {},
   "outputs": [],
   "source": []
  },
  {
   "cell_type": "code",
   "execution_count": null,
   "id": "f73fb3ac",
   "metadata": {},
   "outputs": [],
   "source": []
  },
  {
   "cell_type": "code",
   "execution_count": null,
   "id": "02e3edbd",
   "metadata": {},
   "outputs": [],
   "source": []
  },
  {
   "cell_type": "code",
   "execution_count": null,
   "id": "efdf0fb1",
   "metadata": {},
   "outputs": [],
   "source": []
  },
  {
   "cell_type": "code",
   "execution_count": null,
   "id": "e05cb87a",
   "metadata": {},
   "outputs": [],
   "source": []
  },
  {
   "cell_type": "code",
   "execution_count": null,
   "id": "b785c6c2",
   "metadata": {},
   "outputs": [],
   "source": []
  }
 ],
 "metadata": {
  "kernelspec": {
   "display_name": "Python 3",
   "language": "python",
   "name": "python3"
  },
  "language_info": {
   "codemirror_mode": {
    "name": "ipython",
    "version": 3
   },
   "file_extension": ".py",
   "mimetype": "text/x-python",
   "name": "python",
   "nbconvert_exporter": "python",
   "pygments_lexer": "ipython3",
   "version": "3.8.8"
  }
 },
 "nbformat": 4,
 "nbformat_minor": 5
}

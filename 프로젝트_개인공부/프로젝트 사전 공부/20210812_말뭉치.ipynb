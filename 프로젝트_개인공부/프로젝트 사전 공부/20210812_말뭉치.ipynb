{
 "cells": [
  {
   "cell_type": "code",
   "execution_count": 5,
   "metadata": {},
   "outputs": [
    {
     "name": "stdout",
     "output_type": "stream",
     "text": [
      "0\t대한민국헌법 유구한 역사와\n",
      "9\t대한국민은 3·1운동으로 건립된 대한민국임시정부의 법통과 불의에\n",
      "98\t총강 제1조 ① 대한민국은 민주공화국이다. ②대한민국의\n",
      "100\t① 대한민국은 민주공화국이다. ②대한민국의 주권은 국민에게\n",
      "110\t나온다. 제2조 ① 대한민국의 국민이 되는\n",
      "126\t의무를 진다. 제3조 대한민국의 영토는 한반도와\n",
      "133\t부속도서로 한다. 제4조 대한민국은 통일을 지향하며,\n",
      "147\t추진한다. 제5조 ① 대한민국은 국제평화의 유지에\n",
      "787\t군무원이 아닌 국민은 대한민국의 영역안에서는 중대한\n",
      "1836\t파견 또는 외국군대의 대한민국 영역안에서의 주류에\n",
      "3620\t경제 제119조 ① 대한민국의 경제질서는 개인과\n"
     ]
    },
    {
     "data": {
      "text/plain": [
       "[0, 9, 98, 100, 110, 126, 133, 147, 787, 1836, 3620]"
      ]
     },
     "execution_count": 5,
     "metadata": {},
     "output_type": "execute_result"
    }
   ],
   "source": [
    "#용례검색\n",
    "from konlpy.corpus import kolaw\n",
    "from konlpy.utils import concordance\n",
    "doc = kolaw.open('constitution.txt').read()\n",
    "concordance('대한민국',doc, show = True)"
   ]
  },
  {
   "cell_type": "code",
   "execution_count": 6,
   "metadata": {},
   "outputs": [
    {
     "name": "stdout",
     "output_type": "stream",
     "text": [
      "[('한국어', 'NNG'),\n",
      " ('분석', 'NNG'),\n",
      " ('은', 'JX'),\n",
      " ('재', 'NNG'),\n",
      " ('밌', 'UN'),\n",
      " ('습', 'NNG'),\n",
      " ('니', 'NP'),\n",
      " ('ㅏ', 'UN'),\n",
      " ('.', 'SF')]\n"
     ]
    }
   ],
   "source": [
    "#형태소 분섞과 품사 태깅\n",
    "from konlpy.tag import Kkma\n",
    "from konlpy.utils import pprint\n",
    "kkma = Kkma()\n",
    "pprint(kkma.pos(u'한국어 분석은 재밌습니ㅏ.'))"
   ]
  },
  {
   "cell_type": "code",
   "execution_count": 16,
   "metadata": {},
   "outputs": [
    {
     "name": "stdout",
     "output_type": "stream",
     "text": [
      "[(('의', 'J'), 396),\n",
      " (('.', 'S'), 340),\n",
      " (('하', 'X'), 291),\n",
      " (('에', 'J'), 283),\n",
      " (('ㄴ다', 'E'), 241)]\n"
     ]
    }
   ],
   "source": [
    "#최빈 형태소 찾기\n",
    "import collections\n",
    "from collections import Counter\n",
    "import konlpy\n",
    "doc = konlpy.corpus.kolaw.open('constitution.txt').read()\n",
    "pos = konlpy.tag.Hannanum().pos(doc)\n",
    "cnt = Counter(pos)\n",
    "konlpy.utils.pprint(cnt.most_common(5))"
   ]
  },
  {
   "cell_type": "code",
   "execution_count": null,
   "metadata": {},
   "outputs": [],
   "source": []
  },
  {
   "cell_type": "code",
   "execution_count": null,
   "metadata": {},
   "outputs": [],
   "source": []
  },
  {
   "cell_type": "code",
   "execution_count": null,
   "metadata": {},
   "outputs": [],
   "source": []
  },
  {
   "cell_type": "code",
   "execution_count": null,
   "metadata": {},
   "outputs": [],
   "source": []
  },
  {
   "cell_type": "code",
   "execution_count": null,
   "metadata": {},
   "outputs": [],
   "source": []
  },
  {
   "cell_type": "code",
   "execution_count": 44,
   "metadata": {},
   "outputs": [],
   "source": [
    "import csv\n",
    "import pandas as pd\n",
    "wrod_dict = []\n",
    "try:\n",
    "    df = pd.read_csv(\"관세청_HS부호_20210101.csv\",encoding = 'cp949')\n",
    "except Exception as e:\n",
    "    print(\"err :\",e)"
   ]
  },
  {
   "cell_type": "code",
   "execution_count": 45,
   "metadata": {},
   "outputs": [
    {
     "data": {
      "text/html": [
       "<div>\n",
       "<style scoped>\n",
       "    .dataframe tbody tr th:only-of-type {\n",
       "        vertical-align: middle;\n",
       "    }\n",
       "\n",
       "    .dataframe tbody tr th {\n",
       "        vertical-align: top;\n",
       "    }\n",
       "\n",
       "    .dataframe thead th {\n",
       "        text-align: right;\n",
       "    }\n",
       "</style>\n",
       "<table border=\"1\" class=\"dataframe\">\n",
       "  <thead>\n",
       "    <tr style=\"text-align: right;\">\n",
       "      <th></th>\n",
       "      <th>HS부호</th>\n",
       "      <th>적용시작일자</th>\n",
       "      <th>적용종료일자</th>\n",
       "      <th>한글품목명</th>\n",
       "      <th>영문품목명</th>\n",
       "      <th>한국표준무역분류명</th>\n",
       "      <th>수량단위최대단가</th>\n",
       "      <th>중량단위최대단가</th>\n",
       "      <th>수량단위코드</th>\n",
       "      <th>중량단위코드</th>\n",
       "      <th>수출성질코드</th>\n",
       "      <th>수입성질코드</th>\n",
       "      <th>품목규격명</th>\n",
       "      <th>필수규격명</th>\n",
       "      <th>참고규격명</th>\n",
       "      <th>규격설명</th>\n",
       "      <th>규격사항내용</th>\n",
       "      <th>성질통합분류코드</th>\n",
       "      <th>성질통합분류코드명</th>\n",
       "    </tr>\n",
       "  </thead>\n",
       "  <tbody>\n",
       "    <tr>\n",
       "      <th>0</th>\n",
       "      <td>101211000</td>\n",
       "      <td>2013-01-01</td>\n",
       "      <td>2021-12-31</td>\n",
       "      <td>농가 사육용</td>\n",
       "      <td>For farm breeding</td>\n",
       "      <td>NaN</td>\n",
       "      <td>NaN</td>\n",
       "      <td>NaN</td>\n",
       "      <td>U</td>\n",
       "      <td>KG</td>\n",
       "      <td>11Z01</td>\n",
       "      <td>12399</td>\n",
       "      <td>NaN</td>\n",
       "      <td>NaN</td>\n",
       "      <td>NaN</td>\n",
       "      <td>NaN</td>\n",
       "      <td>NaN</td>\n",
       "      <td>11020101.0</td>\n",
       "      <td>(말)</td>\n",
       "    </tr>\n",
       "    <tr>\n",
       "      <th>1</th>\n",
       "      <td>101219000</td>\n",
       "      <td>2012-01-01</td>\n",
       "      <td>2021-12-31</td>\n",
       "      <td>기타</td>\n",
       "      <td>Other</td>\n",
       "      <td>NaN</td>\n",
       "      <td>NaN</td>\n",
       "      <td>NaN</td>\n",
       "      <td>U</td>\n",
       "      <td>KG</td>\n",
       "      <td>11Z01</td>\n",
       "      <td>12399</td>\n",
       "      <td>NaN</td>\n",
       "      <td>NaN</td>\n",
       "      <td>NaN</td>\n",
       "      <td>NaN</td>\n",
       "      <td>NaN</td>\n",
       "      <td>11020101.0</td>\n",
       "      <td>(말)</td>\n",
       "    </tr>\n",
       "    <tr>\n",
       "      <th>2</th>\n",
       "      <td>101291000</td>\n",
       "      <td>2012-01-01</td>\n",
       "      <td>2021-12-31</td>\n",
       "      <td>경주말</td>\n",
       "      <td>Horses for racing</td>\n",
       "      <td>NaN</td>\n",
       "      <td>NaN</td>\n",
       "      <td>NaN</td>\n",
       "      <td>U</td>\n",
       "      <td>KG</td>\n",
       "      <td>11Z01</td>\n",
       "      <td>12399</td>\n",
       "      <td>NaN</td>\n",
       "      <td>NaN</td>\n",
       "      <td>NaN</td>\n",
       "      <td>NaN</td>\n",
       "      <td>NaN</td>\n",
       "      <td>11020101.0</td>\n",
       "      <td>(말)</td>\n",
       "    </tr>\n",
       "    <tr>\n",
       "      <th>3</th>\n",
       "      <td>101299000</td>\n",
       "      <td>2012-01-01</td>\n",
       "      <td>2021-12-31</td>\n",
       "      <td>기타</td>\n",
       "      <td>Other</td>\n",
       "      <td>NaN</td>\n",
       "      <td>NaN</td>\n",
       "      <td>NaN</td>\n",
       "      <td>U</td>\n",
       "      <td>KG</td>\n",
       "      <td>11Z01</td>\n",
       "      <td>12399</td>\n",
       "      <td>NaN</td>\n",
       "      <td>NaN</td>\n",
       "      <td>NaN</td>\n",
       "      <td>NaN</td>\n",
       "      <td>NaN</td>\n",
       "      <td>11020101.0</td>\n",
       "      <td>(말)</td>\n",
       "    </tr>\n",
       "    <tr>\n",
       "      <th>4</th>\n",
       "      <td>101301000</td>\n",
       "      <td>2013-01-01</td>\n",
       "      <td>2021-12-31</td>\n",
       "      <td>번식용</td>\n",
       "      <td>Pure-bred breeding animals</td>\n",
       "      <td>NaN</td>\n",
       "      <td>NaN</td>\n",
       "      <td>NaN</td>\n",
       "      <td>U</td>\n",
       "      <td>KG</td>\n",
       "      <td>11Z01</td>\n",
       "      <td>12399</td>\n",
       "      <td>NaN</td>\n",
       "      <td>NaN</td>\n",
       "      <td>NaN</td>\n",
       "      <td>NaN</td>\n",
       "      <td>NaN</td>\n",
       "      <td>11020190.0</td>\n",
       "      <td>(기타 산 동물)</td>\n",
       "    </tr>\n",
       "  </tbody>\n",
       "</table>\n",
       "</div>"
      ],
      "text/plain": [
       "        HS부호      적용시작일자      적용종료일자   한글품목명                       영문품목명  \\\n",
       "0  101211000  2013-01-01  2021-12-31  농가 사육용           For farm breeding   \n",
       "1  101219000  2012-01-01  2021-12-31      기타                       Other   \n",
       "2  101291000  2012-01-01  2021-12-31     경주말           Horses for racing   \n",
       "3  101299000  2012-01-01  2021-12-31      기타                       Other   \n",
       "4  101301000  2013-01-01  2021-12-31     번식용  Pure-bred breeding animals   \n",
       "\n",
       "  한국표준무역분류명  수량단위최대단가  중량단위최대단가 수량단위코드 중량단위코드 수출성질코드 수입성질코드 품목규격명 필수규격명 참고규격명  \\\n",
       "0       NaN       NaN       NaN      U     KG  11Z01  12399   NaN   NaN   NaN   \n",
       "1       NaN       NaN       NaN      U     KG  11Z01  12399   NaN   NaN   NaN   \n",
       "2       NaN       NaN       NaN      U     KG  11Z01  12399   NaN   NaN   NaN   \n",
       "3       NaN       NaN       NaN      U     KG  11Z01  12399   NaN   NaN   NaN   \n",
       "4       NaN       NaN       NaN      U     KG  11Z01  12399   NaN   NaN   NaN   \n",
       "\n",
       "  규격설명 규격사항내용    성질통합분류코드  성질통합분류코드명  \n",
       "0  NaN    NaN  11020101.0        (말)  \n",
       "1  NaN    NaN  11020101.0        (말)  \n",
       "2  NaN    NaN  11020101.0        (말)  \n",
       "3  NaN    NaN  11020101.0        (말)  \n",
       "4  NaN    NaN  11020190.0  (기타 산 동물)  "
      ]
     },
     "execution_count": 45,
     "metadata": {},
     "output_type": "execute_result"
    }
   ],
   "source": [
    "df.head()"
   ]
  },
  {
   "cell_type": "code",
   "execution_count": 46,
   "metadata": {},
   "outputs": [
    {
     "name": "stdout",
     "output_type": "stream",
     "text": [
      "HS부호           int64\n",
      "적용시작일자        object\n",
      "적용종료일자        object\n",
      "한글품목명         object\n",
      "영문품목명         object\n",
      "한국표준무역분류명     object\n",
      "수량단위최대단가     float64\n",
      "중량단위최대단가     float64\n",
      "수량단위코드        object\n",
      "중량단위코드        object\n",
      "수출성질코드        object\n",
      "수입성질코드        object\n",
      "품목규격명         object\n",
      "필수규격명         object\n",
      "참고규격명         object\n",
      "규격설명          object\n",
      "규격사항내용        object\n",
      "성질통합분류코드     float64\n",
      "성질통합분류코드명     object\n",
      "dtype: object\n"
     ]
    }
   ],
   "source": [
    "print(df.dtypes)"
   ]
  },
  {
   "cell_type": "code",
   "execution_count": 48,
   "metadata": {},
   "outputs": [],
   "source": [
    "df=df.astype({'HS부호':'object', '수량단위최대단가':'object','중량단위최대단가':'object','성질통합분류코드':'object'})\n",
    "\n"
   ]
  },
  {
   "cell_type": "code",
   "execution_count": 21,
   "metadata": {
    "scrolled": true
   },
   "outputs": [
    {
     "data": {
      "text/html": [
       "<div>\n",
       "<style scoped>\n",
       "    .dataframe tbody tr th:only-of-type {\n",
       "        vertical-align: middle;\n",
       "    }\n",
       "\n",
       "    .dataframe tbody tr th {\n",
       "        vertical-align: top;\n",
       "    }\n",
       "\n",
       "    .dataframe thead th {\n",
       "        text-align: right;\n",
       "    }\n",
       "</style>\n",
       "<table border=\"1\" class=\"dataframe\">\n",
       "  <thead>\n",
       "    <tr style=\"text-align: right;\">\n",
       "      <th></th>\n",
       "      <th>HS부호</th>\n",
       "      <th>적용시작일자</th>\n",
       "      <th>적용종료일자</th>\n",
       "      <th>한글품목명</th>\n",
       "      <th>영문품목명</th>\n",
       "      <th>한국표준무역분류명</th>\n",
       "      <th>수량단위최대단가</th>\n",
       "      <th>중량단위최대단가</th>\n",
       "      <th>수량단위코드</th>\n",
       "      <th>중량단위코드</th>\n",
       "      <th>수출성질코드</th>\n",
       "      <th>수입성질코드</th>\n",
       "      <th>품목규격명</th>\n",
       "      <th>필수규격명</th>\n",
       "      <th>참고규격명</th>\n",
       "      <th>규격설명</th>\n",
       "      <th>규격사항내용</th>\n",
       "      <th>성질통합분류코드</th>\n",
       "      <th>성질통합분류코드명</th>\n",
       "    </tr>\n",
       "  </thead>\n",
       "  <tbody>\n",
       "    <tr>\n",
       "      <th>0</th>\n",
       "      <td>101211000</td>\n",
       "      <td>2013-01-01</td>\n",
       "      <td>2021-12-31</td>\n",
       "      <td>농가 사육용</td>\n",
       "      <td>For farm breeding</td>\n",
       "      <td>NaN</td>\n",
       "      <td>NaN</td>\n",
       "      <td>NaN</td>\n",
       "      <td>U</td>\n",
       "      <td>KG</td>\n",
       "      <td>11Z01</td>\n",
       "      <td>12399</td>\n",
       "      <td>NaN</td>\n",
       "      <td>NaN</td>\n",
       "      <td>NaN</td>\n",
       "      <td>NaN</td>\n",
       "      <td>NaN</td>\n",
       "      <td>11020101.0</td>\n",
       "      <td>(말)</td>\n",
       "    </tr>\n",
       "    <tr>\n",
       "      <th>1</th>\n",
       "      <td>101219000</td>\n",
       "      <td>2012-01-01</td>\n",
       "      <td>2021-12-31</td>\n",
       "      <td>기타</td>\n",
       "      <td>Other</td>\n",
       "      <td>NaN</td>\n",
       "      <td>NaN</td>\n",
       "      <td>NaN</td>\n",
       "      <td>U</td>\n",
       "      <td>KG</td>\n",
       "      <td>11Z01</td>\n",
       "      <td>12399</td>\n",
       "      <td>NaN</td>\n",
       "      <td>NaN</td>\n",
       "      <td>NaN</td>\n",
       "      <td>NaN</td>\n",
       "      <td>NaN</td>\n",
       "      <td>11020101.0</td>\n",
       "      <td>(말)</td>\n",
       "    </tr>\n",
       "    <tr>\n",
       "      <th>2</th>\n",
       "      <td>101291000</td>\n",
       "      <td>2012-01-01</td>\n",
       "      <td>2021-12-31</td>\n",
       "      <td>경주말</td>\n",
       "      <td>Horses for racing</td>\n",
       "      <td>NaN</td>\n",
       "      <td>NaN</td>\n",
       "      <td>NaN</td>\n",
       "      <td>U</td>\n",
       "      <td>KG</td>\n",
       "      <td>11Z01</td>\n",
       "      <td>12399</td>\n",
       "      <td>NaN</td>\n",
       "      <td>NaN</td>\n",
       "      <td>NaN</td>\n",
       "      <td>NaN</td>\n",
       "      <td>NaN</td>\n",
       "      <td>11020101.0</td>\n",
       "      <td>(말)</td>\n",
       "    </tr>\n",
       "    <tr>\n",
       "      <th>3</th>\n",
       "      <td>101299000</td>\n",
       "      <td>2012-01-01</td>\n",
       "      <td>2021-12-31</td>\n",
       "      <td>기타</td>\n",
       "      <td>Other</td>\n",
       "      <td>NaN</td>\n",
       "      <td>NaN</td>\n",
       "      <td>NaN</td>\n",
       "      <td>U</td>\n",
       "      <td>KG</td>\n",
       "      <td>11Z01</td>\n",
       "      <td>12399</td>\n",
       "      <td>NaN</td>\n",
       "      <td>NaN</td>\n",
       "      <td>NaN</td>\n",
       "      <td>NaN</td>\n",
       "      <td>NaN</td>\n",
       "      <td>11020101.0</td>\n",
       "      <td>(말)</td>\n",
       "    </tr>\n",
       "    <tr>\n",
       "      <th>4</th>\n",
       "      <td>101301000</td>\n",
       "      <td>2013-01-01</td>\n",
       "      <td>2021-12-31</td>\n",
       "      <td>번식용</td>\n",
       "      <td>Pure-bred breeding animals</td>\n",
       "      <td>NaN</td>\n",
       "      <td>NaN</td>\n",
       "      <td>NaN</td>\n",
       "      <td>U</td>\n",
       "      <td>KG</td>\n",
       "      <td>11Z01</td>\n",
       "      <td>12399</td>\n",
       "      <td>NaN</td>\n",
       "      <td>NaN</td>\n",
       "      <td>NaN</td>\n",
       "      <td>NaN</td>\n",
       "      <td>NaN</td>\n",
       "      <td>11020190.0</td>\n",
       "      <td>(기타 산 동물)</td>\n",
       "    </tr>\n",
       "    <tr>\n",
       "      <th>...</th>\n",
       "      <td>...</td>\n",
       "      <td>...</td>\n",
       "      <td>...</td>\n",
       "      <td>...</td>\n",
       "      <td>...</td>\n",
       "      <td>...</td>\n",
       "      <td>...</td>\n",
       "      <td>...</td>\n",
       "      <td>...</td>\n",
       "      <td>...</td>\n",
       "      <td>...</td>\n",
       "      <td>...</td>\n",
       "      <td>...</td>\n",
       "      <td>...</td>\n",
       "      <td>...</td>\n",
       "      <td>...</td>\n",
       "      <td>...</td>\n",
       "      <td>...</td>\n",
       "      <td>...</td>\n",
       "    </tr>\n",
       "    <tr>\n",
       "      <th>13645</th>\n",
       "      <td>9704009000</td>\n",
       "      <td>2002-01-01</td>\n",
       "      <td>2021-12-31</td>\n",
       "      <td>기타</td>\n",
       "      <td>Other</td>\n",
       "      <td>NaN</td>\n",
       "      <td>NaN</td>\n",
       "      <td>NaN</td>\n",
       "      <td>NaN</td>\n",
       "      <td>KG</td>\n",
       "      <td>3ZZ01</td>\n",
       "      <td>13901</td>\n",
       "      <td>NaN</td>\n",
       "      <td>NaN</td>\n",
       "      <td>NaN</td>\n",
       "      <td>NaN</td>\n",
       "      <td>NaN</td>\n",
       "      <td>12050201.0</td>\n",
       "      <td>(수집품 및 골동품)</td>\n",
       "    </tr>\n",
       "    <tr>\n",
       "      <th>13646</th>\n",
       "      <td>9705000000</td>\n",
       "      <td>2013-01-01</td>\n",
       "      <td>2021-12-31</td>\n",
       "      <td>수집품과 표본[동물학ㆍ식물학ㆍ광물학ㆍ해부학ㆍ사학ㆍ고고학ㆍ고생물학ㆍ민족학ㆍ고전학(古錢...</td>\n",
       "      <td>Collections and collectors＇ pieces of zoologic...</td>\n",
       "      <td>NaN</td>\n",
       "      <td>NaN</td>\n",
       "      <td>NaN</td>\n",
       "      <td>NaN</td>\n",
       "      <td>KG</td>\n",
       "      <td>3ZZ01</td>\n",
       "      <td>13901</td>\n",
       "      <td>NaN</td>\n",
       "      <td>NaN</td>\n",
       "      <td>NaN</td>\n",
       "      <td>NaN</td>\n",
       "      <td>NaN</td>\n",
       "      <td>12050201.0</td>\n",
       "      <td>(수집품 및 골동품)</td>\n",
       "    </tr>\n",
       "    <tr>\n",
       "      <th>13647</th>\n",
       "      <td>9706001000</td>\n",
       "      <td>2002-01-01</td>\n",
       "      <td>2021-12-31</td>\n",
       "      <td>도자기류</td>\n",
       "      <td>Ceramics</td>\n",
       "      <td>NaN</td>\n",
       "      <td>NaN</td>\n",
       "      <td>NaN</td>\n",
       "      <td>NaN</td>\n",
       "      <td>KG</td>\n",
       "      <td>3ZZ01</td>\n",
       "      <td>13901</td>\n",
       "      <td>NaN</td>\n",
       "      <td>NaN</td>\n",
       "      <td>NaN</td>\n",
       "      <td>NaN</td>\n",
       "      <td>NaN</td>\n",
       "      <td>12050201.0</td>\n",
       "      <td>(수집품 및 골동품)</td>\n",
       "    </tr>\n",
       "    <tr>\n",
       "      <th>13648</th>\n",
       "      <td>9706002000</td>\n",
       "      <td>2002-01-01</td>\n",
       "      <td>2021-12-31</td>\n",
       "      <td>악기류</td>\n",
       "      <td>Musical instruments</td>\n",
       "      <td>NaN</td>\n",
       "      <td>NaN</td>\n",
       "      <td>NaN</td>\n",
       "      <td>NaN</td>\n",
       "      <td>KG</td>\n",
       "      <td>3ZZ01</td>\n",
       "      <td>13901</td>\n",
       "      <td>NaN</td>\n",
       "      <td>NaN</td>\n",
       "      <td>NaN</td>\n",
       "      <td>NaN</td>\n",
       "      <td>NaN</td>\n",
       "      <td>12050201.0</td>\n",
       "      <td>(수집품 및 골동품)</td>\n",
       "    </tr>\n",
       "    <tr>\n",
       "      <th>13649</th>\n",
       "      <td>9706009000</td>\n",
       "      <td>2002-01-01</td>\n",
       "      <td>2021-12-31</td>\n",
       "      <td>기타</td>\n",
       "      <td>Other</td>\n",
       "      <td>NaN</td>\n",
       "      <td>NaN</td>\n",
       "      <td>NaN</td>\n",
       "      <td>NaN</td>\n",
       "      <td>KG</td>\n",
       "      <td>3ZZ01</td>\n",
       "      <td>13901</td>\n",
       "      <td>NaN</td>\n",
       "      <td>NaN</td>\n",
       "      <td>NaN</td>\n",
       "      <td>NaN</td>\n",
       "      <td>NaN</td>\n",
       "      <td>12050201.0</td>\n",
       "      <td>(수집품 및 골동품)</td>\n",
       "    </tr>\n",
       "  </tbody>\n",
       "</table>\n",
       "<p>13650 rows × 19 columns</p>\n",
       "</div>"
      ],
      "text/plain": [
       "             HS부호      적용시작일자      적용종료일자  \\\n",
       "0       101211000  2013-01-01  2021-12-31   \n",
       "1       101219000  2012-01-01  2021-12-31   \n",
       "2       101291000  2012-01-01  2021-12-31   \n",
       "3       101299000  2012-01-01  2021-12-31   \n",
       "4       101301000  2013-01-01  2021-12-31   \n",
       "...           ...         ...         ...   \n",
       "13645  9704009000  2002-01-01  2021-12-31   \n",
       "13646  9705000000  2013-01-01  2021-12-31   \n",
       "13647  9706001000  2002-01-01  2021-12-31   \n",
       "13648  9706002000  2002-01-01  2021-12-31   \n",
       "13649  9706009000  2002-01-01  2021-12-31   \n",
       "\n",
       "                                                   한글품목명  \\\n",
       "0                                                 농가 사육용   \n",
       "1                                                     기타   \n",
       "2                                                    경주말   \n",
       "3                                                     기타   \n",
       "4                                                    번식용   \n",
       "...                                                  ...   \n",
       "13645                                                 기타   \n",
       "13646  수집품과 표본[동물학ㆍ식물학ㆍ광물학ㆍ해부학ㆍ사학ㆍ고고학ㆍ고생물학ㆍ민족학ㆍ고전학(古錢...   \n",
       "13647                                               도자기류   \n",
       "13648                                                악기류   \n",
       "13649                                                 기타   \n",
       "\n",
       "                                                   영문품목명 한국표준무역분류명 수량단위최대단가  \\\n",
       "0                                      For farm breeding       NaN      NaN   \n",
       "1                                                  Other       NaN      NaN   \n",
       "2                                      Horses for racing       NaN      NaN   \n",
       "3                                                  Other       NaN      NaN   \n",
       "4                             Pure-bred breeding animals       NaN      NaN   \n",
       "...                                                  ...       ...      ...   \n",
       "13645                                              Other       NaN      NaN   \n",
       "13646  Collections and collectors＇ pieces of zoologic...       NaN      NaN   \n",
       "13647                                           Ceramics       NaN      NaN   \n",
       "13648                                Musical instruments       NaN      NaN   \n",
       "13649                                              Other       NaN      NaN   \n",
       "\n",
       "      중량단위최대단가 수량단위코드 중량단위코드 수출성질코드 수입성질코드 품목규격명 필수규격명 참고규격명 규격설명 규격사항내용  \\\n",
       "0          NaN      U     KG  11Z01  12399   NaN   NaN   NaN  NaN    NaN   \n",
       "1          NaN      U     KG  11Z01  12399   NaN   NaN   NaN  NaN    NaN   \n",
       "2          NaN      U     KG  11Z01  12399   NaN   NaN   NaN  NaN    NaN   \n",
       "3          NaN      U     KG  11Z01  12399   NaN   NaN   NaN  NaN    NaN   \n",
       "4          NaN      U     KG  11Z01  12399   NaN   NaN   NaN  NaN    NaN   \n",
       "...        ...    ...    ...    ...    ...   ...   ...   ...  ...    ...   \n",
       "13645      NaN    NaN     KG  3ZZ01  13901   NaN   NaN   NaN  NaN    NaN   \n",
       "13646      NaN    NaN     KG  3ZZ01  13901   NaN   NaN   NaN  NaN    NaN   \n",
       "13647      NaN    NaN     KG  3ZZ01  13901   NaN   NaN   NaN  NaN    NaN   \n",
       "13648      NaN    NaN     KG  3ZZ01  13901   NaN   NaN   NaN  NaN    NaN   \n",
       "13649      NaN    NaN     KG  3ZZ01  13901   NaN   NaN   NaN  NaN    NaN   \n",
       "\n",
       "         성질통합분류코드    성질통합분류코드명  \n",
       "0      11020101.0          (말)  \n",
       "1      11020101.0          (말)  \n",
       "2      11020101.0          (말)  \n",
       "3      11020101.0          (말)  \n",
       "4      11020190.0    (기타 산 동물)  \n",
       "...           ...          ...  \n",
       "13645  12050201.0  (수집품 및 골동품)  \n",
       "13646  12050201.0  (수집품 및 골동품)  \n",
       "13647  12050201.0  (수집품 및 골동품)  \n",
       "13648  12050201.0  (수집품 및 골동품)  \n",
       "13649  12050201.0  (수집품 및 골동품)  \n",
       "\n",
       "[13650 rows x 19 columns]"
      ]
     },
     "execution_count": 21,
     "metadata": {},
     "output_type": "execute_result"
    }
   ],
   "source": [
    "df"
   ]
  },
  {
   "cell_type": "code",
   "execution_count": 49,
   "metadata": {},
   "outputs": [
    {
     "name": "stdout",
     "output_type": "stream",
     "text": [
      "HS부호         object\n",
      "적용시작일자       object\n",
      "적용종료일자       object\n",
      "한글품목명        object\n",
      "영문품목명        object\n",
      "한국표준무역분류명    object\n",
      "수량단위최대단가     object\n",
      "중량단위최대단가     object\n",
      "수량단위코드       object\n",
      "중량단위코드       object\n",
      "수출성질코드       object\n",
      "수입성질코드       object\n",
      "품목규격명        object\n",
      "필수규격명        object\n",
      "참고규격명        object\n",
      "규격설명         object\n",
      "규격사항내용       object\n",
      "성질통합분류코드     object\n",
      "성질통합분류코드명    object\n",
      "dtype: object\n"
     ]
    }
   ],
   "source": [
    "print(df.dtypes)"
   ]
  },
  {
   "cell_type": "code",
   "execution_count": 23,
   "metadata": {},
   "outputs": [
    {
     "data": {
      "text/plain": [
       "0        False\n",
       "1        False\n",
       "2        False\n",
       "3        False\n",
       "4        False\n",
       "         ...  \n",
       "13645    False\n",
       "13646    False\n",
       "13647    False\n",
       "13648    False\n",
       "13649    False\n",
       "Length: 13650, dtype: bool"
      ]
     },
     "execution_count": 23,
     "metadata": {},
     "output_type": "execute_result"
    }
   ],
   "source": [
    "df.duplicated()"
   ]
  },
  {
   "cell_type": "code",
   "execution_count": 24,
   "metadata": {},
   "outputs": [
    {
     "data": {
      "text/plain": [
       "'0.5.2'"
      ]
     },
     "execution_count": 24,
     "metadata": {},
     "output_type": "execute_result"
    }
   ],
   "source": [
    "import warnings\n",
    "warnings.simplefilter(\"ignore\")\n",
    "\n",
    "import konlpy\n",
    "konlpy.__version__"
   ]
  },
  {
   "cell_type": "code",
   "execution_count": 25,
   "metadata": {},
   "outputs": [
    {
     "data": {
      "text/plain": [
       "['constitution.txt']"
      ]
     },
     "execution_count": 25,
     "metadata": {},
     "output_type": "execute_result"
    }
   ],
   "source": [
    "from konlpy.corpus import kolaw\n",
    "kolaw.fileids()"
   ]
  },
  {
   "cell_type": "code",
   "execution_count": 26,
   "metadata": {
    "scrolled": true
   },
   "outputs": [
    {
     "name": "stdout",
     "output_type": "stream",
     "text": [
      "대한민국헌법\n",
      "\n",
      "유구한 역사와 전통에 빛나는 우리 대한국민은 3·1운동으로\n"
     ]
    }
   ],
   "source": [
    "c = kolaw.open('constitution.txt').read()\n",
    "print(c[:40])"
   ]
  },
  {
   "cell_type": "code",
   "execution_count": 27,
   "metadata": {},
   "outputs": [
    {
     "data": {
      "text/plain": [
       "['1809890.txt',\n",
       " '1809891.txt',\n",
       " '1809892.txt',\n",
       " '1809893.txt',\n",
       " '1809894.txt',\n",
       " '1809895.txt',\n",
       " '1809896.txt',\n",
       " '1809897.txt',\n",
       " '1809898.txt',\n",
       " '1809899.txt']"
      ]
     },
     "execution_count": 27,
     "metadata": {},
     "output_type": "execute_result"
    }
   ],
   "source": [
    "from konlpy.corpus import kobill\n",
    "kobill.fileids()"
   ]
  },
  {
   "cell_type": "code",
   "execution_count": 28,
   "metadata": {},
   "outputs": [
    {
     "name": "stdout",
     "output_type": "stream",
     "text": [
      "지방공무원법 일부개정법률안\n",
      "\n",
      "(정의화의원 대표발의 )\n",
      "\n",
      " 의 안\n",
      " 번 호\n"
     ]
    }
   ],
   "source": [
    "d = kobill.open('1809890.txt').read()\n",
    "print(d[:40])"
   ]
  },
  {
   "cell_type": "markdown",
   "metadata": {},
   "source": [
    "from IPython.core.display import HTML\n",
    "HTML(\"<script>Jupyter.notebook.kernel.restart()</script>\")"
   ]
  },
  {
   "cell_type": "code",
   "execution_count": null,
   "metadata": {},
   "outputs": [],
   "source": [
    "%pip install --upgrade"
   ]
  },
  {
   "cell_type": "code",
   "execution_count": 29,
   "metadata": {},
   "outputs": [
    {
     "name": "stdout",
     "output_type": "stream",
     "text": [
      "Requirement already satisfied: konlpy in d:\\programdata\\anaconda3\\lib\\site-packages (0.5.2)\n",
      "Note: you may need to restart the kernel to use updated packages.\n"
     ]
    },
    {
     "name": "stderr",
     "output_type": "stream",
     "text": [
      "WARNING: Ignoring invalid distribution -pype1 (c:\\users\\limhanna\\appdata\\roaming\\python\\python38\\site-packages)\n",
      "WARNING: Ignoring invalid distribution -ip (d:\\programdata\\anaconda3\\lib\\site-packages)\n",
      "WARNING: Ignoring invalid distribution -illow (d:\\programdata\\anaconda3\\lib\\site-packages)\n",
      "WARNING: Ignoring invalid distribution -atplotlib (d:\\programdata\\anaconda3\\lib\\site-packages)\n",
      "WARNING: Ignoring invalid distribution -pype1 (c:\\users\\limhanna\\appdata\\roaming\\python\\python38\\site-packages)\n",
      "WARNING: Ignoring invalid distribution -ip (d:\\programdata\\anaconda3\\lib\\site-packages)\n",
      "WARNING: Ignoring invalid distribution -illow (d:\\programdata\\anaconda3\\lib\\site-packages)\n",
      "WARNING: Ignoring invalid distribution -atplotlib (d:\\programdata\\anaconda3\\lib\\site-packages)\n",
      "WARNING: Ignoring invalid distribution -pype1 (c:\\users\\limhanna\\appdata\\roaming\\python\\python38\\site-packages)\n",
      "WARNING: Ignoring invalid distribution -ip (d:\\programdata\\anaconda3\\lib\\site-packages)\n",
      "WARNING: Ignoring invalid distribution -illow (d:\\programdata\\anaconda3\\lib\\site-packages)\n",
      "WARNING: Ignoring invalid distribution -atplotlib (d:\\programdata\\anaconda3\\lib\\site-packages)\n",
      "WARNING: Ignoring invalid distribution -pype1 (c:\\users\\limhanna\\appdata\\roaming\\python\\python38\\site-packages)\n",
      "WARNING: Ignoring invalid distribution -ip (d:\\programdata\\anaconda3\\lib\\site-packages)\n"
     ]
    },
    {
     "name": "stdout",
     "output_type": "stream",
     "text": [
      "Requirement already satisfied: lxml>=4.1.0 in d:\\programdata\\anaconda3\\lib\\site-packages (from konlpy) (4.5.2)\n",
      "Requirement already satisfied: colorama in d:\\programdata\\anaconda3\\lib\\site-packages (from konlpy) (0.4.3)\n",
      "Requirement already satisfied: numpy>=1.6 in d:\\programdata\\anaconda3\\lib\\site-packages (from konlpy) (1.21.1)\n",
      "Requirement already satisfied: tweepy>=3.7.0 in d:\\programdata\\anaconda3\\lib\\site-packages (from konlpy) (3.10.0)\n",
      "Requirement already satisfied: beautifulsoup4==4.6.0 in d:\\programdata\\anaconda3\\lib\\site-packages (from konlpy) (4.6.0)\n",
      "Requirement already satisfied: JPype1>=0.7.0 in c:\\users\\limhanna\\appdata\\roaming\\python\\python38\\site-packages (from konlpy) (1.3.0)\n",
      "Requirement already satisfied: requests[socks]>=2.11.1 in d:\\programdata\\anaconda3\\lib\\site-packages (from tweepy>=3.7.0->konlpy) (2.24.0)\n",
      "Requirement already satisfied: requests-oauthlib>=0.7.0 in d:\\programdata\\anaconda3\\lib\\site-packages (from tweepy>=3.7.0->konlpy) (1.3.0)\n",
      "Requirement already satisfied: six>=1.10.0 in c:\\users\\limhanna\\appdata\\roaming\\python\\python38\\site-packages (from tweepy>=3.7.0->konlpy) (1.15.0)\n",
      "Requirement already satisfied: oauthlib>=3.0.0 in d:\\programdata\\anaconda3\\lib\\site-packages (from requests-oauthlib>=0.7.0->tweepy>=3.7.0->konlpy) (3.1.0)\n",
      "Requirement already satisfied: urllib3!=1.25.0,!=1.25.1,<1.26,>=1.21.1 in d:\\programdata\\anaconda3\\lib\\site-packages (from requests[socks]>=2.11.1->tweepy>=3.7.0->konlpy) (1.25.9)\n",
      "Requirement already satisfied: idna<3,>=2.5 in d:\\programdata\\anaconda3\\lib\\site-packages (from requests[socks]>=2.11.1->tweepy>=3.7.0->konlpy) (2.10)\n",
      "Requirement already satisfied: certifi>=2017.4.17 in d:\\programdata\\anaconda3\\lib\\site-packages (from requests[socks]>=2.11.1->tweepy>=3.7.0->konlpy) (2020.6.20)\n",
      "Requirement already satisfied: chardet<4,>=3.0.2 in d:\\programdata\\anaconda3\\lib\\site-packages (from requests[socks]>=2.11.1->tweepy>=3.7.0->konlpy) (3.0.4)\n",
      "Requirement already satisfied: PySocks!=1.5.7,>=1.5.6 in d:\\programdata\\anaconda3\\lib\\site-packages (from requests[socks]>=2.11.1->tweepy>=3.7.0->konlpy) (1.7.1)\n"
     ]
    },
    {
     "name": "stderr",
     "output_type": "stream",
     "text": [
      "WARNING: Ignoring invalid distribution -illow (d:\\programdata\\anaconda3\\lib\\site-packages)\n",
      "WARNING: Ignoring invalid distribution -atplotlib (d:\\programdata\\anaconda3\\lib\\site-packages)\n",
      "WARNING: Ignoring invalid distribution -pype1 (c:\\users\\limhanna\\appdata\\roaming\\python\\python38\\site-packages)\n",
      "WARNING: Ignoring invalid distribution -ip (d:\\programdata\\anaconda3\\lib\\site-packages)\n",
      "WARNING: Ignoring invalid distribution -illow (d:\\programdata\\anaconda3\\lib\\site-packages)\n",
      "WARNING: Ignoring invalid distribution -atplotlib (d:\\programdata\\anaconda3\\lib\\site-packages)\n"
     ]
    }
   ],
   "source": [
    "%pip install konlpy"
   ]
  },
  {
   "cell_type": "code",
   "execution_count": 39,
   "metadata": {},
   "outputs": [],
   "source": [
    "one=df['한글품목명']\n"
   ]
  },
  {
   "cell_type": "code",
   "execution_count": 30,
   "metadata": {},
   "outputs": [
    {
     "name": "stderr",
     "output_type": "stream",
     "text": [
      "UsageError: Line magic function `%bash` not found (But cell magic `%%bash` exists, did you mean that instead?).\n"
     ]
    }
   ],
   "source": [
    "%bash <(curl -s https://raw.githubusercontent.com/konlpy/konlpy/master/scripts/mecab.sh)"
   ]
  },
  {
   "cell_type": "code",
   "execution_count": 33,
   "metadata": {},
   "outputs": [],
   "source": [
    "from konlpy.tag import *\n",
    "\n",
    "hannanum = Hannanum()\n",
    "kkma = Kkma()\n",
    "komoran = Komoran()\n",
    "okt = Okt()"
   ]
  },
  {
   "cell_type": "code",
   "execution_count": 51,
   "metadata": {},
   "outputs": [
    {
     "data": {
      "text/plain": [
       "0               농가 사육용\n",
       "1                   기타\n",
       "2                  경주말\n",
       "3                   기타\n",
       "4                  번식용\n",
       "5                   기타\n",
       "6                   기타\n",
       "7                   젖소\n",
       "8               육우(肉牛)\n",
       "9                   기타\n",
       "10                  젖소\n",
       "11              육우(肉牛)\n",
       "12                  기타\n",
       "13                 번식용\n",
       "14                  젖소\n",
       "15              육우(肉牛)\n",
       "16                  기타\n",
       "17                 번식용\n",
       "18                  기타\n",
       "19                  젖소\n",
       "20              육우(肉牛)\n",
       "21                  기타\n",
       "22                 번식용\n",
       "23    중량이 50킬로그램 미만인 것\n",
       "24    중량이 50킬로그램 이상인 것\n",
       "25                 번식용\n",
       "26                  기타\n",
       "27                 젖산양\n",
       "28                  기타\n",
       "29                 번식용\n",
       "30                  기타\n",
       "31                 칠면조\n",
       "32                 번식용\n",
       "33                  기타\n",
       "34                  거위\n",
       "35                기니아새\n",
       "36                 번식용\n",
       "37                  기타\n",
       "38                  오리\n",
       "39                 번식용\n",
       "Name: 한글품목명, dtype: object"
      ]
     },
     "execution_count": 51,
     "metadata": {},
     "output_type": "execute_result"
    }
   ],
   "source": [
    "one[:40]"
   ]
  },
  {
   "cell_type": "code",
   "execution_count": 63,
   "metadata": {},
   "outputs": [],
   "source": [
    "from konlpy.tag import Kkma\n",
    "from konlpy.utils import pprint\n",
    "kkma = Kkma()\n",
    "text = []\n",
    "for i in range(0,50):\n",
    "    text += kkma.pos(one[i])"
   ]
  },
  {
   "cell_type": "code",
   "execution_count": 72,
   "metadata": {},
   "outputs": [
    {
     "data": {
      "text/plain": [
       "[('농가', 'NNG'),\n",
       " ('사육', 'NNG'),\n",
       " ('용', 'XSN'),\n",
       " ('기타', 'NNG'),\n",
       " ('경주', 'NNG'),\n",
       " ('말', 'NNG'),\n",
       " ('기타', 'NNG'),\n",
       " ('번식', 'NNG'),\n",
       " ('용', 'XSN'),\n",
       " ('기타', 'NNG'),\n",
       " ('기타', 'NNG'),\n",
       " ('젖소', 'NNG'),\n",
       " ('육우', 'NNG'),\n",
       " ('(', 'SS'),\n",
       " ('肉牛', 'OH'),\n",
       " (')', 'SS'),\n",
       " ('기타', 'NNG'),\n",
       " ('젖소', 'NNG'),\n",
       " ('육우', 'NNG'),\n",
       " ('(', 'SS'),\n",
       " ('肉牛', 'OH'),\n",
       " (')', 'SS'),\n",
       " ('기타', 'NNG'),\n",
       " ('번식', 'NNG'),\n",
       " ('용', 'XSN'),\n",
       " ('젖소', 'NNG'),\n",
       " ('육우', 'NNG'),\n",
       " ('(', 'SS'),\n",
       " ('肉牛', 'OH'),\n",
       " (')', 'SS'),\n",
       " ('기타', 'NNG'),\n",
       " ('번식', 'NNG'),\n",
       " ('용', 'XSN'),\n",
       " ('기타', 'NNG'),\n",
       " ('젖소', 'NNG'),\n",
       " ('육우', 'NNG'),\n",
       " ('(', 'SS'),\n",
       " ('肉牛', 'OH'),\n",
       " (')', 'SS'),\n",
       " ('기타', 'NNG'),\n",
       " ('번식', 'NNG'),\n",
       " ('용', 'XSN'),\n",
       " ('중량', 'NNG'),\n",
       " ('이', 'JKS'),\n",
       " ('50', 'NR'),\n",
       " ('킬로그램', 'NNM'),\n",
       " ('미만', 'NNG'),\n",
       " ('이', 'VCP'),\n",
       " ('ㄴ', 'ETD'),\n",
       " ('것', 'NNB'),\n",
       " ('중량', 'NNG'),\n",
       " ('이', 'JKS'),\n",
       " ('50', 'NR'),\n",
       " ('킬로그램', 'NNM'),\n",
       " ('이상', 'NNG'),\n",
       " ('이', 'VCP'),\n",
       " ('ㄴ', 'ETD'),\n",
       " ('것', 'NNB'),\n",
       " ('번식', 'NNG'),\n",
       " ('용', 'XSN'),\n",
       " ('기타', 'NNG'),\n",
       " ('젖산', 'NNG'),\n",
       " ('양', 'NNB'),\n",
       " ('기타', 'NNG'),\n",
       " ('번식', 'NNG'),\n",
       " ('용', 'XSN'),\n",
       " ('기타', 'NNG'),\n",
       " ('칠면조', 'NNG'),\n",
       " ('번식', 'NNG'),\n",
       " ('용', 'XSN'),\n",
       " ('기타', 'NNG'),\n",
       " ('거위', 'NNG'),\n",
       " ('기니아', 'NNG'),\n",
       " ('새', 'MDT'),\n",
       " ('번식', 'NNG'),\n",
       " ('용', 'XSN'),\n",
       " ('기타', 'NNG'),\n",
       " ('오리', 'NNG'),\n",
       " ('번식', 'NNG'),\n",
       " ('용', 'XSN'),\n",
       " ('기타', 'NNG'),\n",
       " ('칠면조', 'NNG'),\n",
       " ('기타', 'NNG'),\n",
       " ('영장류', 'NNG'),\n",
       " ('고래', 'NNG'),\n",
       " ('돌고래', 'NNG'),\n",
       " ('류', 'XSN'),\n",
       " ('(', 'SS'),\n",
       " ('고래', 'NNG'),\n",
       " ('목', 'NNG'),\n",
       " ('의', 'JKG'),\n",
       " ('포유동물', 'NNG'),\n",
       " (')', 'SS'),\n",
       " (',', 'SP'),\n",
       " ('바다소', 'NNG'),\n",
       " ('(', 'SS'),\n",
       " ('바다', 'NNG'),\n",
       " ('소목', 'NNG'),\n",
       " ('의', 'JKG'),\n",
       " ('포유동물', 'NNG'),\n",
       " (')', 'SS'),\n",
       " ('물개', 'NNG'),\n",
       " (',', 'SP'),\n",
       " ('바다', 'NNG'),\n",
       " ('사자', 'NNG'),\n",
       " ('와', 'JC'),\n",
       " ('바다', 'NNG'),\n",
       " ('코끼리', 'NNG'),\n",
       " ('(', 'SS'),\n",
       " ('기각', 'NNG'),\n",
       " ('아목', 'NNG'),\n",
       " ('의', 'JKG'),\n",
       " ('포유동물', 'NNG'),\n",
       " (')', 'SS'),\n",
       " ('낙타', 'NNG'),\n",
       " ('와', 'JC'),\n",
       " ('그', 'MDT'),\n",
       " ('밖', 'NNG'),\n",
       " ('의', 'JKG'),\n",
       " ('낙타과', 'NNG'),\n",
       " ('의', 'JKG'),\n",
       " ('동물', 'NNG'),\n",
       " ('[', 'SS'),\n",
       " ('카', 'VV'),\n",
       " ('아', 'ECS'),\n",
       " ('메', 'VV'),\n",
       " ('ㄹ', 'ETD'),\n",
       " ('리', 'NNB'),\n",
       " ('대', 'NNG'),\n",
       " ('(', 'SS'),\n",
       " ('Camelidae', 'OL'),\n",
       " (')', 'SS'),\n",
       " ('과', 'NNG'),\n",
       " (']', 'SS'),\n",
       " ('번식', 'NNG'),\n",
       " ('용', 'XSN'),\n",
       " ('기타', 'NNG'),\n",
       " ('개', 'NNG')]"
      ]
     },
     "execution_count": 72,
     "metadata": {},
     "output_type": "execute_result"
    }
   ],
   "source": [
    "text"
   ]
  },
  {
   "cell_type": "code",
   "execution_count": 68,
   "metadata": {},
   "outputs": [
    {
     "ename": "AttributeError",
     "evalue": "'list' object has no attribute 'words'",
     "output_type": "error",
     "traceback": [
      "\u001b[1;31m---------------------------------------------------------------------------\u001b[0m",
      "\u001b[1;31mAttributeError\u001b[0m                            Traceback (most recent call last)",
      "\u001b[1;32m<ipython-input-68-75a31d7c4f31>\u001b[0m in \u001b[0;36m<module>\u001b[1;34m\u001b[0m\n\u001b[1;32m----> 1\u001b[1;33m \u001b[0mtagged_tokens\u001b[0m \u001b[1;33m=\u001b[0m \u001b[0mtext\u001b[0m\u001b[1;33m.\u001b[0m\u001b[0mwords\u001b[0m\u001b[1;33m(\u001b[0m\u001b[0mtagged\u001b[0m\u001b[1;33m=\u001b[0m\u001b[1;32mTrue\u001b[0m\u001b[1;33m)\u001b[0m\u001b[1;33m\u001b[0m\u001b[1;33m\u001b[0m\u001b[0m\n\u001b[0m\u001b[0;32m      2\u001b[0m \u001b[0mprint\u001b[0m\u001b[1;33m(\u001b[0m\u001b[0mtagged_tokens\u001b[0m\u001b[1;33m[\u001b[0m\u001b[1;36m1\u001b[0m\u001b[1;33m]\u001b[0m\u001b[1;33m)\u001b[0m\u001b[1;33m\u001b[0m\u001b[1;33m\u001b[0m\u001b[0m\n",
      "\u001b[1;31mAttributeError\u001b[0m: 'list' object has no attribute 'words'"
     ]
    }
   ],
   "source": [
    "tagged_tokens = text.words(tagged=True) \n",
    "print(tagged_tokens[1])"
   ]
  },
  {
   "cell_type": "code",
   "execution_count": null,
   "metadata": {},
   "outputs": [],
   "source": []
  }
 ],
 "metadata": {
  "kernelspec": {
   "display_name": "Python 3",
   "language": "python",
   "name": "python3"
  },
  "language_info": {
   "codemirror_mode": {
    "name": "ipython",
    "version": 3
   },
   "file_extension": ".py",
   "mimetype": "text/x-python",
   "name": "python",
   "nbconvert_exporter": "python",
   "pygments_lexer": "ipython3",
   "version": "3.8.3"
  }
 },
 "nbformat": 4,
 "nbformat_minor": 4
}

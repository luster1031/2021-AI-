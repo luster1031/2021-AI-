{
 "cells": [
  {
   "cell_type": "code",
   "execution_count": 1,
   "metadata": {},
   "outputs": [],
   "source": [
    "import tensorflow as tf"
   ]
  },
  {
   "cell_type": "code",
   "execution_count": 2,
   "metadata": {},
   "outputs": [
    {
     "data": {
      "text/plain": [
       "<tf.Tensor: shape=(), dtype=float32, numpy=720.0249>"
      ]
     },
     "execution_count": 2,
     "metadata": {},
     "output_type": "execute_result"
    }
   ],
   "source": [
    "tf.reduce_sum(tf.random.normal([1000,1000]))"
   ]
  },
  {
   "cell_type": "code",
   "execution_count": 4,
   "metadata": {},
   "outputs": [],
   "source": [
    "from tensorflow import keras\n",
    "from tensorflow.keras.datasets import mnist"
   ]
  },
  {
   "cell_type": "code",
   "execution_count": 5,
   "metadata": {},
   "outputs": [
    {
     "name": "stdout",
     "output_type": "stream",
     "text": [
      "Downloading data from https://storage.googleapis.com/tensorflow/tf-keras-datasets/mnist.npz\n",
      "11493376/11490434 [==============================] - 3s 0us/step\n"
     ]
    },
    {
     "data": {
      "text/plain": [
       "((array([[[0, 0, 0, ..., 0, 0, 0],\n",
       "          [0, 0, 0, ..., 0, 0, 0],\n",
       "          [0, 0, 0, ..., 0, 0, 0],\n",
       "          ...,\n",
       "          [0, 0, 0, ..., 0, 0, 0],\n",
       "          [0, 0, 0, ..., 0, 0, 0],\n",
       "          [0, 0, 0, ..., 0, 0, 0]],\n",
       "  \n",
       "         [[0, 0, 0, ..., 0, 0, 0],\n",
       "          [0, 0, 0, ..., 0, 0, 0],\n",
       "          [0, 0, 0, ..., 0, 0, 0],\n",
       "          ...,\n",
       "          [0, 0, 0, ..., 0, 0, 0],\n",
       "          [0, 0, 0, ..., 0, 0, 0],\n",
       "          [0, 0, 0, ..., 0, 0, 0]],\n",
       "  \n",
       "         [[0, 0, 0, ..., 0, 0, 0],\n",
       "          [0, 0, 0, ..., 0, 0, 0],\n",
       "          [0, 0, 0, ..., 0, 0, 0],\n",
       "          ...,\n",
       "          [0, 0, 0, ..., 0, 0, 0],\n",
       "          [0, 0, 0, ..., 0, 0, 0],\n",
       "          [0, 0, 0, ..., 0, 0, 0]],\n",
       "  \n",
       "         ...,\n",
       "  \n",
       "         [[0, 0, 0, ..., 0, 0, 0],\n",
       "          [0, 0, 0, ..., 0, 0, 0],\n",
       "          [0, 0, 0, ..., 0, 0, 0],\n",
       "          ...,\n",
       "          [0, 0, 0, ..., 0, 0, 0],\n",
       "          [0, 0, 0, ..., 0, 0, 0],\n",
       "          [0, 0, 0, ..., 0, 0, 0]],\n",
       "  \n",
       "         [[0, 0, 0, ..., 0, 0, 0],\n",
       "          [0, 0, 0, ..., 0, 0, 0],\n",
       "          [0, 0, 0, ..., 0, 0, 0],\n",
       "          ...,\n",
       "          [0, 0, 0, ..., 0, 0, 0],\n",
       "          [0, 0, 0, ..., 0, 0, 0],\n",
       "          [0, 0, 0, ..., 0, 0, 0]],\n",
       "  \n",
       "         [[0, 0, 0, ..., 0, 0, 0],\n",
       "          [0, 0, 0, ..., 0, 0, 0],\n",
       "          [0, 0, 0, ..., 0, 0, 0],\n",
       "          ...,\n",
       "          [0, 0, 0, ..., 0, 0, 0],\n",
       "          [0, 0, 0, ..., 0, 0, 0],\n",
       "          [0, 0, 0, ..., 0, 0, 0]]], dtype=uint8),\n",
       "  array([5, 0, 4, ..., 5, 6, 8], dtype=uint8)),\n",
       " (array([[[0, 0, 0, ..., 0, 0, 0],\n",
       "          [0, 0, 0, ..., 0, 0, 0],\n",
       "          [0, 0, 0, ..., 0, 0, 0],\n",
       "          ...,\n",
       "          [0, 0, 0, ..., 0, 0, 0],\n",
       "          [0, 0, 0, ..., 0, 0, 0],\n",
       "          [0, 0, 0, ..., 0, 0, 0]],\n",
       "  \n",
       "         [[0, 0, 0, ..., 0, 0, 0],\n",
       "          [0, 0, 0, ..., 0, 0, 0],\n",
       "          [0, 0, 0, ..., 0, 0, 0],\n",
       "          ...,\n",
       "          [0, 0, 0, ..., 0, 0, 0],\n",
       "          [0, 0, 0, ..., 0, 0, 0],\n",
       "          [0, 0, 0, ..., 0, 0, 0]],\n",
       "  \n",
       "         [[0, 0, 0, ..., 0, 0, 0],\n",
       "          [0, 0, 0, ..., 0, 0, 0],\n",
       "          [0, 0, 0, ..., 0, 0, 0],\n",
       "          ...,\n",
       "          [0, 0, 0, ..., 0, 0, 0],\n",
       "          [0, 0, 0, ..., 0, 0, 0],\n",
       "          [0, 0, 0, ..., 0, 0, 0]],\n",
       "  \n",
       "         ...,\n",
       "  \n",
       "         [[0, 0, 0, ..., 0, 0, 0],\n",
       "          [0, 0, 0, ..., 0, 0, 0],\n",
       "          [0, 0, 0, ..., 0, 0, 0],\n",
       "          ...,\n",
       "          [0, 0, 0, ..., 0, 0, 0],\n",
       "          [0, 0, 0, ..., 0, 0, 0],\n",
       "          [0, 0, 0, ..., 0, 0, 0]],\n",
       "  \n",
       "         [[0, 0, 0, ..., 0, 0, 0],\n",
       "          [0, 0, 0, ..., 0, 0, 0],\n",
       "          [0, 0, 0, ..., 0, 0, 0],\n",
       "          ...,\n",
       "          [0, 0, 0, ..., 0, 0, 0],\n",
       "          [0, 0, 0, ..., 0, 0, 0],\n",
       "          [0, 0, 0, ..., 0, 0, 0]],\n",
       "  \n",
       "         [[0, 0, 0, ..., 0, 0, 0],\n",
       "          [0, 0, 0, ..., 0, 0, 0],\n",
       "          [0, 0, 0, ..., 0, 0, 0],\n",
       "          ...,\n",
       "          [0, 0, 0, ..., 0, 0, 0],\n",
       "          [0, 0, 0, ..., 0, 0, 0],\n",
       "          [0, 0, 0, ..., 0, 0, 0]]], dtype=uint8),\n",
       "  array([7, 2, 1, ..., 4, 5, 6], dtype=uint8)))"
      ]
     },
     "execution_count": 5,
     "metadata": {},
     "output_type": "execute_result"
    }
   ],
   "source": [
    "mnist.load_data()"
   ]
  },
  {
   "cell_type": "code",
   "execution_count": 6,
   "metadata": {},
   "outputs": [],
   "source": [
    "(train_images, train_labels), (test_images, test_labels) = mnist.load_data()"
   ]
  },
  {
   "cell_type": "code",
   "execution_count": 7,
   "metadata": {},
   "outputs": [
    {
     "data": {
      "text/plain": [
       "3"
      ]
     },
     "execution_count": 7,
     "metadata": {},
     "output_type": "execute_result"
    }
   ],
   "source": [
    "train_images.ndim"
   ]
  },
  {
   "cell_type": "code",
   "execution_count": 8,
   "metadata": {},
   "outputs": [
    {
     "data": {
      "text/plain": [
       "dtype('uint8')"
      ]
     },
     "execution_count": 8,
     "metadata": {},
     "output_type": "execute_result"
    }
   ],
   "source": [
    "train_images.dtype"
   ]
  },
  {
   "cell_type": "code",
   "execution_count": 9,
   "metadata": {},
   "outputs": [
    {
     "data": {
      "text/plain": [
       "(60000, 28, 28)"
      ]
     },
     "execution_count": 9,
     "metadata": {},
     "output_type": "execute_result"
    }
   ],
   "source": [
    "train_images.shape"
   ]
  },
  {
   "cell_type": "code",
   "execution_count": 18,
   "metadata": {},
   "outputs": [],
   "source": [
    "digit=train_images[5]"
   ]
  },
  {
   "cell_type": "code",
   "execution_count": 19,
   "metadata": {},
   "outputs": [
    {
     "data": {
      "image/png": "[encoded data removed]",
      "text/plain": [
       "<Figure size 432x288 with 1 Axes>"
      ]
     },
     "metadata": {
      "needs_background": "light"
     },
     "output_type": "display_data"
    }
   ],
   "source": [
    "import matplotlib.pyplot as plt\n",
    "plt.imshow(digit, cmap = 'gray')\n",
    "plt.show()"
   ]
  },
  {
   "cell_type": "code",
   "execution_count": 15,
   "metadata": {},
   "outputs": [
    {
     "ename": "NameError",
     "evalue": "name 'digit' is not defined",
     "output_type": "error",
     "traceback": [
      "\u001b[1;31m---------------------------------------------------------------------------\u001b[0m",
      "\u001b[1;31mNameError\u001b[0m                                 Traceback (most recent call last)",
      "\u001b[1;32m<ipython-input-15-288ae90eabd0>\u001b[0m in \u001b[0;36m<module>\u001b[1;34m\u001b[0m\n\u001b[1;32m----> 1\u001b[1;33m \u001b[0mdigit\u001b[0m\u001b[1;33m\u001b[0m\u001b[1;33m\u001b[0m\u001b[0m\n\u001b[0m",
      "\u001b[1;31mNameError\u001b[0m: name 'digit' is not defined"
     ]
    }
   ],
   "source": [
    "digit"
   ]
  },
  {
   "cell_type": "code",
   "execution_count": 26,
   "metadata": {},
   "outputs": [
    {
     "name": "stdout",
     "output_type": "stream",
     "text": [
      "(60000, 21, 21)\n"
     ]
    }
   ],
   "source": [
    "my_slice = train_images[:, :-7, :-7]\n",
    "\n",
    "# my_slice = train_images[11:101, 0:28, 0:28] 같다\n",
    "#my_slice = train_images[11:101]\n",
    "print(my_slice.shape)"
   ]
  },
  {
   "cell_type": "code",
   "execution_count": 32,
   "metadata": {},
   "outputs": [
    {
     "data": {
      "image/png": "[encoded data removed]",
      "text/plain": [
       "<Figure size 432x288 with 1 Axes>"
      ]
     },
     "metadata": {
      "needs_background": "light"
     },
     "output_type": "display_data"
    }
   ],
   "source": [
    "plt.imshow(my_slice[4], cmap = 'gray')\n",
    "plt.show()"
   ]
  },
  {
   "cell_type": "markdown",
   "metadata": {},
   "source": [
    "## 배치 데이터"
   ]
  },
  {
   "cell_type": "code",
   "execution_count": 33,
   "metadata": {},
   "outputs": [],
   "source": [
    "batch = train_images[:128]"
   ]
  },
  {
   "cell_type": "code",
   "execution_count": 34,
   "metadata": {},
   "outputs": [],
   "source": [
    "batch2 = train_images[128:256]"
   ]
  },
  {
   "cell_type": "code",
   "execution_count": 36,
   "metadata": {},
   "outputs": [],
   "source": [
    "# n 번째 배치\n",
    "n = 3\n",
    "batch3 = train_images[128*n:128*(n+1)]"
   ]
  },
  {
   "cell_type": "markdown",
   "metadata": {},
   "source": [
    "# 2차원 : 벡터 데이터\n",
    "(samples, features)\n",
    "\n",
    "# 3차원 : 시계열 데이터, sequence data\n",
    "(samples, timesteps, features)\n",
    "(10000000, 280, 128)\n",
    "\n",
    "# 4차원 : 영상 - channels 들어감\n",
    "(samples, height, width, channels), (samples, channels, height, width)\n",
    "channel last (128, 256, 256, 3) --> tensorflow\n",
    "channel first (128, 3, 256, 256) --> pytorch, Theano\n",
    "channel first or last 선택 가능 --> \n",
    "\n",
    "\n",
    "# 5차원 : 동영상- frames 들어감\n",
    "(samples, frames, height, width, channels)\n",
    "(4, 240, 144, 256, 3)"
   ]
  },
  {
   "cell_type": "code",
   "execution_count": 37,
   "metadata": {},
   "outputs": [
    {
     "data": {
      "text/plain": [
       "35840000000"
      ]
     },
     "execution_count": 37,
     "metadata": {},
     "output_type": "execute_result"
    }
   ],
   "source": [
    "1000000 * 280 *128"
   ]
  },
  {
   "cell_type": "code",
   "execution_count": 40,
   "metadata": {},
   "outputs": [
    {
     "data": {
      "text/plain": [
       "106168320"
      ]
     },
     "execution_count": 40,
     "metadata": {},
     "output_type": "execute_result"
    }
   ],
   "source": [
    "4 * 240 * 144 * 256 *3\n",
    "# 저기서 * 32해야 비트 "
   ]
  },
  {
   "cell_type": "code",
   "execution_count": null,
   "metadata": {},
   "outputs": [],
   "source": []
  },
  {
   "cell_type": "code",
   "execution_count": 41,
   "metadata": {},
   "outputs": [],
   "source": [
    "from tensorflow.keras.models import Sequential\n",
    "from tensorflow.keras.layers import Dense\n",
    "from tensorflow.keras import optimizers\n",
    "import numpy as np"
   ]
  },
  {
   "cell_type": "code",
   "execution_count": 42,
   "metadata": {},
   "outputs": [],
   "source": [
    "공부시간 = np.array([1,2,3,4,5,6])\n",
    "점수 = np.array([10,21,30,40,51,60])"
   ]
  },
  {
   "cell_type": "code",
   "execution_count": 43,
   "metadata": {},
   "outputs": [],
   "source": [
    "# 모델 구성\n",
    "\n",
    "model = Sequential()\n",
    "# Dense : 입력값과 출력값 연결 된 것\n",
    "# input값 하나, 출력값 하나\n",
    "model.add(Dense(1, input_dim  = 1, activation = 'linear'))"
   ]
  },
  {
   "cell_type": "code",
   "execution_count": 47,
   "metadata": {},
   "outputs": [],
   "source": [
    "#컴파일\n",
    "# 알파값 0.01\n",
    "sgd = optimizers.SGD(learning_rate = 0.01)\n",
    "model.compile(optimizer=sgd, loss = 'mse',metrics =['accuracy'])"
   ]
  },
  {
   "cell_type": "code",
   "execution_count": 49,
   "metadata": {},
   "outputs": [
    {
     "name": "stdout",
     "output_type": "stream",
     "text": [
      "Epoch 1/100\n",
      "6/6 [==============================] - 0s 1ms/step - loss: 162.7939 - accuracy: 0.0000e+00\n",
      "Epoch 2/100\n",
      "6/6 [==============================] - 0s 1ms/step - loss: 1.2143 - accuracy: 0.0000e+00\n",
      "Epoch 3/100\n",
      "6/6 [==============================] - 0s 2ms/step - loss: 0.9375 - accuracy: 0.0000e+00\n",
      "Epoch 4/100\n",
      "6/6 [==============================] - 0s 1ms/step - loss: 0.9261 - accuracy: 0.0000e+00\n",
      "Epoch 5/100\n",
      "6/6 [==============================] - 0s 2ms/step - loss: 0.9007 - accuracy: 0.0000e+00\n",
      "Epoch 6/100\n",
      "6/6 [==============================] - 0s 2ms/step - loss: 0.8755 - accuracy: 0.0000e+00\n",
      "Epoch 7/100\n",
      "6/6 [==============================] - 0s 1ms/step - loss: 0.8515 - accuracy: 0.0000e+00\n",
      "Epoch 8/100\n",
      "6/6 [==============================] - 0s 2ms/step - loss: 0.8285 - accuracy: 0.0000e+00\n",
      "Epoch 9/100\n",
      "6/6 [==============================] - 0s 2ms/step - loss: 0.8065 - accuracy: 0.0000e+00\n",
      "Epoch 10/100\n",
      "6/6 [==============================] - 0s 2ms/step - loss: 0.7855 - accuracy: 0.0000e+00\n",
      "Epoch 11/100\n",
      "6/6 [==============================] - 0s 2ms/step - loss: 0.7655 - accuracy: 0.0000e+00\n",
      "Epoch 12/100\n",
      "6/6 [==============================] - 0s 1ms/step - loss: 0.7464 - accuracy: 0.0000e+00\n",
      "Epoch 13/100\n",
      "6/6 [==============================] - 0s 1ms/step - loss: 0.7281 - accuracy: 0.0000e+00\n",
      "Epoch 14/100\n",
      "6/6 [==============================] - 0s 2ms/step - loss: 0.7106 - accuracy: 0.0000e+00\n",
      "Epoch 15/100\n",
      "6/6 [==============================] - 0s 2ms/step - loss: 0.6939 - accuracy: 0.0000e+00\n",
      "Epoch 16/100\n",
      "6/6 [==============================] - 0s 2ms/step - loss: 0.6780 - accuracy: 0.0000e+00\n",
      "Epoch 17/100\n",
      "6/6 [==============================] - 0s 2ms/step - loss: 0.6628 - accuracy: 0.0000e+00\n",
      "Epoch 18/100\n",
      "6/6 [==============================] - 0s 1ms/step - loss: 0.6482 - accuracy: 0.0000e+00\n",
      "Epoch 19/100\n",
      "6/6 [==============================] - 0s 2ms/step - loss: 0.6343 - accuracy: 0.0000e+00\n",
      "Epoch 20/100\n",
      "6/6 [==============================] - 0s 2ms/step - loss: 0.6210 - accuracy: 0.0000e+00\n",
      "Epoch 21/100\n",
      "6/6 [==============================] - 0s 2ms/step - loss: 0.6083 - accuracy: 0.0000e+00\n",
      "Epoch 22/100\n",
      "6/6 [==============================] - 0s 2ms/step - loss: 0.5962 - accuracy: 0.0000e+00\n",
      "Epoch 23/100\n",
      "6/6 [==============================] - 0s 1ms/step - loss: 0.5846 - accuracy: 0.0000e+00\n",
      "Epoch 24/100\n",
      "6/6 [==============================] - 0s 2ms/step - loss: 0.5736 - accuracy: 0.0000e+00\n",
      "Epoch 25/100\n",
      "6/6 [==============================] - 0s 3ms/step - loss: 0.5630 - accuracy: 0.0000e+00\n",
      "Epoch 26/100\n",
      "6/6 [==============================] - 0s 2ms/step - loss: 0.5529 - accuracy: 0.0000e+00\n",
      "Epoch 27/100\n",
      "6/6 [==============================] - 0s 2ms/step - loss: 0.5432 - accuracy: 0.0000e+00\n",
      "Epoch 28/100\n",
      "6/6 [==============================] - 0s 1ms/step - loss: 0.5340 - accuracy: 0.0000e+00\n",
      "Epoch 29/100\n",
      "6/6 [==============================] - 0s 2ms/step - loss: 0.5252 - accuracy: 0.0000e+00\n",
      "Epoch 30/100\n",
      "6/6 [==============================] - 0s 2ms/step - loss: 0.5168 - accuracy: 0.0000e+00\n",
      "Epoch 31/100\n",
      "6/6 [==============================] - 0s 1ms/step - loss: 0.5087 - accuracy: 0.0000e+00\n",
      "Epoch 32/100\n",
      "6/6 [==============================] - 0s 1ms/step - loss: 0.5010 - accuracy: 0.0000e+00\n",
      "Epoch 33/100\n",
      "6/6 [==============================] - 0s 2ms/step - loss: 0.4937 - accuracy: 0.0000e+00\n",
      "Epoch 34/100\n",
      "6/6 [==============================] - 0s 1ms/step - loss: 0.4866 - accuracy: 0.0000e+00\n",
      "Epoch 35/100\n",
      "6/6 [==============================] - 0s 2ms/step - loss: 0.4799 - accuracy: 0.0000e+00\n",
      "Epoch 36/100\n",
      "6/6 [==============================] - 0s 2ms/step - loss: 0.4735 - accuracy: 0.0000e+00\n",
      "Epoch 37/100\n",
      "6/6 [==============================] - 0s 2ms/step - loss: 0.4674 - accuracy: 0.0000e+00\n",
      "Epoch 38/100\n",
      "6/6 [==============================] - 0s 2ms/step - loss: 0.4615 - accuracy: 0.0000e+00\n",
      "Epoch 39/100\n",
      "6/6 [==============================] - 0s 1ms/step - loss: 0.4559 - accuracy: 0.0000e+00\n",
      "Epoch 40/100\n",
      "6/6 [==============================] - 0s 2ms/step - loss: 0.4505 - accuracy: 0.0000e+00\n",
      "Epoch 41/100\n",
      "6/6 [==============================] - 0s 2ms/step - loss: 0.4454 - accuracy: 0.0000e+00\n",
      "Epoch 42/100\n",
      "6/6 [==============================] - 0s 1ms/step - loss: 0.4405 - accuracy: 0.0000e+00\n",
      "Epoch 43/100\n",
      "6/6 [==============================] - 0s 2ms/step - loss: 0.4358 - accuracy: 0.0000e+00\n",
      "Epoch 44/100\n",
      "6/6 [==============================] - 0s 1ms/step - loss: 0.4313 - accuracy: 0.0000e+00\n",
      "Epoch 45/100\n",
      "6/6 [==============================] - 0s 1ms/step - loss: 0.4270 - accuracy: 0.0000e+00\n",
      "Epoch 46/100\n",
      "6/6 [==============================] - 0s 2ms/step - loss: 0.4229 - accuracy: 0.0000e+00\n",
      "Epoch 47/100\n",
      "6/6 [==============================] - 0s 1ms/step - loss: 0.4190 - accuracy: 0.0000e+00\n",
      "Epoch 48/100\n",
      "6/6 [==============================] - 0s 2ms/step - loss: 0.4152 - accuracy: 0.0000e+00\n",
      "Epoch 49/100\n",
      "6/6 [==============================] - 0s 997us/step - loss: 0.4117 - accuracy: 0.0000e+00\n",
      "Epoch 50/100\n",
      "6/6 [==============================] - 0s 2ms/step - loss: 0.4082 - accuracy: 0.0000e+00\n",
      "Epoch 51/100\n",
      "6/6 [==============================] - 0s 1ms/step - loss: 0.4050 - accuracy: 0.0000e+00\n",
      "Epoch 52/100\n",
      "6/6 [==============================] - 0s 2ms/step - loss: 0.4018 - accuracy: 0.0000e+00\n",
      "Epoch 53/100\n",
      "6/6 [==============================] - 0s 1ms/step - loss: 0.3988 - accuracy: 0.0000e+00\n",
      "Epoch 54/100\n",
      "6/6 [==============================] - 0s 2ms/step - loss: 0.3959 - accuracy: 0.0000e+00\n",
      "Epoch 55/100\n",
      "6/6 [==============================] - 0s 2ms/step - loss: 0.3932 - accuracy: 0.0000e+00\n",
      "Epoch 56/100\n",
      "6/6 [==============================] - 0s 2ms/step - loss: 0.3906 - accuracy: 0.0000e+00\n",
      "Epoch 57/100\n",
      "6/6 [==============================] - 0s 1ms/step - loss: 0.3881 - accuracy: 0.0000e+00\n",
      "Epoch 58/100\n",
      "6/6 [==============================] - 0s 2ms/step - loss: 0.3856 - accuracy: 0.0000e+00\n",
      "Epoch 59/100\n",
      "6/6 [==============================] - 0s 1ms/step - loss: 0.3833 - accuracy: 0.0000e+00\n",
      "Epoch 60/100\n",
      "6/6 [==============================] - 0s 1ms/step - loss: 0.3811 - accuracy: 0.0000e+00\n",
      "Epoch 61/100\n",
      "6/6 [==============================] - 0s 2ms/step - loss: 0.3790 - accuracy: 0.0000e+00\n",
      "Epoch 62/100\n",
      "6/6 [==============================] - 0s 2ms/step - loss: 0.3770 - accuracy: 0.0000e+00\n",
      "Epoch 63/100\n",
      "6/6 [==============================] - 0s 2ms/step - loss: 0.3751 - accuracy: 0.0000e+00\n",
      "Epoch 64/100\n",
      "6/6 [==============================] - 0s 2ms/step - loss: 0.3732 - accuracy: 0.0000e+00\n",
      "Epoch 65/100\n",
      "6/6 [==============================] - 0s 1ms/step - loss: 0.3715 - accuracy: 0.0000e+00\n",
      "Epoch 66/100\n",
      "6/6 [==============================] - 0s 4ms/step - loss: 0.3698 - accuracy: 0.0000e+00\n",
      "Epoch 67/100\n",
      "6/6 [==============================] - 0s 3ms/step - loss: 0.3682 - accuracy: 0.0000e+00\n",
      "Epoch 68/100\n",
      "6/6 [==============================] - 0s 2ms/step - loss: 0.3666 - accuracy: 0.0000e+00\n",
      "Epoch 69/100\n",
      "6/6 [==============================] - 0s 2ms/step - loss: 0.3651 - accuracy: 0.0000e+00\n",
      "Epoch 70/100\n",
      "6/6 [==============================] - 0s 2ms/step - loss: 0.3637 - accuracy: 0.0000e+00\n",
      "Epoch 71/100\n",
      "6/6 [==============================] - 0s 1ms/step - loss: 0.3623 - accuracy: 0.0000e+00\n",
      "Epoch 72/100\n",
      "6/6 [==============================] - 0s 1ms/step - loss: 0.3610 - accuracy: 0.0000e+00\n",
      "Epoch 73/100\n",
      "6/6 [==============================] - 0s 2ms/step - loss: 0.3598 - accuracy: 0.0000e+00\n",
      "Epoch 74/100\n",
      "6/6 [==============================] - 0s 2ms/step - loss: 0.3586 - accuracy: 0.0000e+00\n",
      "Epoch 75/100\n",
      "6/6 [==============================] - 0s 2ms/step - loss: 0.3574 - accuracy: 0.0000e+00\n",
      "Epoch 76/100\n",
      "6/6 [==============================] - 0s 1ms/step - loss: 0.3563 - accuracy: 0.0000e+00\n",
      "Epoch 77/100\n",
      "6/6 [==============================] - 0s 2ms/step - loss: 0.3553 - accuracy: 0.0000e+00\n",
      "Epoch 78/100\n",
      "6/6 [==============================] - 0s 2ms/step - loss: 0.3543 - accuracy: 0.0000e+00\n",
      "Epoch 79/100\n",
      "6/6 [==============================] - 0s 2ms/step - loss: 0.3533 - accuracy: 0.0000e+00\n",
      "Epoch 80/100\n",
      "6/6 [==============================] - 0s 2ms/step - loss: 0.3524 - accuracy: 0.0000e+00\n",
      "Epoch 81/100\n"
     ]
    },
    {
     "name": "stdout",
     "output_type": "stream",
     "text": [
      "6/6 [==============================] - 0s 2ms/step - loss: 0.3515 - accuracy: 0.0000e+00\n",
      "Epoch 82/100\n",
      "6/6 [==============================] - 0s 1ms/step - loss: 0.3506 - accuracy: 0.0000e+00\n",
      "Epoch 83/100\n",
      "6/6 [==============================] - 0s 2ms/step - loss: 0.3498 - accuracy: 0.0000e+00\n",
      "Epoch 84/100\n",
      "6/6 [==============================] - 0s 2ms/step - loss: 0.3490 - accuracy: 0.0000e+00\n",
      "Epoch 85/100\n",
      "6/6 [==============================] - 0s 2ms/step - loss: 0.3483 - accuracy: 0.0000e+00\n",
      "Epoch 86/100\n",
      "6/6 [==============================] - 0s 2ms/step - loss: 0.3476 - accuracy: 0.0000e+00\n",
      "Epoch 87/100\n",
      "6/6 [==============================] - 0s 1ms/step - loss: 0.3469 - accuracy: 0.0000e+00\n",
      "Epoch 88/100\n",
      "6/6 [==============================] - 0s 1ms/step - loss: 0.3462 - accuracy: 0.0000e+00\n",
      "Epoch 89/100\n",
      "6/6 [==============================] - 0s 2ms/step - loss: 0.3456 - accuracy: 0.0000e+00\n",
      "Epoch 90/100\n",
      "6/6 [==============================] - 0s 2ms/step - loss: 0.3450 - accuracy: 0.0000e+00\n",
      "Epoch 91/100\n",
      "6/6 [==============================] - 0s 1ms/step - loss: 0.3444 - accuracy: 0.0000e+00\n",
      "Epoch 92/100\n",
      "6/6 [==============================] - 0s 1ms/step - loss: 0.3439 - accuracy: 0.0000e+00\n",
      "Epoch 93/100\n",
      "6/6 [==============================] - 0s 1ms/step - loss: 0.3433 - accuracy: 0.0000e+00\n",
      "Epoch 94/100\n",
      "6/6 [==============================] - 0s 2ms/step - loss: 0.3428 - accuracy: 0.0000e+00\n",
      "Epoch 95/100\n",
      "6/6 [==============================] - 0s 2ms/step - loss: 0.3423 - accuracy: 0.0000e+00\n",
      "Epoch 96/100\n",
      "6/6 [==============================] - 0s 1ms/step - loss: 0.3418 - accuracy: 0.0000e+00\n",
      "Epoch 97/100\n",
      "6/6 [==============================] - 0s 2ms/step - loss: 0.3414 - accuracy: 0.0000e+00\n",
      "Epoch 98/100\n",
      "6/6 [==============================] - 0s 2ms/step - loss: 0.3409 - accuracy: 0.0000e+00\n",
      "Epoch 99/100\n",
      "6/6 [==============================] - 0s 2ms/step - loss: 0.3405 - accuracy: 0.0000e+00\n",
      "Epoch 100/100\n",
      "6/6 [==============================] - 0s 1ms/step - loss: 0.3401 - accuracy: 0.0000e+00\n"
     ]
    },
    {
     "data": {
      "text/plain": [
       "<tensorflow.python.keras.callbacks.History at 0x1c134b1e7c0>"
      ]
     },
     "execution_count": 49,
     "metadata": {},
     "output_type": "execute_result"
    }
   ],
   "source": [
    "# 100번 학습\n",
    "model.fit(공부시간, 점수,epochs = 100, batch_size = 1, shuffle = False)"
   ]
  },
  {
   "cell_type": "code",
   "execution_count": 51,
   "metadata": {},
   "outputs": [
    {
     "name": "stdout",
     "output_type": "stream",
     "text": [
      "예측한 결과 : [[70.05451]]\n",
      "파라미터 수 :  2\n"
     ]
    }
   ],
   "source": [
    "print('예측한 결과 :', model.predict([7]))\n",
    "print('파라미터 수 : ', model.count_params())"
   ]
  },
  {
   "cell_type": "code",
   "execution_count": null,
   "metadata": {},
   "outputs": [],
   "source": [
    "# 피처가 n = 6개\n",
    "x1= np.array([1,2,3,4,5,6])\n",
    "x2\n",
    "x3\n",
    "x4\n",
    "x5\n",
    "x6\n",
    "y = np.array([10,21,30,40,51,60])\n",
    "\n",
    "# 입력층과 출력층 하나 밖에 없음\n",
    "model.add(Dense(1, input_dim  = 6, activation = 'linear'))\n",
    "\n",
    "#count_params() 는 7개\n",
    "\n"
   ]
  },
  {
   "cell_type": "code",
   "execution_count": 114,
   "metadata": {},
   "outputs": [],
   "source": [
    "from tensorflow.keras.datasets import boston_housing"
   ]
  },
  {
   "cell_type": "code",
   "execution_count": 115,
   "metadata": {},
   "outputs": [],
   "source": [
    "import pandas as pd\n",
    "import matplotlib.pyplot as plt"
   ]
  },
  {
   "cell_type": "code",
   "execution_count": 116,
   "metadata": {},
   "outputs": [],
   "source": [
    "(train_data, train_targets), (test_data, test_targets) = boston_housing.load_data()"
   ]
  },
  {
   "cell_type": "code",
   "execution_count": 117,
   "metadata": {},
   "outputs": [
    {
     "data": {
      "text/plain": [
       "(404, 13)"
      ]
     },
     "execution_count": 117,
     "metadata": {},
     "output_type": "execute_result"
    }
   ],
   "source": [
    "train_data.shape"
   ]
  },
  {
   "cell_type": "code",
   "execution_count": 118,
   "metadata": {},
   "outputs": [
    {
     "data": {
      "text/plain": [
       "(102, 13)"
      ]
     },
     "execution_count": 118,
     "metadata": {},
     "output_type": "execute_result"
    }
   ],
   "source": [
    "test_data.shape"
   ]
  },
  {
   "cell_type": "code",
   "execution_count": 119,
   "metadata": {},
   "outputs": [],
   "source": [
    "mean = train_data.mean(axis = 0)\n",
    "train_data -= mean\n",
    "std = train_data.std(axis = 0)\n",
    "train_data /= std\n",
    "\n",
    "test_data -= mean\n",
    "test_data /= std"
   ]
  },
  {
   "cell_type": "code",
   "execution_count": 120,
   "metadata": {},
   "outputs": [
    {
     "data": {
      "text/plain": [
       "13"
      ]
     },
     "execution_count": 120,
     "metadata": {},
     "output_type": "execute_result"
    }
   ],
   "source": [
    "train_data.shape[1]"
   ]
  },
  {
   "cell_type": "code",
   "execution_count": 121,
   "metadata": {},
   "outputs": [],
   "source": [
    "from keras import models\n",
    "from keras import layers\n",
    "\n",
    "def build_model():\n",
    "    model = models.Sequential()\n",
    "    model.add(layers.Dense(64, activation = 'relu', input_shape = (train_data.shape[1],)))\n",
    "    model.add(layers.Dense(1))\n",
    "    model.compile(optimizer='rmsprop', loss='mse', metrics=['mae'])\n",
    "    return model"
   ]
  },
  {
   "cell_type": "code",
   "execution_count": 122,
   "metadata": {},
   "outputs": [
    {
     "data": {
      "text/plain": [
       "array([15.2, 42.3, 50. , 21.1, 17.7, 18.5, 11.3, 15.6, 15.6, 14.4, 12.1,\n",
       "       17.9, 23.1, 19.9, 15.7,  8.8, 50. , 22.5, 24.1, 27.5, 10.9, 30.8,\n",
       "       32.9, 24. , 18.5, 13.3, 22.9, 34.7, 16.6, 17.5, 22.3, 16.1, 14.9,\n",
       "       23.1, 34.9, 25. , 13.9, 13.1, 20.4, 20. , 15.2, 24.7, 22.2, 16.7,\n",
       "       12.7, 15.6, 18.4, 21. , 30.1, 15.1, 18.7,  9.6, 31.5, 24.8, 19.1,\n",
       "       22. , 14.5, 11. , 32. , 29.4, 20.3, 24.4, 14.6, 19.5, 14.1, 14.3,\n",
       "       15.6, 10.5,  6.3, 19.3, 19.3, 13.4, 36.4, 17.8, 13.5, 16.5,  8.3,\n",
       "       14.3, 16. , 13.4, 28.6, 43.5, 20.2, 22. , 23. , 20.7, 12.5, 48.5,\n",
       "       14.6, 13.4, 23.7, 50. , 21.7, 39.8, 38.7, 22.2, 34.9, 22.5, 31.1,\n",
       "       28.7, 46. , 41.7, 21. , 26.6, 15. , 24.4, 13.3, 21.2, 11.7, 21.7,\n",
       "       19.4, 50. , 22.8, 19.7, 24.7, 36.2, 14.2, 18.9, 18.3, 20.6, 24.6,\n",
       "       18.2,  8.7, 44. , 10.4, 13.2, 21.2, 37. , 30.7, 22.9, 20. , 19.3,\n",
       "       31.7, 32. , 23.1, 18.8, 10.9, 50. , 19.6,  5. , 14.4, 19.8, 13.8,\n",
       "       19.6, 23.9, 24.5, 25. , 19.9, 17.2, 24.6, 13.5, 26.6, 21.4, 11.9,\n",
       "       22.6, 19.6,  8.5, 23.7, 23.1, 22.4, 20.5, 23.6, 18.4, 35.2, 23.1,\n",
       "       27.9, 20.6, 23.7, 28. , 13.6, 27.1, 23.6, 20.6, 18.2, 21.7, 17.1,\n",
       "        8.4, 25.3, 13.8, 22.2, 18.4, 20.7, 31.6, 30.5, 20.3,  8.8, 19.2,\n",
       "       19.4, 23.1, 23. , 14.8, 48.8, 22.6, 33.4, 21.1, 13.6, 32.2, 13.1,\n",
       "       23.4, 18.9, 23.9, 11.8, 23.3, 22.8, 19.6, 16.7, 13.4, 22.2, 20.4,\n",
       "       21.8, 26.4, 14.9, 24.1, 23.8, 12.3, 29.1, 21. , 19.5, 23.3, 23.8,\n",
       "       17.8, 11.5, 21.7, 19.9, 25. , 33.4, 28.5, 21.4, 24.3, 27.5, 33.1,\n",
       "       16.2, 23.3, 48.3, 22.9, 22.8, 13.1, 12.7, 22.6, 15. , 15.3, 10.5,\n",
       "       24. , 18.5, 21.7, 19.5, 33.2, 23.2,  5. , 19.1, 12.7, 22.3, 10.2,\n",
       "       13.9, 16.3, 17. , 20.1, 29.9, 17.2, 37.3, 45.4, 17.8, 23.2, 29. ,\n",
       "       22. , 18. , 17.4, 34.6, 20.1, 25. , 15.6, 24.8, 28.2, 21.2, 21.4,\n",
       "       23.8, 31. , 26.2, 17.4, 37.9, 17.5, 20. ,  8.3, 23.9,  8.4, 13.8,\n",
       "        7.2, 11.7, 17.1, 21.6, 50. , 16.1, 20.4, 20.6, 21.4, 20.6, 36.5,\n",
       "        8.5, 24.8, 10.8, 21.9, 17.3, 18.9, 36.2, 14.9, 18.2, 33.3, 21.8,\n",
       "       19.7, 31.6, 24.8, 19.4, 22.8,  7.5, 44.8, 16.8, 18.7, 50. , 50. ,\n",
       "       19.5, 20.1, 50. , 17.2, 20.8, 19.3, 41.3, 20.4, 20.5, 13.8, 16.5,\n",
       "       23.9, 20.6, 31.5, 23.3, 16.8, 14. , 33.8, 36.1, 12.8, 18.3, 18.7,\n",
       "       19.1, 29. , 30.1, 50. , 50. , 22. , 11.9, 37.6, 50. , 22.7, 20.8,\n",
       "       23.5, 27.9, 50. , 19.3, 23.9, 22.6, 15.2, 21.7, 19.2, 43.8, 20.3,\n",
       "       33.2, 19.9, 22.5, 32.7, 22. , 17.1, 19. , 15. , 16.1, 25.1, 23.7,\n",
       "       28.7, 37.2, 22.6, 16.4, 25. , 29.8, 22.1, 17.4, 18.1, 30.3, 17.5,\n",
       "       24.7, 12.6, 26.5, 28.7, 13.3, 10.4, 24.4, 23. , 20. , 17.8,  7. ,\n",
       "       11.8, 24.4, 13.8, 19.4, 25.2, 19.4, 19.4, 29.1])"
      ]
     },
     "execution_count": 122,
     "metadata": {},
     "output_type": "execute_result"
    }
   ],
   "source": [
    "train_targets"
   ]
  },
  {
   "cell_type": "code",
   "execution_count": 123,
   "metadata": {},
   "outputs": [
    {
     "data": {
      "text/plain": [
       "array([[-0.27224633, -0.48361547, -0.43576161, ...,  1.14850044,\n",
       "         0.44807713,  0.8252202 ],\n",
       "       [-0.40342651,  2.99178419, -1.33391162, ..., -1.71818909,\n",
       "         0.43190599, -1.32920239],\n",
       "       [ 0.1249402 , -0.48361547,  1.0283258 , ...,  0.78447637,\n",
       "         0.22061726, -1.30850006],\n",
       "       ...,\n",
       "       [-0.40202987,  0.99079651, -0.7415148 , ..., -0.71712291,\n",
       "         0.07943894, -0.67776904],\n",
       "       [-0.17292018, -0.48361547,  1.24588095, ..., -1.71818909,\n",
       "        -0.98764362,  0.42083466],\n",
       "       [-0.40422614,  2.04394792, -1.20161456, ..., -1.30866202,\n",
       "         0.23317118, -1.15392266]])"
      ]
     },
     "execution_count": 123,
     "metadata": {},
     "output_type": "execute_result"
    }
   ],
   "source": [
    "train_data"
   ]
  },
  {
   "cell_type": "code",
   "execution_count": 124,
   "metadata": {},
   "outputs": [],
   "source": [
    "model = models.Sequential()\n",
    "model.add(layers.Dense(1,input_dim = 13, activation = 'linear'))\n",
    "sgd = optimizers.SGD(learning_rate=0.01)\n",
    "model.compile(optimizer = 'rmsprop', loss = 'mse',metrics =['accuracy'])\n",
    "    "
   ]
  },
  {
   "cell_type": "code",
   "execution_count": 125,
   "metadata": {},
   "outputs": [
    {
     "data": {
      "text/plain": [
       "14"
      ]
     },
     "execution_count": 125,
     "metadata": {},
     "output_type": "execute_result"
    }
   ],
   "source": [
    "model.count_params()"
   ]
  },
  {
   "cell_type": "code",
   "execution_count": 126,
   "metadata": {},
   "outputs": [
    {
     "name": "stdout",
     "output_type": "stream",
     "text": [
      "Epoch 1/100\n",
      "404/404 [==============================] - 1s 701us/step - loss: 569.8911 - accuracy: 0.0000e+00\n",
      "Epoch 2/100\n",
      "404/404 [==============================] - 0s 762us/step - loss: 549.0827 - accuracy: 0.0000e+00\n",
      "Epoch 3/100\n",
      "404/404 [==============================] - 0s 634us/step - loss: 529.4601 - accuracy: 0.0000e+00\n",
      "Epoch 4/100\n",
      "404/404 [==============================] - 0s 647us/step - loss: 510.8047 - accuracy: 0.0000e+00\n",
      "Epoch 5/100\n",
      "404/404 [==============================] - 0s 672us/step - loss: 492.9947 - accuracy: 0.0000e+00\n",
      "Epoch 6/100\n",
      "404/404 [==============================] - 0s 595us/step - loss: 475.9305 - accuracy: 0.0000e+00\n",
      "Epoch 7/100\n",
      "404/404 [==============================] - 0s 626us/step - loss: 459.5297 - accuracy: 0.0000e+00\n",
      "Epoch 8/100\n",
      "404/404 [==============================] - 0s 603us/step - loss: 443.7240 - accuracy: 0.0000e+00\n",
      "Epoch 9/100\n",
      "404/404 [==============================] - 0s 669us/step - loss: 428.4580 - accuracy: 0.0000e+00\n",
      "Epoch 10/100\n",
      "404/404 [==============================] - 0s 609us/step - loss: 413.6854 - accuracy: 0.0000e+00\n",
      "Epoch 11/100\n",
      "404/404 [==============================] - 0s 653us/step - loss: 399.3681 - accuracy: 0.0000e+00\n",
      "Epoch 12/100\n",
      "404/404 [==============================] - 0s 688us/step - loss: 385.4747 - accuracy: 0.0000e+00\n",
      "Epoch 13/100\n",
      "404/404 [==============================] - 0s 589us/step - loss: 371.9802 - accuracy: 0.0000e+00\n",
      "Epoch 14/100\n",
      "404/404 [==============================] - 0s 609us/step - loss: 358.8634 - accuracy: 0.0000e+00\n",
      "Epoch 15/100\n",
      "404/404 [==============================] - 0s 599us/step - loss: 346.1070 - accuracy: 0.0000e+00\n",
      "Epoch 16/100\n",
      "404/404 [==============================] - 0s 611us/step - loss: 333.6970 - accuracy: 0.0000e+00\n",
      "Epoch 17/100\n",
      "404/404 [==============================] - 0s 619us/step - loss: 321.6221 - accuracy: 0.0000e+00\n",
      "Epoch 18/100\n",
      "404/404 [==============================] - 0s 616us/step - loss: 309.8729 - accuracy: 0.0000e+00\n",
      "Epoch 19/100\n",
      "404/404 [==============================] - 0s 614us/step - loss: 298.4420 - accuracy: 0.0000e+00\n",
      "Epoch 20/100\n",
      "404/404 [==============================] - 0s 639us/step - loss: 287.3229 - accuracy: 0.0000e+00\n",
      "Epoch 21/100\n",
      "404/404 [==============================] - 0s 619us/step - loss: 276.5105 - accuracy: 0.0000e+00\n",
      "Epoch 22/100\n",
      "404/404 [==============================] - 0s 636us/step - loss: 266.0006 - accuracy: 0.0000e+00\n",
      "Epoch 23/100\n",
      "404/404 [==============================] - 0s 676us/step - loss: 255.7897 - accuracy: 0.0000e+00\n",
      "Epoch 24/100\n",
      "404/404 [==============================] - 0s 745us/step - loss: 245.8746 - accuracy: 0.0000e+00\n",
      "Epoch 25/100\n",
      "404/404 [==============================] - 0s 681us/step - loss: 236.2530 - accuracy: 0.0000e+00\n",
      "Epoch 26/100\n",
      "404/404 [==============================] - 0s 661us/step - loss: 226.9220 - accuracy: 0.0000e+00\n",
      "Epoch 27/100\n",
      "404/404 [==============================] - 0s 624us/step - loss: 217.8798 - accuracy: 0.0000e+00\n",
      "Epoch 28/100\n",
      "404/404 [==============================] - 0s 698us/step - loss: 209.1239 - accuracy: 0.0000e+00\n",
      "Epoch 29/100\n",
      "404/404 [==============================] - 0s 634us/step - loss: 200.6523 - accuracy: 0.0000e+00\n",
      "Epoch 30/100\n",
      "404/404 [==============================] - 0s 651us/step - loss: 192.4629 - accuracy: 0.0000e+00\n",
      "Epoch 31/100\n",
      "404/404 [==============================] - 0s 580us/step - loss: 184.5540 - accuracy: 0.0000e+00\n",
      "Epoch 32/100\n",
      "404/404 [==============================] - 0s 589us/step - loss: 176.9227 - accuracy: 0.0000e+00\n",
      "Epoch 33/100\n",
      "404/404 [==============================] - 0s 688us/step - loss: 169.5665 - accuracy: 0.0000e+00\n",
      "Epoch 34/100\n",
      "404/404 [==============================] - 0s 605us/step - loss: 162.4832 - accuracy: 0.0000e+00\n",
      "Epoch 35/100\n",
      "404/404 [==============================] - 0s 643us/step - loss: 155.6699 - accuracy: 0.0000e+00\n",
      "Epoch 36/100\n",
      "404/404 [==============================] - 0s 747us/step - loss: 149.1238 - accuracy: 0.0000e+00\n",
      "Epoch 37/100\n",
      "404/404 [==============================] - 0s 656us/step - loss: 142.8418 - accuracy: 0.0000e+00\n",
      "Epoch 38/100\n",
      "404/404 [==============================] - 0s 606us/step - loss: 136.8203 - accuracy: 0.0000e+00\n",
      "Epoch 39/100\n",
      "404/404 [==============================] - 0s 619us/step - loss: 131.0557 - accuracy: 0.0000e+00\n",
      "Epoch 40/100\n",
      "404/404 [==============================] - 0s 673us/step - loss: 125.5442 - accuracy: 0.0000e+00\n",
      "Epoch 41/100\n",
      "404/404 [==============================] - 0s 700us/step - loss: 120.2818 - accuracy: 0.0000e+00\n",
      "Epoch 42/100\n",
      "404/404 [==============================] - 0s 587us/step - loss: 115.2640 - accuracy: 0.0000e+00\n",
      "Epoch 43/100\n",
      "404/404 [==============================] - 0s 666us/step - loss: 110.4861 - accuracy: 0.0000e+00\n",
      "Epoch 44/100\n",
      "404/404 [==============================] - 0s 639us/step - loss: 105.9432 - accuracy: 0.0000e+00\n",
      "Epoch 45/100\n",
      "404/404 [==============================] - 0s 765us/step - loss: 101.6299 - accuracy: 0.0000e+00\n",
      "Epoch 46/100\n",
      "404/404 [==============================] - 0s 587us/step - loss: 97.5409 - accuracy: 0.0000e+00\n",
      "Epoch 47/100\n",
      "404/404 [==============================] - 0s 616us/step - loss: 93.6704 - accuracy: 0.0000e+00\n",
      "Epoch 48/100\n",
      "404/404 [==============================] - 0s 681us/step - loss: 90.0118 - accuracy: 0.0000e+00\n",
      "Epoch 49/100\n",
      "404/404 [==============================] - 0s 679us/step - loss: 86.5592 - accuracy: 0.0000e+00\n",
      "Epoch 50/100\n",
      "404/404 [==============================] - 0s 643us/step - loss: 83.3057 - accuracy: 0.0000e+00 0s - loss: 94.3307 - accuracy: 0.0000e+\n",
      "Epoch 51/100\n",
      "404/404 [==============================] - 0s 599us/step - loss: 80.2440 - accuracy: 0.0000e+00\n",
      "Epoch 52/100\n",
      "404/404 [==============================] - 0s 610us/step - loss: 77.3670 - accuracy: 0.0000e+00\n",
      "Epoch 53/100\n",
      "404/404 [==============================] - 0s 609us/step - loss: 74.6669 - accuracy: 0.0000e+00\n",
      "Epoch 54/100\n",
      "404/404 [==============================] - 0s 591us/step - loss: 72.1357 - accuracy: 0.0000e+00\n",
      "Epoch 55/100\n",
      "404/404 [==============================] - 0s 646us/step - loss: 69.7654 - accuracy: 0.0000e+00\n",
      "Epoch 56/100\n",
      "404/404 [==============================] - 0s 609us/step - loss: 67.5478 - accuracy: 0.0000e+00\n",
      "Epoch 57/100\n",
      "404/404 [==============================] - 0s 606us/step - loss: 65.4747 - accuracy: 0.0000e+00\n",
      "Epoch 58/100\n",
      "404/404 [==============================] - 0s 678us/step - loss: 63.5377 - accuracy: 0.0000e+00\n",
      "Epoch 59/100\n",
      "404/404 [==============================] - 0s 634us/step - loss: 61.7286 - accuracy: 0.0000e+00\n",
      "Epoch 60/100\n",
      "404/404 [==============================] - 0s 614us/step - loss: 60.0394 - accuracy: 0.0000e+00\n",
      "Epoch 61/100\n",
      "404/404 [==============================] - 0s 812us/step - loss: 58.4622 - accuracy: 0.0000e+00\n",
      "Epoch 62/100\n",
      "404/404 [==============================] - 0s 594us/step - loss: 56.9891 - accuracy: 0.0000e+00\n",
      "Epoch 63/100\n",
      "404/404 [==============================] - 0s 653us/step - loss: 55.6129 - accuracy: 0.0000e+00\n",
      "Epoch 64/100\n",
      "404/404 [==============================] - 0s 629us/step - loss: 54.3263 - accuracy: 0.0000e+00\n",
      "Epoch 65/100\n",
      "404/404 [==============================] - 0s 643us/step - loss: 53.1226 - accuracy: 0.0000e+00\n",
      "Epoch 66/100\n",
      "404/404 [==============================] - 0s 582us/step - loss: 51.9956 - accuracy: 0.0000e+00\n",
      "Epoch 67/100\n",
      "404/404 [==============================] - 0s 604us/step - loss: 50.9393 - accuracy: 0.0000e+00\n",
      "Epoch 68/100\n",
      "404/404 [==============================] - 0s 663us/step - loss: 49.9481 - accuracy: 0.0000e+00\n",
      "Epoch 69/100\n",
      "404/404 [==============================] - 0s 656us/step - loss: 49.0169 - accuracy: 0.0000e+00\n",
      "Epoch 70/100\n",
      "404/404 [==============================] - 0s 685us/step - loss: 48.1411 - accuracy: 0.0000e+00\n",
      "Epoch 71/100\n",
      "404/404 [==============================] - 0s 658us/step - loss: 47.3161 - accuracy: 0.0000e+00\n",
      "Epoch 72/100\n",
      "404/404 [==============================] - 0s 626us/step - loss: 46.5379 - accuracy: 0.0000e+00\n",
      "Epoch 73/100\n",
      "404/404 [==============================] - 0s 693us/step - loss: 45.8027 - accuracy: 0.0000e+00\n",
      "Epoch 74/100\n",
      "404/404 [==============================] - 0s 690us/step - loss: 45.1072 - accuracy: 0.0000e+00\n",
      "Epoch 75/100\n"
     ]
    },
    {
     "name": "stdout",
     "output_type": "stream",
     "text": [
      "404/404 [==============================] - 0s 634us/step - loss: 44.4483 - accuracy: 0.0000e+00\n",
      "Epoch 76/100\n",
      "404/404 [==============================] - 0s 601us/step - loss: 43.8234 - accuracy: 0.0000e+00\n",
      "Epoch 77/100\n",
      "404/404 [==============================] - 0s 611us/step - loss: 43.2299 - accuracy: 0.0000e+00\n",
      "Epoch 78/100\n",
      "404/404 [==============================] - 0s 591us/step - loss: 42.6656 - accuracy: 0.0000e+00\n",
      "Epoch 79/100\n",
      "404/404 [==============================] - 0s 596us/step - loss: 42.1286 - accuracy: 0.0000e+00\n",
      "Epoch 80/100\n",
      "404/404 [==============================] - 0s 601us/step - loss: 41.6173 - accuracy: 0.0000e+00\n",
      "Epoch 81/100\n",
      "404/404 [==============================] - 0s 614us/step - loss: 41.1299 - accuracy: 0.0000e+00\n",
      "Epoch 82/100\n",
      "404/404 [==============================] - 0s 599us/step - loss: 40.6652 - accuracy: 0.0000e+00\n",
      "Epoch 83/100\n",
      "404/404 [==============================] - 0s 632us/step - loss: 40.2218 - accuracy: 0.0000e+00\n",
      "Epoch 84/100\n",
      "404/404 [==============================] - 0s 599us/step - loss: 39.7986 - accuracy: 0.0000e+00\n",
      "Epoch 85/100\n",
      "404/404 [==============================] - 0s 644us/step - loss: 39.3943 - accuracy: 0.0000e+00\n",
      "Epoch 86/100\n",
      "404/404 [==============================] - 0s 681us/step - loss: 39.0080 - accuracy: 0.0000e+00\n",
      "Epoch 87/100\n",
      "404/404 [==============================] - 0s 574us/step - loss: 38.6387 - accuracy: 0.0000e+00\n",
      "Epoch 88/100\n",
      "404/404 [==============================] - 0s 564us/step - loss: 38.2855 - accuracy: 0.0000e+00\n",
      "Epoch 89/100\n",
      "404/404 [==============================] - 0s 594us/step - loss: 37.9474 - accuracy: 0.0000e+00\n",
      "Epoch 90/100\n",
      "404/404 [==============================] - 0s 594us/step - loss: 37.6238 - accuracy: 0.0000e+00\n",
      "Epoch 91/100\n",
      "404/404 [==============================] - 0s 621us/step - loss: 37.3139 - accuracy: 0.0000e+00\n",
      "Epoch 92/100\n",
      "404/404 [==============================] - 0s 612us/step - loss: 37.0169 - accuracy: 0.0000e+00\n",
      "Epoch 93/100\n",
      "404/404 [==============================] - 0s 659us/step - loss: 36.7321 - accuracy: 0.0000e+00\n",
      "Epoch 94/100\n",
      "404/404 [==============================] - 0s 621us/step - loss: 36.4590 - accuracy: 0.0000e+00\n",
      "Epoch 95/100\n",
      "404/404 [==============================] - 0s 588us/step - loss: 36.1969 - accuracy: 0.0000e+00\n",
      "Epoch 96/100\n",
      "404/404 [==============================] - 0s 604us/step - loss: 35.9453 - accuracy: 0.0000e+00\n",
      "Epoch 97/100\n",
      "404/404 [==============================] - 0s 621us/step - loss: 35.7037 - accuracy: 0.0000e+00\n",
      "Epoch 98/100\n",
      "404/404 [==============================] - 0s 614us/step - loss: 35.4716 - accuracy: 0.0000e+00\n",
      "Epoch 99/100\n",
      "404/404 [==============================] - 0s 765us/step - loss: 35.2485 - accuracy: 0.0000e+00\n",
      "Epoch 100/100\n",
      "404/404 [==============================] - 0s 574us/step - loss: 35.0341 - accuracy: 0.0000e+00\n"
     ]
    },
    {
     "data": {
      "text/plain": [
       "<keras.callbacks.History at 0x1c139c31250>"
      ]
     },
     "execution_count": 126,
     "metadata": {},
     "output_type": "execute_result"
    }
   ],
   "source": [
    "from tensorflow.keras import backend as k\n",
    "k.clear_session()\n",
    "model.fit(train_data, train_targets, epochs = 100, batch_size = 1, shuffle=False)"
   ]
  },
  {
   "cell_type": "code",
   "execution_count": 129,
   "metadata": {},
   "outputs": [],
   "source": [
    "y_pred = model.predict(test_data)"
   ]
  },
  {
   "cell_type": "code",
   "execution_count": 131,
   "metadata": {},
   "outputs": [
    {
     "name": "stdout",
     "output_type": "stream",
     "text": [
      "Mean_Squared_Error : 19.865617071973723\n",
      "r_square_value : 0.761356335330309\n"
     ]
    }
   ],
   "source": [
    "# Importing mean square error and r square from sklearn library.\n",
    "from sklearn.metrics import mean_squared_error, r2_score\n",
    "\n",
    "mse = mean_squared_error(test_targets, y_pred)\n",
    "r_squared = r2_score(test_targets, y_pred)\n",
    "\n",
    "# Printing mean square error and R square value\n",
    "print('Mean_Squared_Error :' ,mse)\n",
    "print('r_square_value :',r_squared)"
   ]
  },
  {
   "cell_type": "code",
   "execution_count": null,
   "metadata": {},
   "outputs": [],
   "source": []
  },
  {
   "cell_type": "code",
   "execution_count": null,
   "metadata": {},
   "outputs": [],
   "source": []
  },
  {
   "cell_type": "code",
   "execution_count": null,
   "metadata": {},
   "outputs": [],
   "source": []
  },
  {
   "cell_type": "code",
   "execution_count": null,
   "metadata": {},
   "outputs": [],
   "source": []
  },
  {
   "cell_type": "code",
   "execution_count": null,
   "metadata": {},
   "outputs": [],
   "source": []
  },
  {
   "cell_type": "code",
   "execution_count": null,
   "metadata": {},
   "outputs": [],
   "source": []
  },
  {
   "cell_type": "code",
   "execution_count": null,
   "metadata": {},
   "outputs": [],
   "source": []
  },
  {
   "cell_type": "code",
   "execution_count": null,
   "metadata": {},
   "outputs": [],
   "source": []
  },
  {
   "cell_type": "code",
   "execution_count": null,
   "metadata": {},
   "outputs": [],
   "source": []
  },
  {
   "cell_type": "code",
   "execution_count": null,
   "metadata": {},
   "outputs": [],
   "source": []
  },
  {
   "cell_type": "code",
   "execution_count": null,
   "metadata": {},
   "outputs": [],
   "source": []
  },
  {
   "cell_type": "code",
   "execution_count": null,
   "metadata": {},
   "outputs": [],
   "source": []
  }
 ],
 "metadata": {
  "kernelspec": {
   "display_name": "Python 3",
   "language": "python",
   "name": "python3"
  },
  "language_info": {
   "codemirror_mode": {
    "name": "ipython",
    "version": 3
   },
   "file_extension": ".py",
   "mimetype": "text/x-python",
   "name": "python",
   "nbconvert_exporter": "python",
   "pygments_lexer": "ipython3",
   "version": "3.8.3"
  }
 },
 "nbformat": 4,
 "nbformat_minor": 4
}

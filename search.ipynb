{
  "nbformat": 4,
  "nbformat_minor": 0,
  "metadata": {
    "colab": {
      "name": "search.ipynb",
      "provenance": [],
      "collapsed_sections": [],
      "mount_file_id": "1xNqJ0477oADW-6tmcmaT5x1dKh3udzBc",
      "authorship_tag": "ABX9TyObfK4lN4Ei78aeW+lai3Ix",
      "include_colab_link": true
    },
    "kernelspec": {
      "name": "python3",
      "display_name": "Python 3"
    },
    "language_info": {
      "name": "python"
    },
    "accelerator": "TPU"
  },
  "cells": [
    {
      "cell_type": "markdown",
      "metadata": {
        "id": "view-in-github",
        "colab_type": "text"
      },
      "source": [
        "<a href=\"https://colab.research.google.com/github/luster1031/2021_bigleader/blob/main/search.ipynb\" target=\"_parent\"><img src=\"https://colab.research.google.com/assets/colab-badge.svg\" alt=\"Open In Colab\"/></a>"
      ]
    },
    {
      "cell_type": "code",
      "metadata": {
        "colab": {
          "base_uri": "https://localhost:8080/"
        },
        "id": "w2HvGJhSbkw1",
        "outputId": "e272c74b-44ef-4c6f-89af-b0f6940e9666"
      },
      "source": [
        "import pandas as pd\n",
        "original_data = pd.read_csv('/content/drive/MyDrive/pytest/test_append.csv',encoding='utf-8')"
      ],
      "execution_count": 1,
      "outputs": [
        {
          "output_type": "stream",
          "text": [
            "/usr/local/lib/python3.7/dist-packages/IPython/core/interactiveshell.py:2718: DtypeWarning: Columns (6,7) have mixed types.Specify dtype option on import or set low_memory=False.\n",
            "  interactivity=interactivity, compiler=compiler, result=result)\n"
          ],
          "name": "stderr"
        }
      ]
    },
    {
      "cell_type": "code",
      "metadata": {
        "colab": {
          "base_uri": "https://localhost:8080/"
        },
        "id": "ehszWakmeXGb",
        "outputId": "c1ec3d3e-efbb-4896-c6cf-39114c759011"
      },
      "source": [
        "!pip install pypapago"
      ],
      "execution_count": 2,
      "outputs": [
        {
          "output_type": "stream",
          "text": [
            "Collecting pypapago\n",
            "  Downloading pypapago-0.1.1.1-py3-none-any.whl (4.5 kB)\n",
            "Requirement already satisfied: tqdm<5 in /usr/local/lib/python3.7/dist-packages (from pypapago) (4.62.0)\n",
            "Requirement already satisfied: requests<3 in /usr/local/lib/python3.7/dist-packages (from pypapago) (2.23.0)\n",
            "Requirement already satisfied: idna<3,>=2.5 in /usr/local/lib/python3.7/dist-packages (from requests<3->pypapago) (2.10)\n",
            "Requirement already satisfied: certifi>=2017.4.17 in /usr/local/lib/python3.7/dist-packages (from requests<3->pypapago) (2021.5.30)\n",
            "Requirement already satisfied: chardet<4,>=3.0.2 in /usr/local/lib/python3.7/dist-packages (from requests<3->pypapago) (3.0.4)\n",
            "Requirement already satisfied: urllib3!=1.25.0,!=1.25.1,<1.26,>=1.21.1 in /usr/local/lib/python3.7/dist-packages (from requests<3->pypapago) (1.24.3)\n",
            "Installing collected packages: pypapago\n",
            "Successfully installed pypapago-0.1.1.1\n"
          ],
          "name": "stdout"
        }
      ]
    },
    {
      "cell_type": "code",
      "metadata": {
        "id": "ws9_1Sh_hCW-"
      },
      "source": [
        "import os \n",
        "import sys \n",
        "import urllib.request\n",
        "import re\n",
        "reg = re.compile(r'[^ㄱ-ㅣ가-힣]+')\n",
        "co = pd.read_csv('/content/KO_token.txt',encoding='utf-8') #조사 불용어"
      ],
      "execution_count": 4,
      "outputs": []
    },
    {
      "cell_type": "code",
      "metadata": {
        "id": "YpfmdSZAhFZz"
      },
      "source": [
        "client_id = \"U9UBbQtpSbWt6Mzn6WdC\"\n",
        "client_secret = \"rHPIy0JgYq\""
      ],
      "execution_count": 5,
      "outputs": []
    },
    {
      "cell_type": "code",
      "metadata": {
        "colab": {
          "base_uri": "https://localhost:8080/"
        },
        "id": "4XH9MgcGhRfL",
        "outputId": "0267c4b1-ff12-4884-e6da-e6670da96d8c"
      },
      "source": [
        "input_str = input()\n",
        "ko_response_word = ''\n",
        "en_response_word = ''\n",
        "ko_word =input_str\n",
        "en_word = input_str\n",
        "if reg.match(input_str):\n",
        "  print(\"영어 --> 한글\")\n",
        "  encText = urllib.parse.quote(input_str) \n",
        "  data = \"source=en&target=ko&text=the\" + encText\n",
        "  url = \"https://openapi.naver.com/v1/papago/n2mt\"\n",
        "  request = urllib.request.Request(url)\n",
        "  request.add_header(\"X-Naver-Client-Id\",client_id)\n",
        "  request.add_header(\"X-Naver-Client-Secret\",client_secret)\n",
        "  response = urllib.request.urlopen(request, data=data.encode(\"utf-8\"))\n",
        "  rescode = response.getcode()\n",
        "  if(rescode==200):\n",
        "    response_body = response.read()\n",
        "    print(response_body)\n",
        "    ko_response_word =response_body.decode('utf-8')\n",
        "  else:\n",
        "    print(\"Error Code:\" + rescode)\n",
        "else:\n",
        "  print(\"한글 --> 영어\")\n",
        "  encText = urllib.parse.quote(input_str) \n",
        "  data = \"source=ko&target=en&text=\" + encText\n",
        "  url = \"https://openapi.naver.com/v1/papago/n2mt\"\n",
        "  request = urllib.request.Request(url)\n",
        "  request.add_header(\"X-Naver-Client-Id\",client_id)\n",
        "  request.add_header(\"X-Naver-Client-Secret\",client_secret)\n",
        "  response = urllib.request.urlopen(request, data=data.encode(\"utf-8\"))\n",
        "  rescode = response.getcode()\n",
        "  if(rescode==200):\n",
        "    response_body = response.read()\n",
        "    print(response_body)\n",
        "    en_response_word =response_body.decode('utf-8')\n",
        "  else:\n",
        "    print(\"Error Code:\" + rescode)"
      ],
      "execution_count": 6,
      "outputs": [
        {
          "output_type": "stream",
          "text": [
            "파우더\n",
            "한글 --> 영어\n",
            "b'{\"message\":{\"@type\":\"response\",\"@service\":\"naverservice.nmt.proxy\",\"@version\":\"1.0.0\",\"result\":{\"srcLangType\":\"ko\",\"tarLangType\":\"en\",\"translatedText\":\"Powder\",\"engineType\":\"N2MT\",\"pivot\":null}}}'\n"
          ],
          "name": "stdout"
        }
      ]
    },
    {
      "cell_type": "code",
      "metadata": {
        "id": "_HTjt2zSnUFC"
      },
      "source": [
        "if len(ko_response_word)!= 0:\n",
        "  ko_word = ko_response_word[ko_response_word.index('translatedText')+17:ko_response_word.index('engineType')-3]\n",
        "if len(en_response_word)!= 0:\n",
        "  en_word = en_response_word[en_response_word.index('translatedText')+17:en_response_word.index('engineType')-3]"
      ],
      "execution_count": 7,
      "outputs": []
    },
    {
      "cell_type": "code",
      "metadata": {
        "colab": {
          "base_uri": "https://localhost:8080/"
        },
        "id": "wLTXD7Rc6gI8",
        "outputId": "9a8e6b73-f10e-4e33-d0b1-445df3950c8d"
      },
      "source": [
        "print(ko_word)\n",
        "print(en_word)"
      ],
      "execution_count": 8,
      "outputs": [
        {
          "output_type": "stream",
          "text": [
            "파우더\n",
            "Powder\n"
          ],
          "name": "stdout"
        }
      ]
    },
    {
      "cell_type": "code",
      "metadata": {
        "colab": {
          "base_uri": "https://localhost:8080/"
        },
        "id": "5d94wcZTETU7",
        "outputId": "ccd5df65-fb9d-40e6-b27b-975a71b246c9"
      },
      "source": [
        "#조사 없애기\n",
        "import nltk\n",
        "nltk.download('punkt')\n",
        "\n",
        "string_list=co['KO'].tolist()\n",
        "\n",
        "clean_words = [] \n",
        "for word in nltk.tokenize.word_tokenize(ko_word):\n",
        "  if word not in string_list: #불용어 제거\n",
        "    clean_words.append(word)\n",
        "print(clean_words)\n",
        "ko_word = ''.join(clean_words)        \n",
        "print(ko_word) "
      ],
      "execution_count": 9,
      "outputs": [
        {
          "output_type": "stream",
          "text": [
            "[nltk_data] Downloading package punkt to /root/nltk_data...\n",
            "[nltk_data]   Unzipping tokenizers/punkt.zip.\n",
            "['파우더']\n",
            "파우더\n"
          ],
          "name": "stdout"
        }
      ]
    },
    {
      "cell_type": "code",
      "metadata": {
        "colab": {
          "base_uri": "https://localhost:8080/",
          "height": 1000
        },
        "id": "WFHDWh7ycDKd",
        "outputId": "6b05bf63-a107-4901-a4d5-d0b2db0f1229"
      },
      "source": [
        "search = original_data\n",
        "result_ko = search[search['NM_KO'].str.contains(ko_word, na=False)]\n",
        "for index in result_ko['NM_KO']:\n",
        "  print(index)\n",
        "result_en = search[search['NM_EN'].str.contains(en_word, na=False)]\n",
        "result_ko"
      ],
      "execution_count": 10,
      "outputs": [
        {
          "output_type": "stream",
          "text": [
            " 호박파우더ns\n",
            " 아레스 커피 프라페 파우더\n",
            " 아레스 커피 프라페 파우더\n",
            " 아레스 민트 초코 라떼 파우더ares\n",
            " 아레스오리지널 초코 파우더\n",
            " 아레스오리지널 초코 파우더\n",
            " 곡류파우더\n",
            " 아레스 소이오곡 라떼 파우더\n",
            " 아레스 소이오곡 라떼 파우더\n",
            " 스위트콘파우더\n",
            " 아레스 흑당 크림 밀크티 파우더\n",
            " 아레스 흑당 크림 밀크티 파우더\n",
            " 아레스 그린티 라떼 파우더\n",
            " 제주 봄빛 그린티파우더jeju\n",
            " 제주 봄빛 그린티파우더jeju\n",
            " 아레스 슈크림 라떼 파우더choux\n",
            " 아레스 슈크림 라떼 파우더choux\n",
            " 아레스 프리미엄 요거트 파우더\n",
            " 차오코 코코넛 밀크 파우더\n",
            " 차오코 코코넛 밀크 파우더\n",
            " 실크파우더\n",
            " 실크파우더\n",
            " 크랜베리파우더cranberry\n",
            " 크랜베리파우더cranberry\n",
            " 프리믹스파우더\n",
            " 프리믹스파우더\n",
            " 프리믹스파우더\n",
            " 프리믹스파우더\n",
            " 가루파우더 용기퍼프부착\n",
            " 가루파우더 용기퍼프부착\n"
          ],
          "name": "stdout"
        },
        {
          "output_type": "execute_result",
          "data": {
            "text/html": [
              "<div>\n",
              "<style scoped>\n",
              "    .dataframe tbody tr th:only-of-type {\n",
              "        vertical-align: middle;\n",
              "    }\n",
              "\n",
              "    .dataframe tbody tr th {\n",
              "        vertical-align: top;\n",
              "    }\n",
              "\n",
              "    .dataframe thead th {\n",
              "        text-align: right;\n",
              "    }\n",
              "</style>\n",
              "<table border=\"1\" class=\"dataframe\">\n",
              "  <thead>\n",
              "    <tr style=\"text-align: right;\">\n",
              "      <th></th>\n",
              "      <th>Unnamed: 0</th>\n",
              "      <th>Unnamed: 0.1</th>\n",
              "      <th>Unnamed: 0.1.1</th>\n",
              "      <th>HSCODE</th>\n",
              "      <th>이유</th>\n",
              "      <th>설명</th>\n",
              "      <th>NM_EN</th>\n",
              "      <th>NM_KO</th>\n",
              "    </tr>\n",
              "  </thead>\n",
              "  <tbody>\n",
              "    <tr>\n",
              "      <th>79703</th>\n",
              "      <td>79703</td>\n",
              "      <td>621</td>\n",
              "      <td>621</td>\n",
              "      <td>712902050</td>\n",
              "      <td>호박을 절단 후 건조하여 분쇄한 황색계 분말상    용도  화장품제조용원료   품...</td>\n",
              "      <td>관세율표 제0712호에는 건조한 채소원래 모양인 것 절단한 것 얇         ...</td>\n",
              "      <td>pumpkin powder;</td>\n",
              "      <td>호박파우더ns</td>\n",
              "    </tr>\n",
              "    <tr>\n",
              "      <th>81962</th>\n",
              "      <td>81962</td>\n",
              "      <td>2880</td>\n",
              "      <td>2880</td>\n",
              "      <td>1806909090</td>\n",
              "      <td>백설탕 381 포도당 16 식물성크림 22 혼합분유 10 덱스트린 4 혼합분유브라운...</td>\n",
              "      <td>o 관세율표 제1806호에 “초콜릿과 코코아를 함유한 그 밖의 조제 식료품”을 분류...</td>\n",
              "      <td>other food preparation containing cocoa;</td>\n",
              "      <td>아레스 커피 프라페 파우더</td>\n",
              "    </tr>\n",
              "    <tr>\n",
              "      <th>81963</th>\n",
              "      <td>81963</td>\n",
              "      <td>2881</td>\n",
              "      <td>2881</td>\n",
              "      <td>1806909090</td>\n",
              "      <td>백설탕 381 포도당 16 식물성크림 22 혼합분유 10 덱스트린 4 혼합분유브라운...</td>\n",
              "      <td>o 관세율표 제1806호에 “초콜릿과 코코아를 함유한 그 밖의 조제 식료품”을 분류...</td>\n",
              "      <td>other food preparation containing cocoa;</td>\n",
              "      <td>아레스 커피 프라페 파우더</td>\n",
              "    </tr>\n",
              "    <tr>\n",
              "      <th>81964</th>\n",
              "      <td>81964</td>\n",
              "      <td>2882</td>\n",
              "      <td>2882</td>\n",
              "      <td>1806909090</td>\n",
              "      <td>백설탕 656 코코아분말 10 코코넛크림분말 10 덱스트린 4 혼합분유 3 분말유...</td>\n",
              "      <td>관세율표 제1806호에 “초콜릿과 코코아를 함유한 그 밖의 조제 식료   품”이 ...</td>\n",
              "      <td>other food preparation containing cocoa; mint...</td>\n",
              "      <td>아레스 민트 초코 라떼 파우더ares</td>\n",
              "    </tr>\n",
              "    <tr>\n",
              "      <th>81965</th>\n",
              "      <td>81965</td>\n",
              "      <td>2883</td>\n",
              "      <td>2883</td>\n",
              "      <td>1806100000</td>\n",
              "      <td>코코아 분말 20 미세당 80가 혼합된 암갈색계 분말상을 수지제팩에 소매포장내용량 ...</td>\n",
              "      <td>o 관세율표 제1806호에는 “초콜릿과 코코아를 함유한 그밖의 조제 식료품”이 분류...</td>\n",
              "      <td>food preparation containing cocoa; g</td>\n",
              "      <td>아레스오리지널 초코 파우더</td>\n",
              "    </tr>\n",
              "    <tr>\n",
              "      <th>81966</th>\n",
              "      <td>81966</td>\n",
              "      <td>2884</td>\n",
              "      <td>2884</td>\n",
              "      <td>1806100000</td>\n",
              "      <td>코코아 분말 20 미세당 80가 혼합된 암갈색계 분말상을 수지제팩에 소매포장내용량 ...</td>\n",
              "      <td>o 관세율표 제1806호에는 “초콜릿과 코코아를 함유한 그밖의 조제 식료품”이 분류...</td>\n",
              "      <td>food preparation containing cocoa; g</td>\n",
              "      <td>아레스오리지널 초코 파우더</td>\n",
              "    </tr>\n",
              "    <tr>\n",
              "      <th>82331</th>\n",
              "      <td>82331</td>\n",
              "      <td>3249</td>\n",
              "      <td>3249</td>\n",
              "      <td>1901909099</td>\n",
              "      <td>호화되지 않은 생쌀가루 10 보리가루 10 귀리커넬가루 10 메밀가루 10 녹두가루...</td>\n",
              "      <td>관세율표 제1901호에 “맥아 추출물과 고운 가루·부순 알곡·거친 가루·전분이나 ...</td>\n",
              "      <td>cereals flour preparation ; complexsct ;</td>\n",
              "      <td>곡류파우더</td>\n",
              "    </tr>\n",
              "    <tr>\n",
              "      <th>82974</th>\n",
              "      <td>82974</td>\n",
              "      <td>3892</td>\n",
              "      <td>3892</td>\n",
              "      <td>1904109000</td>\n",
              "      <td>볶은 곡물 분말현미 옥수수 보리 율무 흑미 차조 기장쌀을 볶아서 분쇄한 것 328 ...</td>\n",
              "      <td>관세율표 제1904호에는 곡물이나 곡물 가공품을 팽창시키거나 볶아서 얻은 조제 식...</td>\n",
              "      <td>prepared foods obtained by the roasting of ce...</td>\n",
              "      <td>아레스 소이오곡 라떼 파우더</td>\n",
              "    </tr>\n",
              "    <tr>\n",
              "      <th>82975</th>\n",
              "      <td>82975</td>\n",
              "      <td>3893</td>\n",
              "      <td>3893</td>\n",
              "      <td>1904109000</td>\n",
              "      <td>볶은 곡물 분말현미 옥수수 보리 율무 흑미 차조 기장쌀을 볶아서 분쇄한 것 328 ...</td>\n",
              "      <td>관세율표 제1904호에는 곡물이나 곡물 가공품을 팽창시키거나 볶아서 얻은 조제 식...</td>\n",
              "      <td>prepared foods obtained by the roasting of ce...</td>\n",
              "      <td>아레스 소이오곡 라떼 파우더</td>\n",
              "    </tr>\n",
              "    <tr>\n",
              "      <th>83417</th>\n",
              "      <td>83417</td>\n",
              "      <td>4335</td>\n",
              "      <td>4335</td>\n",
              "      <td>2005800000</td>\n",
              "      <td>스위트콘을 열처리한 후 건조 분쇄하여 얻은 황색계 고운 분말   전분 181 회분...</td>\n",
              "      <td>관세율표 제2005호에는 “조제하거나 보존처리한 그 밖의 채소식초나 초산으로 처...</td>\n",
              "      <td>sweet corn preparations;</td>\n",
              "      <td>스위트콘파우더</td>\n",
              "    </tr>\n",
              "    <tr>\n",
              "      <th>84919</th>\n",
              "      <td>84919</td>\n",
              "      <td>5837</td>\n",
              "      <td>5837</td>\n",
              "      <td>2101201000</td>\n",
              "      <td>홍차추출분말 6 홍차분말 14 설탕흑당 64 덱스트린 136 식물성크림 6 혼합분유...</td>\n",
              "      <td>o 관세율표 제2101호에는 “커피·차·마테maté의 추출물extract·에센스es...</td>\n",
              "      <td>tea preparation;</td>\n",
              "      <td>아레스 흑당 크림 밀크티 파우더</td>\n",
              "    </tr>\n",
              "    <tr>\n",
              "      <th>84920</th>\n",
              "      <td>84920</td>\n",
              "      <td>5838</td>\n",
              "      <td>5838</td>\n",
              "      <td>2101201000</td>\n",
              "      <td>홍차추출분말 6 홍차분말 14 설탕흑당 64 덱스트린 136 식물성크림 6 혼합분유...</td>\n",
              "      <td>o 관세율표 제2101호에는 “커피·차·마테maté의 추출물extract·에센스es...</td>\n",
              "      <td>tea preparation;</td>\n",
              "      <td>아레스 흑당 크림 밀크티 파우더</td>\n",
              "    </tr>\n",
              "    <tr>\n",
              "      <th>84922</th>\n",
              "      <td>84922</td>\n",
              "      <td>5840</td>\n",
              "      <td>5840</td>\n",
              "      <td>2101201000</td>\n",
              "      <td>녹차분말 15 미세당 85를 혼합한 녹색계 분말상을 수지제팩에 소매포장내용량  50...</td>\n",
              "      <td>o 관세율표 제2101호에는 “커피·차·마테maté의 추출물extract·에센스 e...</td>\n",
              "      <td>green tea preparation;</td>\n",
              "      <td>아레스 그린티 라떼 파우더</td>\n",
              "    </tr>\n",
              "    <tr>\n",
              "      <th>84949</th>\n",
              "      <td>84949</td>\n",
              "      <td>5867</td>\n",
              "      <td>5867</td>\n",
              "      <td>2101201000</td>\n",
              "      <td>녹차분말 8 설탕 88 폴리덱스트로스 4로 혼합 조제된 녹색 가루를 수지백에 소매포...</td>\n",
              "      <td>관세율표 제2101호에는 “커피·차·마태의 추출물extract·에센스essence...</td>\n",
              "      <td>green tea preparation; green tea power;</td>\n",
              "      <td>제주 봄빛 그린티파우더jeju</td>\n",
              "    </tr>\n",
              "    <tr>\n",
              "      <th>84950</th>\n",
              "      <td>84950</td>\n",
              "      <td>5868</td>\n",
              "      <td>5868</td>\n",
              "      <td>2101201000</td>\n",
              "      <td>녹차분말 8 설탕 88 폴리덱스트로스 4로 혼합 조제된 녹색 가루를 수지백에 소매포...</td>\n",
              "      <td>관세율표 제2101호에는 “커피·차·마태의 추출물extract·에센스essence...</td>\n",
              "      <td>green tea preparation; green tea power;</td>\n",
              "      <td>제주 봄빛 그린티파우더jeju</td>\n",
              "    </tr>\n",
              "    <tr>\n",
              "      <th>85823</th>\n",
              "      <td>85823</td>\n",
              "      <td>6741</td>\n",
              "      <td>6741</td>\n",
              "      <td>2106901090</td>\n",
              "      <td>백설탕 5224 건조난황분말 16 분말유크림 16 빵류 커스타드향합성착향료 바닐라...</td>\n",
              "      <td>관세율표 제2106호에 “따로 분류되지 않은 조제 식료품”이 분류되며 HSK 제2...</td>\n",
              "      <td>bases for beverage nonalcoholic; cream latte ...</td>\n",
              "      <td>아레스 슈크림 라떼 파우더choux</td>\n",
              "    </tr>\n",
              "    <tr>\n",
              "      <th>85824</th>\n",
              "      <td>85824</td>\n",
              "      <td>6742</td>\n",
              "      <td>6742</td>\n",
              "      <td>2106901090</td>\n",
              "      <td>백설탕 5224 건조난황분말 16 분말유크림 16 빵류 커스타드향합성착향료 바닐라...</td>\n",
              "      <td>관세율표 제2106호에 “따로 분류되지 않은 조제 식료품”이 분류되며 HSK 제2...</td>\n",
              "      <td>bases for beverage nonalcoholic; cream latte ...</td>\n",
              "      <td>아레스 슈크림 라떼 파우더choux</td>\n",
              "    </tr>\n",
              "    <tr>\n",
              "      <th>85829</th>\n",
              "      <td>85829</td>\n",
              "      <td>6747</td>\n",
              "      <td>6747</td>\n",
              "      <td>2106901090</td>\n",
              "      <td>백설탕 744 요거트분말 4 혼합분유 3 카르복시메틸셀룰로오스나트륨 결정셀룰로오스 ...</td>\n",
              "      <td>관세율표 제2106호에는 따로 분류되지 않은 조제 식료품이 분류되며  같은 호 해...</td>\n",
              "      <td>bases for beverage nonalcoholic;</td>\n",
              "      <td>아레스 프리미엄 요거트 파우더</td>\n",
              "    </tr>\n",
              "    <tr>\n",
              "      <th>85888</th>\n",
              "      <td>85888</td>\n",
              "      <td>6806</td>\n",
              "      <td>6806</td>\n",
              "      <td>2106909099</td>\n",
              "      <td>코코넛밀크 898 말토덱스트린 카제인나트륨 제삼인산칼슘으로 혼합·조제한 백색계 분...</td>\n",
              "      <td>관세율표 제2106호에는 “따로 분류되지 않은 조제 식료품”을 분류하며  같은 호...</td>\n",
              "      <td>food preparation;</td>\n",
              "      <td>차오코 코코넛 밀크 파우더</td>\n",
              "    </tr>\n",
              "    <tr>\n",
              "      <th>85889</th>\n",
              "      <td>85889</td>\n",
              "      <td>6807</td>\n",
              "      <td>6807</td>\n",
              "      <td>2106909099</td>\n",
              "      <td>코코넛밀크 898 말토덱스트린 카제인나트륨 제삼인산칼슘으로 혼합·조제한 백색계 분...</td>\n",
              "      <td>관세율표 제2106호에는 “따로 분류되지 않은 조제 식료품”을 분류하며  같은 호...</td>\n",
              "      <td>food preparation;</td>\n",
              "      <td>차오코 코코넛 밀크 파우더</td>\n",
              "    </tr>\n",
              "    <tr>\n",
              "      <th>87006</th>\n",
              "      <td>87006</td>\n",
              "      <td>7924</td>\n",
              "      <td>7924</td>\n",
              "      <td>2106909099</td>\n",
              "      <td>누에고치를 가수분해하여 얻은 단백질 가수분해물각종 아미노산 함유에 덱스트린을 혼합하...</td>\n",
              "      <td>본품은 누에고치를 가수분해하여 얻은 단백질 가수분해물각종 아미  노산에 덱스트린을 ...</td>\n",
              "      <td>food preparation</td>\n",
              "      <td>실크파우더</td>\n",
              "    </tr>\n",
              "    <tr>\n",
              "      <th>87007</th>\n",
              "      <td>87007</td>\n",
              "      <td>7925</td>\n",
              "      <td>7925</td>\n",
              "      <td>2106909099</td>\n",
              "      <td>누에고치를 가수분해하여 얻은 단백질 가수분해물각종 아미노산 함유을 동결건조한 미황색...</td>\n",
              "      <td>본품은 누에고치를 가수분해하여 얻은 단백질가수분해물각종 아미노산을 동결건조 제조한 ...</td>\n",
              "      <td>food preparation</td>\n",
              "      <td>실크파우더</td>\n",
              "    </tr>\n",
              "    <tr>\n",
              "      <th>88228</th>\n",
              "      <td>88228</td>\n",
              "      <td>9146</td>\n",
              "      <td>9146</td>\n",
              "      <td>2308009000</td>\n",
              "      <td>크랜베리 과실에서 주스를 착즙하고 남은 잔류물을 건조 · 분쇄한 적자색 분말상임 용...</td>\n",
              "      <td>관세율표 제2308호에는 사료용의 식물성 물질식물성 웨이스트식물성 박류 및 부산물...</td>\n",
              "      <td>cranberry residues; powder;</td>\n",
              "      <td>크랜베리파우더cranberry</td>\n",
              "    </tr>\n",
              "    <tr>\n",
              "      <th>88229</th>\n",
              "      <td>88229</td>\n",
              "      <td>9147</td>\n",
              "      <td>9147</td>\n",
              "      <td>2308009000</td>\n",
              "      <td>크랜베리 과실에서 주스를 착즙하고 남은 잔류물을 건조 · 분쇄한 적자색 분말상임 용...</td>\n",
              "      <td>관세율표 제2308호에는 사료용의 식물성 물질식물성 웨이스트식물성 박류 및 부산물...</td>\n",
              "      <td>cranberry residues; powder;</td>\n",
              "      <td>크랜베리파우더cranberry</td>\n",
              "    </tr>\n",
              "    <tr>\n",
              "      <th>96574</th>\n",
              "      <td>96574</td>\n",
              "      <td>17492</td>\n",
              "      <td>17492</td>\n",
              "      <td>3824999090</td>\n",
              "      <td>탄산칼륨 탄산나트륨 폴리인산나트륨 구아검 등으로 조제된 황색계 분말상   용도  식...</td>\n",
              "      <td>관세율표 제3824호에는 “따로 분류되지 않은 화학품과 화학공업이나 연관공업에 따...</td>\n",
              "      <td>chemical preparation;</td>\n",
              "      <td>프리믹스파우더</td>\n",
              "    </tr>\n",
              "    <tr>\n",
              "      <th>107016</th>\n",
              "      <td>107016</td>\n",
              "      <td>27934</td>\n",
              "      <td>27934</td>\n",
              "      <td>3824999090</td>\n",
              "      <td>탄산칼륨 탄산나트륨 폴리인산나트륨 구아검 등으로 조제된 황색계 분말상   용도  식...</td>\n",
              "      <td>관세율표 제3824호에는 “따로 분류되지 않은 화학품과 화학공업이나 연관공업에 따...</td>\n",
              "      <td>chemical preparation;</td>\n",
              "      <td>프리믹스파우더</td>\n",
              "    </tr>\n",
              "    <tr>\n",
              "      <th>117458</th>\n",
              "      <td>117458</td>\n",
              "      <td>38376</td>\n",
              "      <td>38376</td>\n",
              "      <td>3824999090</td>\n",
              "      <td>탄산칼륨 탄산나트륨 폴리인산나트륨 구아검 등으로 조제된 황색계 분말상   용도  식...</td>\n",
              "      <td>관세율표 제3824호에는 “따로 분류되지 않은 화학품과 화학공업이나 연관공업에 따...</td>\n",
              "      <td>chemical preparation;</td>\n",
              "      <td>프리믹스파우더</td>\n",
              "    </tr>\n",
              "    <tr>\n",
              "      <th>127900</th>\n",
              "      <td>127900</td>\n",
              "      <td>48818</td>\n",
              "      <td>48818</td>\n",
              "      <td>3824999090</td>\n",
              "      <td>탄산칼륨 탄산나트륨 폴리인산나트륨 구아검 등으로 조제된 황색계 분말상   용도  식...</td>\n",
              "      <td>관세율표 제3824호에는 “따로 분류되지 않은 화학품과 화학공업이나 연관공업에 따...</td>\n",
              "      <td>chemical preparation;</td>\n",
              "      <td>프리믹스파우더</td>\n",
              "    </tr>\n",
              "    <tr>\n",
              "      <th>154329</th>\n",
              "      <td>154329</td>\n",
              "      <td>75253</td>\n",
              "      <td>75253</td>\n",
              "      <td>9616200000</td>\n",
              "      <td>개요   본 건 은 플라스틱 용기에 스펀지PowderPuff가 부착된 형태로 플...</td>\n",
              "      <td>본 건 은 플라스틱 용기와 화장용 분첩 기능을 하는 이 결합된 복합으로 서로 다른...</td>\n",
              "      <td>NaN</td>\n",
              "      <td>가루파우더 용기퍼프부착</td>\n",
              "    </tr>\n",
              "    <tr>\n",
              "      <th>154330</th>\n",
              "      <td>154330</td>\n",
              "      <td>75254</td>\n",
              "      <td>75254</td>\n",
              "      <td>9616200000</td>\n",
              "      <td>개요   본 건 은 플라스틱 용기에 스펀지PowderPuff가 부착된 형태로 플...</td>\n",
              "      <td>본 건 은 플라스틱 용기와 화장용 분첩 기능을 하는 이 결합된 복합으로 서로 다른...</td>\n",
              "      <td>NaN</td>\n",
              "      <td>가루파우더 용기퍼프부착</td>\n",
              "    </tr>\n",
              "  </tbody>\n",
              "</table>\n",
              "</div>"
            ],
            "text/plain": [
              "        Unnamed: 0  ...                  NM_KO\n",
              "79703        79703  ...                호박파우더ns\n",
              "81962        81962  ...         아레스 커피 프라페 파우더\n",
              "81963        81963  ...         아레스 커피 프라페 파우더\n",
              "81964        81964  ...   아레스 민트 초코 라떼 파우더ares\n",
              "81965        81965  ...         아레스오리지널 초코 파우더\n",
              "81966        81966  ...         아레스오리지널 초코 파우더\n",
              "82331        82331  ...                  곡류파우더\n",
              "82974        82974  ...        아레스 소이오곡 라떼 파우더\n",
              "82975        82975  ...        아레스 소이오곡 라떼 파우더\n",
              "83417        83417  ...                스위트콘파우더\n",
              "84919        84919  ...      아레스 흑당 크림 밀크티 파우더\n",
              "84920        84920  ...      아레스 흑당 크림 밀크티 파우더\n",
              "84922        84922  ...         아레스 그린티 라떼 파우더\n",
              "84949        84949  ...       제주 봄빛 그린티파우더jeju\n",
              "84950        84950  ...       제주 봄빛 그린티파우더jeju\n",
              "85823        85823  ...    아레스 슈크림 라떼 파우더choux\n",
              "85824        85824  ...    아레스 슈크림 라떼 파우더choux\n",
              "85829        85829  ...       아레스 프리미엄 요거트 파우더\n",
              "85888        85888  ...         차오코 코코넛 밀크 파우더\n",
              "85889        85889  ...         차오코 코코넛 밀크 파우더\n",
              "87006        87006  ...                  실크파우더\n",
              "87007        87007  ...                  실크파우더\n",
              "88228        88228  ...       크랜베리파우더cranberry\n",
              "88229        88229  ...       크랜베리파우더cranberry\n",
              "96574        96574  ...                프리믹스파우더\n",
              "107016      107016  ...                프리믹스파우더\n",
              "117458      117458  ...                프리믹스파우더\n",
              "127900      127900  ...                프리믹스파우더\n",
              "154329      154329  ...           가루파우더 용기퍼프부착\n",
              "154330      154330  ...           가루파우더 용기퍼프부착\n",
              "\n",
              "[30 rows x 8 columns]"
            ]
          },
          "metadata": {},
          "execution_count": 10
        }
      ]
    },
    {
      "cell_type": "code",
      "metadata": {
        "id": "uTSgu4Khb4LD"
      },
      "source": [
        "result_ko2 = result_ko.groupby('HSCODE').size().reset_index(name='count')\n",
        "result_ko2 = result_ko.reset_index()"
      ],
      "execution_count": 11,
      "outputs": []
    },
    {
      "cell_type": "code",
      "metadata": {
        "colab": {
          "base_uri": "https://localhost:8080/",
          "height": 670
        },
        "id": "EqMPxw1LW0G4",
        "outputId": "f2bc8624-6aa5-4672-86a7-d011bed6899c"
      },
      "source": [
        "result_ko=result_ko2.sort_values(\"HSCODE\").head(3)\n",
        "result_ko"
      ],
      "execution_count": 12,
      "outputs": [
        {
          "output_type": "execute_result",
          "data": {
            "text/html": [
              "<div>\n",
              "<style scoped>\n",
              "    .dataframe tbody tr th:only-of-type {\n",
              "        vertical-align: middle;\n",
              "    }\n",
              "\n",
              "    .dataframe tbody tr th {\n",
              "        vertical-align: top;\n",
              "    }\n",
              "\n",
              "    .dataframe thead th {\n",
              "        text-align: right;\n",
              "    }\n",
              "</style>\n",
              "<table border=\"1\" class=\"dataframe\">\n",
              "  <thead>\n",
              "    <tr style=\"text-align: right;\">\n",
              "      <th></th>\n",
              "      <th>index</th>\n",
              "      <th>Unnamed: 0</th>\n",
              "      <th>Unnamed: 0.1</th>\n",
              "      <th>Unnamed: 0.1.1</th>\n",
              "      <th>HSCODE</th>\n",
              "      <th>이유</th>\n",
              "      <th>설명</th>\n",
              "      <th>NM_EN</th>\n",
              "      <th>NM_KO</th>\n",
              "    </tr>\n",
              "  </thead>\n",
              "  <tbody>\n",
              "    <tr>\n",
              "      <th>0</th>\n",
              "      <td>79703</td>\n",
              "      <td>79703</td>\n",
              "      <td>621</td>\n",
              "      <td>621</td>\n",
              "      <td>712902050</td>\n",
              "      <td>호박을 절단 후 건조하여 분쇄한 황색계 분말상    용도  화장품제조용원료   품...</td>\n",
              "      <td>관세율표 제0712호에는 건조한 채소원래 모양인 것 절단한 것 얇         ...</td>\n",
              "      <td>pumpkin powder;</td>\n",
              "      <td>호박파우더ns</td>\n",
              "    </tr>\n",
              "    <tr>\n",
              "      <th>4</th>\n",
              "      <td>81965</td>\n",
              "      <td>81965</td>\n",
              "      <td>2883</td>\n",
              "      <td>2883</td>\n",
              "      <td>1806100000</td>\n",
              "      <td>코코아 분말 20 미세당 80가 혼합된 암갈색계 분말상을 수지제팩에 소매포장내용량 ...</td>\n",
              "      <td>o 관세율표 제1806호에는 “초콜릿과 코코아를 함유한 그밖의 조제 식료품”이 분류...</td>\n",
              "      <td>food preparation containing cocoa; g</td>\n",
              "      <td>아레스오리지널 초코 파우더</td>\n",
              "    </tr>\n",
              "    <tr>\n",
              "      <th>5</th>\n",
              "      <td>81966</td>\n",
              "      <td>81966</td>\n",
              "      <td>2884</td>\n",
              "      <td>2884</td>\n",
              "      <td>1806100000</td>\n",
              "      <td>코코아 분말 20 미세당 80가 혼합된 암갈색계 분말상을 수지제팩에 소매포장내용량 ...</td>\n",
              "      <td>o 관세율표 제1806호에는 “초콜릿과 코코아를 함유한 그밖의 조제 식료품”이 분류...</td>\n",
              "      <td>food preparation containing cocoa; g</td>\n",
              "      <td>아레스오리지널 초코 파우더</td>\n",
              "    </tr>\n",
              "  </tbody>\n",
              "</table>\n",
              "</div>"
            ],
            "text/plain": [
              "   index  Unnamed: 0  ...                                  NM_EN            NM_KO\n",
              "0  79703       79703  ...                        pumpkin powder;          호박파우더ns\n",
              "4  81965       81965  ...   food preparation containing cocoa; g   아레스오리지널 초코 파우더\n",
              "5  81966       81966  ...   food preparation containing cocoa; g   아레스오리지널 초코 파우더\n",
              "\n",
              "[3 rows x 9 columns]"
            ]
          },
          "metadata": {},
          "execution_count": 12
        }
      ]
    },
    {
      "cell_type": "code",
      "metadata": {
        "colab": {
          "base_uri": "https://localhost:8080/",
          "height": 63
        },
        "id": "Xif9uRnyeR-y",
        "outputId": "7b1f81e1-c624-4e19-eccd-993696db7aba"
      },
      "source": [
        "result_en2 = result_en.groupby('HSCODE').size().reset_index(name='count')\n",
        "result_en2 = result_en.reset_index()\n",
        "result_en=result_en2.sort_values(\"HSCODE\").head(3)\n",
        "result_en"
      ],
      "execution_count": 13,
      "outputs": [
        {
          "output_type": "execute_result",
          "data": {
            "text/html": [
              "<div>\n",
              "<style scoped>\n",
              "    .dataframe tbody tr th:only-of-type {\n",
              "        vertical-align: middle;\n",
              "    }\n",
              "\n",
              "    .dataframe tbody tr th {\n",
              "        vertical-align: top;\n",
              "    }\n",
              "\n",
              "    .dataframe thead th {\n",
              "        text-align: right;\n",
              "    }\n",
              "</style>\n",
              "<table border=\"1\" class=\"dataframe\">\n",
              "  <thead>\n",
              "    <tr style=\"text-align: right;\">\n",
              "      <th></th>\n",
              "      <th>index</th>\n",
              "      <th>Unnamed: 0</th>\n",
              "      <th>Unnamed: 0.1</th>\n",
              "      <th>Unnamed: 0.1.1</th>\n",
              "      <th>HSCODE</th>\n",
              "      <th>이유</th>\n",
              "      <th>설명</th>\n",
              "      <th>NM_EN</th>\n",
              "      <th>NM_KO</th>\n",
              "    </tr>\n",
              "  </thead>\n",
              "  <tbody>\n",
              "  </tbody>\n",
              "</table>\n",
              "</div>"
            ],
            "text/plain": [
              "Empty DataFrame\n",
              "Columns: [index, Unnamed: 0, Unnamed: 0.1, Unnamed: 0.1.1, HSCODE, 이유, 설명, NM_EN, NM_KO]\n",
              "Index: []"
            ]
          },
          "metadata": {},
          "execution_count": 13
        }
      ]
    },
    {
      "cell_type": "code",
      "metadata": {
        "id": "AV07fpm4Zy4D"
      },
      "source": [
        "result = result_en.append(result_ko,ignore_index=True) "
      ],
      "execution_count": 14,
      "outputs": []
    },
    {
      "cell_type": "code",
      "metadata": {
        "colab": {
          "base_uri": "https://localhost:8080/",
          "height": 670
        },
        "id": "7feEXEcFaK5U",
        "outputId": "0e1b0b3f-c15b-485d-84da-2ace79b3915b"
      },
      "source": [
        "result"
      ],
      "execution_count": 15,
      "outputs": [
        {
          "output_type": "execute_result",
          "data": {
            "text/html": [
              "<div>\n",
              "<style scoped>\n",
              "    .dataframe tbody tr th:only-of-type {\n",
              "        vertical-align: middle;\n",
              "    }\n",
              "\n",
              "    .dataframe tbody tr th {\n",
              "        vertical-align: top;\n",
              "    }\n",
              "\n",
              "    .dataframe thead th {\n",
              "        text-align: right;\n",
              "    }\n",
              "</style>\n",
              "<table border=\"1\" class=\"dataframe\">\n",
              "  <thead>\n",
              "    <tr style=\"text-align: right;\">\n",
              "      <th></th>\n",
              "      <th>index</th>\n",
              "      <th>Unnamed: 0</th>\n",
              "      <th>Unnamed: 0.1</th>\n",
              "      <th>Unnamed: 0.1.1</th>\n",
              "      <th>HSCODE</th>\n",
              "      <th>이유</th>\n",
              "      <th>설명</th>\n",
              "      <th>NM_EN</th>\n",
              "      <th>NM_KO</th>\n",
              "    </tr>\n",
              "  </thead>\n",
              "  <tbody>\n",
              "    <tr>\n",
              "      <th>0</th>\n",
              "      <td>79703</td>\n",
              "      <td>79703</td>\n",
              "      <td>621</td>\n",
              "      <td>621</td>\n",
              "      <td>712902050</td>\n",
              "      <td>호박을 절단 후 건조하여 분쇄한 황색계 분말상    용도  화장품제조용원료   품...</td>\n",
              "      <td>관세율표 제0712호에는 건조한 채소원래 모양인 것 절단한 것 얇         ...</td>\n",
              "      <td>pumpkin powder;</td>\n",
              "      <td>호박파우더ns</td>\n",
              "    </tr>\n",
              "    <tr>\n",
              "      <th>1</th>\n",
              "      <td>81965</td>\n",
              "      <td>81965</td>\n",
              "      <td>2883</td>\n",
              "      <td>2883</td>\n",
              "      <td>1806100000</td>\n",
              "      <td>코코아 분말 20 미세당 80가 혼합된 암갈색계 분말상을 수지제팩에 소매포장내용량 ...</td>\n",
              "      <td>o 관세율표 제1806호에는 “초콜릿과 코코아를 함유한 그밖의 조제 식료품”이 분류...</td>\n",
              "      <td>food preparation containing cocoa; g</td>\n",
              "      <td>아레스오리지널 초코 파우더</td>\n",
              "    </tr>\n",
              "    <tr>\n",
              "      <th>2</th>\n",
              "      <td>81966</td>\n",
              "      <td>81966</td>\n",
              "      <td>2884</td>\n",
              "      <td>2884</td>\n",
              "      <td>1806100000</td>\n",
              "      <td>코코아 분말 20 미세당 80가 혼합된 암갈색계 분말상을 수지제팩에 소매포장내용량 ...</td>\n",
              "      <td>o 관세율표 제1806호에는 “초콜릿과 코코아를 함유한 그밖의 조제 식료품”이 분류...</td>\n",
              "      <td>food preparation containing cocoa; g</td>\n",
              "      <td>아레스오리지널 초코 파우더</td>\n",
              "    </tr>\n",
              "  </tbody>\n",
              "</table>\n",
              "</div>"
            ],
            "text/plain": [
              "   index  Unnamed: 0  ...                                  NM_EN            NM_KO\n",
              "0  79703       79703  ...                        pumpkin powder;          호박파우더ns\n",
              "1  81965       81965  ...   food preparation containing cocoa; g   아레스오리지널 초코 파우더\n",
              "2  81966       81966  ...   food preparation containing cocoa; g   아레스오리지널 초코 파우더\n",
              "\n",
              "[3 rows x 9 columns]"
            ]
          },
          "metadata": {},
          "execution_count": 15
        }
      ]
    },
    {
      "cell_type": "code",
      "metadata": {
        "colab": {
          "base_uri": "https://localhost:8080/"
        },
        "id": "_fxDmHvqdyQ3",
        "outputId": "7851cb7f-77c5-4466-d64e-9268d78f9ccb"
      },
      "source": [
        "s = ''\n",
        "for index in result.index:\n",
        "  s =\"HSCODE : \"+ str(result._get_value(index,'HSCODE'))\n",
        "  if pd.isnull(result._get_value(index,'NM_KO'))==False:\n",
        "    s += \"\\t한국어 : \"+ str(result._get_value(index,'NM_KO'))\n",
        "  if pd.isnull(result._get_value(index,'NM_EN'))==False:\n",
        "    s += \"\\t영어 : \"+ str(result._get_value(index,'NM_EN'))\n",
        "  print(s)"
      ],
      "execution_count": 16,
      "outputs": [
        {
          "output_type": "stream",
          "text": [
            "HSCODE : 712902050\t한국어 :  호박파우더ns\t영어 :  pumpkin powder;\n",
            "HSCODE : 1806100000\t한국어 :  아레스오리지널 초코 파우더\t영어 :  food preparation containing cocoa; g\n",
            "HSCODE : 1806100000\t한국어 :  아레스오리지널 초코 파우더\t영어 :  food preparation containing cocoa; g\n"
          ],
          "name": "stdout"
        }
      ]
    },
    {
      "cell_type": "code",
      "metadata": {
        "id": "0HnNsVQx0fSg"
      },
      "source": [
        "from sklearn.feature_extraction.text import CountVectorizer\n",
        "from sklearn.feature_extraction.text import TfidfVectorizer\n",
        "from sklearn.metrics.pairwise import cosine_similarity\n",
        "import math"
      ],
      "execution_count": 54,
      "outputs": []
    },
    {
      "cell_type": "code",
      "metadata": {
        "id": "RkMbbot25jvX"
      },
      "source": [
        "counter_vector = CountVectorizer(ngram_range=(1,3))"
      ],
      "execution_count": 39,
      "outputs": []
    },
    {
      "cell_type": "code",
      "metadata": {
        "id": "RPseUl598P3P"
      },
      "source": [
        "data = pd.read_csv('/content/drive/MyDrive/pytest/TB_CO_HSCODE_202108041312.csv',encoding='cp949')"
      ],
      "execution_count": 49,
      "outputs": []
    },
    {
      "cell_type": "code",
      "metadata": {
        "id": "f8Dk_qfa8ilQ"
      },
      "source": [
        "data"
      ],
      "execution_count": null,
      "outputs": []
    },
    {
      "cell_type": "code",
      "metadata": {
        "id": "DZN8GQ9H6m_j"
      },
      "source": [
        "c_vector_genres = counter_vector.fit_transform(data['NM_KO'])"
      ],
      "execution_count": 51,
      "outputs": []
    },
    {
      "cell_type": "code",
      "metadata": {
        "colab": {
          "base_uri": "https://localhost:8080/"
        },
        "id": "fcpXfPKZ5kPo",
        "outputId": "1631a2cd-d357-4681-b566-47913a3e5eb4"
      },
      "source": [
        "c_vector_genres.shape"
      ],
      "execution_count": 52,
      "outputs": [
        {
          "output_type": "execute_result",
          "data": {
            "text/plain": [
              "(19985, 55919)"
            ]
          },
          "metadata": {},
          "execution_count": 52
        }
      ]
    },
    {
      "cell_type": "code",
      "metadata": {
        "id": "rcW0xx396tjs"
      },
      "source": [
        "gerne_c_sim = cosine_similarity(c_vector_genres, c_vector_genres).argsort()[:,::-1]"
      ],
      "execution_count": 55,
      "outputs": []
    },
    {
      "cell_type": "code",
      "metadata": {
        "colab": {
          "base_uri": "https://localhost:8080/"
        },
        "id": "EBKpremX6tA-",
        "outputId": "3ccc26ac-d912-4478-9e8d-058aeb74eb62"
      },
      "source": [
        "gerne_c_sim.shape"
      ],
      "execution_count": 56,
      "outputs": [
        {
          "output_type": "execute_result",
          "data": {
            "text/plain": [
              "(19985, 19985)"
            ]
          },
          "metadata": {},
          "execution_count": 56
        }
      ]
    },
    {
      "cell_type": "code",
      "metadata": {
        "colab": {
          "base_uri": "https://localhost:8080/",
          "height": 670
        },
        "id": "jMLw5xsk-0p8",
        "outputId": "32dc1a81-77f9-4ac8-ccc5-9790bf6d0c74"
      },
      "source": [
        "result"
      ],
      "execution_count": 62,
      "outputs": [
        {
          "output_type": "execute_result",
          "data": {
            "text/html": [
              "<div>\n",
              "<style scoped>\n",
              "    .dataframe tbody tr th:only-of-type {\n",
              "        vertical-align: middle;\n",
              "    }\n",
              "\n",
              "    .dataframe tbody tr th {\n",
              "        vertical-align: top;\n",
              "    }\n",
              "\n",
              "    .dataframe thead th {\n",
              "        text-align: right;\n",
              "    }\n",
              "</style>\n",
              "<table border=\"1\" class=\"dataframe\">\n",
              "  <thead>\n",
              "    <tr style=\"text-align: right;\">\n",
              "      <th></th>\n",
              "      <th>index</th>\n",
              "      <th>Unnamed: 0</th>\n",
              "      <th>Unnamed: 0.1</th>\n",
              "      <th>Unnamed: 0.1.1</th>\n",
              "      <th>HSCODE</th>\n",
              "      <th>이유</th>\n",
              "      <th>설명</th>\n",
              "      <th>NM_EN</th>\n",
              "      <th>NM_KO</th>\n",
              "    </tr>\n",
              "  </thead>\n",
              "  <tbody>\n",
              "    <tr>\n",
              "      <th>0</th>\n",
              "      <td>79703</td>\n",
              "      <td>79703</td>\n",
              "      <td>621</td>\n",
              "      <td>621</td>\n",
              "      <td>712902050</td>\n",
              "      <td>호박을 절단 후 건조하여 분쇄한 황색계 분말상    용도  화장품제조용원료   품...</td>\n",
              "      <td>관세율표 제0712호에는 건조한 채소원래 모양인 것 절단한 것 얇         ...</td>\n",
              "      <td>pumpkin powder;</td>\n",
              "      <td>호박파우더ns</td>\n",
              "    </tr>\n",
              "    <tr>\n",
              "      <th>1</th>\n",
              "      <td>81965</td>\n",
              "      <td>81965</td>\n",
              "      <td>2883</td>\n",
              "      <td>2883</td>\n",
              "      <td>1806100000</td>\n",
              "      <td>코코아 분말 20 미세당 80가 혼합된 암갈색계 분말상을 수지제팩에 소매포장내용량 ...</td>\n",
              "      <td>o 관세율표 제1806호에는 “초콜릿과 코코아를 함유한 그밖의 조제 식료품”이 분류...</td>\n",
              "      <td>food preparation containing cocoa; g</td>\n",
              "      <td>아레스오리지널 초코 파우더</td>\n",
              "    </tr>\n",
              "    <tr>\n",
              "      <th>2</th>\n",
              "      <td>81966</td>\n",
              "      <td>81966</td>\n",
              "      <td>2884</td>\n",
              "      <td>2884</td>\n",
              "      <td>1806100000</td>\n",
              "      <td>코코아 분말 20 미세당 80가 혼합된 암갈색계 분말상을 수지제팩에 소매포장내용량 ...</td>\n",
              "      <td>o 관세율표 제1806호에는 “초콜릿과 코코아를 함유한 그밖의 조제 식료품”이 분류...</td>\n",
              "      <td>food preparation containing cocoa; g</td>\n",
              "      <td>아레스오리지널 초코 파우더</td>\n",
              "    </tr>\n",
              "  </tbody>\n",
              "</table>\n",
              "</div>"
            ],
            "text/plain": [
              "   index  Unnamed: 0  ...                                  NM_EN            NM_KO\n",
              "0  79703       79703  ...                        pumpkin powder;          호박파우더ns\n",
              "1  81965       81965  ...   food preparation containing cocoa; g   아레스오리지널 초코 파우더\n",
              "2  81966       81966  ...   food preparation containing cocoa; g   아레스오리지널 초코 파우더\n",
              "\n",
              "[3 rows x 9 columns]"
            ]
          },
          "metadata": {},
          "execution_count": 62
        }
      ]
    },
    {
      "cell_type": "code",
      "metadata": {
        "id": "hz8BnNyM6sob"
      },
      "source": [
        "def get_recommend_list(df, name, top = 30):\n",
        "  target_index = df[df['NM_KO'] == name].index.values\n",
        "  print(target_index)\n",
        "  sim_index = gerne_c_sim[target_index, :top].reshape(-1)\n",
        "  sim_index = sim_index[sim_index != target_index]\n",
        "\n",
        "  result_def = df.iloc[sim_index].sort_values('NM_KO',ascending=False)[:10]\n",
        "  return result_def"
      ],
      "execution_count": 69,
      "outputs": []
    },
    {
      "cell_type": "code",
      "metadata": {
        "colab": {
          "base_uri": "https://localhost:8080/",
          "height": 85
        },
        "id": "QjLoQyoZ5kZ_",
        "outputId": "bbb7b4aa-ee8d-44cd-efe5-a6d5fbc86435"
      },
      "source": [
        "\n",
        "get_recommend_list(data,name = '음식')\n"
      ],
      "execution_count": 70,
      "outputs": [
        {
          "output_type": "stream",
          "text": [
            "[]\n"
          ],
          "name": "stdout"
        },
        {
          "output_type": "execute_result",
          "data": {
            "text/html": [
              "<div>\n",
              "<style scoped>\n",
              "    .dataframe tbody tr th:only-of-type {\n",
              "        vertical-align: middle;\n",
              "    }\n",
              "\n",
              "    .dataframe tbody tr th {\n",
              "        vertical-align: top;\n",
              "    }\n",
              "\n",
              "    .dataframe thead th {\n",
              "        text-align: right;\n",
              "    }\n",
              "</style>\n",
              "<table border=\"1\" class=\"dataframe\">\n",
              "  <thead>\n",
              "    <tr style=\"text-align: right;\">\n",
              "      <th></th>\n",
              "      <th>HSCODE</th>\n",
              "      <th>NM_KO</th>\n",
              "      <th>NM_EN</th>\n",
              "      <th>VALID_TF</th>\n",
              "      <th>REGDATE</th>\n",
              "      <th>LVL1_CD</th>\n",
              "      <th>LVL2_CD</th>\n",
              "      <th>LVL3_CD</th>\n",
              "      <th>LVL4_CD</th>\n",
              "      <th>LVL1_NM_KO</th>\n",
              "      <th>LVL1_NM_EN</th>\n",
              "      <th>LVL2_NM_KO</th>\n",
              "      <th>LVL2_NM_EN</th>\n",
              "      <th>LVL3_NM_KO</th>\n",
              "      <th>LVL3_NM_EN</th>\n",
              "      <th>LVL4_NM_KO</th>\n",
              "      <th>LVL4_NM_EN</th>\n",
              "      <th>LVL</th>\n",
              "    </tr>\n",
              "  </thead>\n",
              "  <tbody>\n",
              "  </tbody>\n",
              "</table>\n",
              "</div>"
            ],
            "text/plain": [
              "Empty DataFrame\n",
              "Columns: [HSCODE, NM_KO, NM_EN, VALID_TF, REGDATE, LVL1_CD, LVL2_CD, LVL3_CD, LVL4_CD, LVL1_NM_KO, LVL1_NM_EN, LVL2_NM_KO, LVL2_NM_EN, LVL3_NM_KO, LVL3_NM_EN, LVL4_NM_KO, LVL4_NM_EN, LVL]\n",
              "Index: []"
            ]
          },
          "metadata": {},
          "execution_count": 70
        }
      ]
    },
    {
      "cell_type": "code",
      "metadata": {
        "id": "yCSOUGpi-Ych"
      },
      "source": [
        ""
      ],
      "execution_count": null,
      "outputs": []
    },
    {
      "cell_type": "code",
      "metadata": {
        "id": "hRAhWkiP-Ypd"
      },
      "source": [
        ""
      ],
      "execution_count": null,
      "outputs": []
    },
    {
      "cell_type": "code",
      "metadata": {
        "id": "9inD8ckE-Y3W"
      },
      "source": [
        ""
      ],
      "execution_count": null,
      "outputs": []
    },
    {
      "cell_type": "markdown",
      "metadata": {
        "id": "Hye8v4w15leY"
      },
      "source": [
        "**fasttext로 유사도**"
      ]
    },
    {
      "cell_type": "code",
      "metadata": {
        "id": "FueCFxOB0fb2"
      },
      "source": [
        "text=pd.read_csv(\"/content/drive/MyDrive/pytest/all_products_v2.csv\",encoding = 'utf-8')"
      ],
      "execution_count": 22,
      "outputs": []
    },
    {
      "cell_type": "code",
      "metadata": {
        "id": "mV6-dkoD3Lsu"
      },
      "source": [
        "text.columns = ['HSCODE','품명','이유','설명']"
      ],
      "execution_count": 24,
      "outputs": []
    },
    {
      "cell_type": "code",
      "metadata": {
        "id": "S1mktxNb3DlK"
      },
      "source": [
        "text[\"total\"] = text[\"품명\"] + \" \"+ text[\"이유\"] + \" \" + text[\"설명\"]"
      ],
      "execution_count": 26,
      "outputs": []
    },
    {
      "cell_type": "code",
      "metadata": {
        "id": "ZCvS2cbR3I6v"
      },
      "source": [
        "sen = text['total']"
      ],
      "execution_count": 27,
      "outputs": []
    },
    {
      "cell_type": "code",
      "metadata": {
        "id": "zsxo5X123xwP"
      },
      "source": [
        "def preprocessing(text):\n",
        "    # 개행문자 제거\n",
        "    text = re.sub('\\\\\\\\n', ' ', text)\n",
        "    # 특수문자 제거\n",
        "    # 특수문자나 이모티콘 등은 때로는 의미를 갖기도 하지만 여기에서는 제거했습니다.\n",
        "    # text = re.sub('[?.,;:|\\)*~`’!^\\-_+<>@\\#$%&-=#}※]', '', text)\n",
        "    # 한글, 영문, 숫자만 남기고 모두 제거하도록 합니다.\n",
        "    # text = re.sub('[^가-힣ㄱ-ㅎㅏ-ㅣa-zA-Z0-9]', ' ', text)\n",
        "    # 한글, 영문만 남기고 모두 제거하도록 합니다.\n",
        "    text = re.sub('[^가-힣ㄱ-ㅎㅏ-ㅣa-zA-Z]', ' ', text)\n",
        "    return text"
      ],
      "execution_count": 28,
      "outputs": []
    },
    {
      "cell_type": "code",
      "metadata": {
        "colab": {
          "base_uri": "https://localhost:8080/"
        },
        "id": "wQdNv5Je3xzs",
        "outputId": "69c36083-ac40-49ed-c833-d451eda332a7"
      },
      "source": [
        "for i in range(len(sen)):\n",
        "  sample_content = preprocessing(str(sen[i]))\n",
        "  sen[i] = sample_content"
      ],
      "execution_count": 29,
      "outputs": [
        {
          "output_type": "stream",
          "text": [
            "/usr/local/lib/python3.7/dist-packages/ipykernel_launcher.py:3: SettingWithCopyWarning: \n",
            "A value is trying to be set on a copy of a slice from a DataFrame\n",
            "\n",
            "See the caveats in the documentation: https://pandas.pydata.org/pandas-docs/stable/user_guide/indexing.html#returning-a-view-versus-a-copy\n",
            "  This is separate from the ipykernel package so we can avoid doing imports until\n"
          ],
          "name": "stderr"
        }
      ]
    },
    {
      "cell_type": "code",
      "metadata": {
        "colab": {
          "base_uri": "https://localhost:8080/"
        },
        "id": "ThUDjEzn3x0-",
        "outputId": "c98dba02-9e2a-4086-bdcc-19cb4196d2f8"
      },
      "source": [
        "%pip install konlpy"
      ],
      "execution_count": 31,
      "outputs": [
        {
          "output_type": "stream",
          "text": [
            "Collecting konlpy\n",
            "  Downloading konlpy-0.5.2-py2.py3-none-any.whl (19.4 MB)\n",
            "\u001b[K     |████████████████████████████████| 19.4 MB 6.5 MB/s \n",
            "\u001b[?25hCollecting JPype1>=0.7.0\n",
            "  Downloading JPype1-1.3.0-cp37-cp37m-manylinux_2_5_x86_64.manylinux1_x86_64.whl (448 kB)\n",
            "\u001b[K     |████████████████████████████████| 448 kB 58.3 MB/s \n",
            "\u001b[?25hRequirement already satisfied: lxml>=4.1.0 in /usr/local/lib/python3.7/dist-packages (from konlpy) (4.2.6)\n",
            "Collecting colorama\n",
            "  Downloading colorama-0.4.4-py2.py3-none-any.whl (16 kB)\n",
            "Requirement already satisfied: numpy>=1.6 in /usr/local/lib/python3.7/dist-packages (from konlpy) (1.19.5)\n",
            "Requirement already satisfied: tweepy>=3.7.0 in /usr/local/lib/python3.7/dist-packages (from konlpy) (3.10.0)\n",
            "Collecting beautifulsoup4==4.6.0\n",
            "  Downloading beautifulsoup4-4.6.0-py3-none-any.whl (86 kB)\n",
            "\u001b[K     |████████████████████████████████| 86 kB 5.4 MB/s \n",
            "\u001b[?25hRequirement already satisfied: typing-extensions in /usr/local/lib/python3.7/dist-packages (from JPype1>=0.7.0->konlpy) (3.7.4.3)\n",
            "Requirement already satisfied: requests-oauthlib>=0.7.0 in /usr/local/lib/python3.7/dist-packages (from tweepy>=3.7.0->konlpy) (1.3.0)\n",
            "Requirement already satisfied: requests[socks]>=2.11.1 in /usr/local/lib/python3.7/dist-packages (from tweepy>=3.7.0->konlpy) (2.23.0)\n",
            "Requirement already satisfied: six>=1.10.0 in /usr/local/lib/python3.7/dist-packages (from tweepy>=3.7.0->konlpy) (1.15.0)\n",
            "Requirement already satisfied: oauthlib>=3.0.0 in /usr/local/lib/python3.7/dist-packages (from requests-oauthlib>=0.7.0->tweepy>=3.7.0->konlpy) (3.1.1)\n",
            "Requirement already satisfied: urllib3!=1.25.0,!=1.25.1,<1.26,>=1.21.1 in /usr/local/lib/python3.7/dist-packages (from requests[socks]>=2.11.1->tweepy>=3.7.0->konlpy) (1.24.3)\n",
            "Requirement already satisfied: certifi>=2017.4.17 in /usr/local/lib/python3.7/dist-packages (from requests[socks]>=2.11.1->tweepy>=3.7.0->konlpy) (2021.5.30)\n",
            "Requirement already satisfied: idna<3,>=2.5 in /usr/local/lib/python3.7/dist-packages (from requests[socks]>=2.11.1->tweepy>=3.7.0->konlpy) (2.10)\n",
            "Requirement already satisfied: chardet<4,>=3.0.2 in /usr/local/lib/python3.7/dist-packages (from requests[socks]>=2.11.1->tweepy>=3.7.0->konlpy) (3.0.4)\n",
            "Requirement already satisfied: PySocks!=1.5.7,>=1.5.6 in /usr/local/lib/python3.7/dist-packages (from requests[socks]>=2.11.1->tweepy>=3.7.0->konlpy) (1.7.1)\n",
            "Installing collected packages: JPype1, colorama, beautifulsoup4, konlpy\n",
            "  Attempting uninstall: beautifulsoup4\n",
            "    Found existing installation: beautifulsoup4 4.6.3\n",
            "    Uninstalling beautifulsoup4-4.6.3:\n",
            "      Successfully uninstalled beautifulsoup4-4.6.3\n",
            "Successfully installed JPype1-1.3.0 beautifulsoup4-4.6.0 colorama-0.4.4 konlpy-0.5.2\n"
          ],
          "name": "stdout"
        }
      ]
    },
    {
      "cell_type": "code",
      "metadata": {
        "id": "z1GEkAXt3x3p"
      },
      "source": [
        "def read_data(filename, encoding='utf-8'):#->[]\n",
        "    with open(filename, 'r',encoding=encoding) as f:\n",
        "        data= [line.split(' ') for line in f.read().splitlines()]\n",
        "    return data"
      ],
      "execution_count": 32,
      "outputs": []
    },
    {
      "cell_type": "code",
      "metadata": {
        "id": "ut9gOFs036bR"
      },
      "source": [
        "stopwords = read_data('/content/stopwords.txt')"
      ],
      "execution_count": 33,
      "outputs": []
    },
    {
      "cell_type": "code",
      "metadata": {
        "id": "ZuhMABM-36mc"
      },
      "source": [
        "from konlpy.tag import Okt"
      ],
      "execution_count": 34,
      "outputs": []
    },
    {
      "cell_type": "code",
      "metadata": {
        "id": "zG3cdwDW36yT"
      },
      "source": [
        "tokenized_data = read_data('/content/drive/MyDrive/all_morphed_big.txt')"
      ],
      "execution_count": 36,
      "outputs": []
    },
    {
      "cell_type": "code",
      "metadata": {
        "colab": {
          "base_uri": "https://localhost:8080/",
          "height": 332
        },
        "id": "hQkwdygo3x6O",
        "outputId": "7c978fcd-70b4-4b63-ec81-caaffa2cf908"
      },
      "source": [
        "from gensim.models import FastText\n",
        "model = FastText(tokenized_data, size=150, window=10, min_count=5, workers=4, sg=1)"
      ],
      "execution_count": 37,
      "outputs": [
        {
          "output_type": "error",
          "ename": "KeyboardInterrupt",
          "evalue": "ignored",
          "traceback": [
            "\u001b[0;31m---------------------------------------------------------------------------\u001b[0m",
            "\u001b[0;31mKeyboardInterrupt\u001b[0m                         Traceback (most recent call last)",
            "\u001b[0;32m<ipython-input-37-9dbbdc25c6f7>\u001b[0m in \u001b[0;36m<module>\u001b[0;34m()\u001b[0m\n\u001b[1;32m      1\u001b[0m \u001b[0;32mfrom\u001b[0m \u001b[0mgensim\u001b[0m\u001b[0;34m.\u001b[0m\u001b[0mmodels\u001b[0m \u001b[0;32mimport\u001b[0m \u001b[0mFastText\u001b[0m\u001b[0;34m\u001b[0m\u001b[0;34m\u001b[0m\u001b[0m\n\u001b[0;32m----> 2\u001b[0;31m \u001b[0mmodel\u001b[0m \u001b[0;34m=\u001b[0m \u001b[0mFastText\u001b[0m\u001b[0;34m(\u001b[0m\u001b[0mtokenized_data\u001b[0m\u001b[0;34m,\u001b[0m \u001b[0msize\u001b[0m\u001b[0;34m=\u001b[0m\u001b[0;36m150\u001b[0m\u001b[0;34m,\u001b[0m \u001b[0mwindow\u001b[0m\u001b[0;34m=\u001b[0m\u001b[0;36m10\u001b[0m\u001b[0;34m,\u001b[0m \u001b[0mmin_count\u001b[0m\u001b[0;34m=\u001b[0m\u001b[0;36m5\u001b[0m\u001b[0;34m,\u001b[0m \u001b[0mworkers\u001b[0m\u001b[0;34m=\u001b[0m\u001b[0;36m4\u001b[0m\u001b[0;34m,\u001b[0m \u001b[0msg\u001b[0m\u001b[0;34m=\u001b[0m\u001b[0;36m1\u001b[0m\u001b[0;34m)\u001b[0m\u001b[0;34m\u001b[0m\u001b[0;34m\u001b[0m\u001b[0m\n\u001b[0m",
            "\u001b[0;32m/usr/local/lib/python3.7/dist-packages/gensim/models/fasttext.py\u001b[0m in \u001b[0;36m__init__\u001b[0;34m(self, sentences, corpus_file, sg, hs, size, alpha, window, min_count, max_vocab_size, word_ngrams, sample, seed, workers, min_alpha, negative, ns_exponent, cbow_mean, hashfxn, iter, null_word, min_n, max_n, sorted_vocab, bucket, trim_rule, batch_words, callbacks)\u001b[0m\n\u001b[1;32m    386\u001b[0m             \u001b[0msentences\u001b[0m\u001b[0;34m=\u001b[0m\u001b[0msentences\u001b[0m\u001b[0;34m,\u001b[0m \u001b[0mcorpus_file\u001b[0m\u001b[0;34m=\u001b[0m\u001b[0mcorpus_file\u001b[0m\u001b[0;34m,\u001b[0m \u001b[0mworkers\u001b[0m\u001b[0;34m=\u001b[0m\u001b[0mworkers\u001b[0m\u001b[0;34m,\u001b[0m \u001b[0mvector_size\u001b[0m\u001b[0;34m=\u001b[0m\u001b[0msize\u001b[0m\u001b[0;34m,\u001b[0m \u001b[0mepochs\u001b[0m\u001b[0;34m=\u001b[0m\u001b[0miter\u001b[0m\u001b[0;34m,\u001b[0m\u001b[0;34m\u001b[0m\u001b[0;34m\u001b[0m\u001b[0m\n\u001b[1;32m    387\u001b[0m             \u001b[0mcallbacks\u001b[0m\u001b[0;34m=\u001b[0m\u001b[0mcallbacks\u001b[0m\u001b[0;34m,\u001b[0m \u001b[0mbatch_words\u001b[0m\u001b[0;34m=\u001b[0m\u001b[0mbatch_words\u001b[0m\u001b[0;34m,\u001b[0m \u001b[0mtrim_rule\u001b[0m\u001b[0;34m=\u001b[0m\u001b[0mtrim_rule\u001b[0m\u001b[0;34m,\u001b[0m \u001b[0msg\u001b[0m\u001b[0;34m=\u001b[0m\u001b[0msg\u001b[0m\u001b[0;34m,\u001b[0m \u001b[0malpha\u001b[0m\u001b[0;34m=\u001b[0m\u001b[0malpha\u001b[0m\u001b[0;34m,\u001b[0m \u001b[0mwindow\u001b[0m\u001b[0;34m=\u001b[0m\u001b[0mwindow\u001b[0m\u001b[0;34m,\u001b[0m\u001b[0;34m\u001b[0m\u001b[0;34m\u001b[0m\u001b[0m\n\u001b[0;32m--> 388\u001b[0;31m             seed=seed, hs=hs, negative=negative, cbow_mean=cbow_mean, min_alpha=min_alpha, fast_version=FAST_VERSION)\n\u001b[0m\u001b[1;32m    389\u001b[0m \u001b[0;34m\u001b[0m\u001b[0m\n\u001b[1;32m    390\u001b[0m     \u001b[0;34m@\u001b[0m\u001b[0mproperty\u001b[0m\u001b[0;34m\u001b[0m\u001b[0;34m\u001b[0m\u001b[0m\n",
            "\u001b[0;32m/usr/local/lib/python3.7/dist-packages/gensim/models/base_any2vec.py\u001b[0m in \u001b[0;36m__init__\u001b[0;34m(self, sentences, corpus_file, workers, vector_size, epochs, callbacks, batch_words, trim_rule, sg, alpha, window, seed, hs, negative, ns_exponent, cbow_mean, min_alpha, compute_loss, fast_version, **kwargs)\u001b[0m\n\u001b[1;32m    761\u001b[0m                 \u001b[0msentences\u001b[0m\u001b[0;34m=\u001b[0m\u001b[0msentences\u001b[0m\u001b[0;34m,\u001b[0m \u001b[0mcorpus_file\u001b[0m\u001b[0;34m=\u001b[0m\u001b[0mcorpus_file\u001b[0m\u001b[0;34m,\u001b[0m \u001b[0mtotal_examples\u001b[0m\u001b[0;34m=\u001b[0m\u001b[0mself\u001b[0m\u001b[0;34m.\u001b[0m\u001b[0mcorpus_count\u001b[0m\u001b[0;34m,\u001b[0m\u001b[0;34m\u001b[0m\u001b[0;34m\u001b[0m\u001b[0m\n\u001b[1;32m    762\u001b[0m                 \u001b[0mtotal_words\u001b[0m\u001b[0;34m=\u001b[0m\u001b[0mself\u001b[0m\u001b[0;34m.\u001b[0m\u001b[0mcorpus_total_words\u001b[0m\u001b[0;34m,\u001b[0m \u001b[0mepochs\u001b[0m\u001b[0;34m=\u001b[0m\u001b[0mself\u001b[0m\u001b[0;34m.\u001b[0m\u001b[0mepochs\u001b[0m\u001b[0;34m,\u001b[0m \u001b[0mstart_alpha\u001b[0m\u001b[0;34m=\u001b[0m\u001b[0mself\u001b[0m\u001b[0;34m.\u001b[0m\u001b[0malpha\u001b[0m\u001b[0;34m,\u001b[0m\u001b[0;34m\u001b[0m\u001b[0;34m\u001b[0m\u001b[0m\n\u001b[0;32m--> 763\u001b[0;31m                 end_alpha=self.min_alpha, compute_loss=compute_loss)\n\u001b[0m\u001b[1;32m    764\u001b[0m         \u001b[0;32melse\u001b[0m\u001b[0;34m:\u001b[0m\u001b[0;34m\u001b[0m\u001b[0;34m\u001b[0m\u001b[0m\n\u001b[1;32m    765\u001b[0m             \u001b[0;32mif\u001b[0m \u001b[0mtrim_rule\u001b[0m \u001b[0;32mis\u001b[0m \u001b[0;32mnot\u001b[0m \u001b[0;32mNone\u001b[0m\u001b[0;34m:\u001b[0m\u001b[0;34m\u001b[0m\u001b[0;34m\u001b[0m\u001b[0m\n",
            "\u001b[0;32m/usr/local/lib/python3.7/dist-packages/gensim/models/fasttext.py\u001b[0m in \u001b[0;36mtrain\u001b[0;34m(self, sentences, corpus_file, total_examples, total_words, epochs, start_alpha, end_alpha, word_count, queue_factor, report_delay, callbacks, **kwargs)\u001b[0m\n\u001b[1;32m    664\u001b[0m             \u001b[0msentences\u001b[0m\u001b[0;34m=\u001b[0m\u001b[0msentences\u001b[0m\u001b[0;34m,\u001b[0m \u001b[0mcorpus_file\u001b[0m\u001b[0;34m=\u001b[0m\u001b[0mcorpus_file\u001b[0m\u001b[0;34m,\u001b[0m \u001b[0mtotal_examples\u001b[0m\u001b[0;34m=\u001b[0m\u001b[0mtotal_examples\u001b[0m\u001b[0;34m,\u001b[0m \u001b[0mtotal_words\u001b[0m\u001b[0;34m=\u001b[0m\u001b[0mtotal_words\u001b[0m\u001b[0;34m,\u001b[0m\u001b[0;34m\u001b[0m\u001b[0;34m\u001b[0m\u001b[0m\n\u001b[1;32m    665\u001b[0m             \u001b[0mepochs\u001b[0m\u001b[0;34m=\u001b[0m\u001b[0mepochs\u001b[0m\u001b[0;34m,\u001b[0m \u001b[0mstart_alpha\u001b[0m\u001b[0;34m=\u001b[0m\u001b[0mstart_alpha\u001b[0m\u001b[0;34m,\u001b[0m \u001b[0mend_alpha\u001b[0m\u001b[0;34m=\u001b[0m\u001b[0mend_alpha\u001b[0m\u001b[0;34m,\u001b[0m \u001b[0mword_count\u001b[0m\u001b[0;34m=\u001b[0m\u001b[0mword_count\u001b[0m\u001b[0;34m,\u001b[0m\u001b[0;34m\u001b[0m\u001b[0;34m\u001b[0m\u001b[0m\n\u001b[0;32m--> 666\u001b[0;31m             queue_factor=queue_factor, report_delay=report_delay, callbacks=callbacks)\n\u001b[0m\u001b[1;32m    667\u001b[0m         \u001b[0mself\u001b[0m\u001b[0;34m.\u001b[0m\u001b[0mtrainables\u001b[0m\u001b[0;34m.\u001b[0m\u001b[0mget_vocab_word_vecs\u001b[0m\u001b[0;34m(\u001b[0m\u001b[0mself\u001b[0m\u001b[0;34m.\u001b[0m\u001b[0mwv\u001b[0m\u001b[0;34m)\u001b[0m\u001b[0;34m\u001b[0m\u001b[0;34m\u001b[0m\u001b[0m\n\u001b[1;32m    668\u001b[0m \u001b[0;34m\u001b[0m\u001b[0m\n",
            "\u001b[0;32m/usr/local/lib/python3.7/dist-packages/gensim/models/base_any2vec.py\u001b[0m in \u001b[0;36mtrain\u001b[0;34m(self, sentences, corpus_file, total_examples, total_words, epochs, start_alpha, end_alpha, word_count, queue_factor, report_delay, compute_loss, callbacks, **kwargs)\u001b[0m\n\u001b[1;32m   1079\u001b[0m             \u001b[0mtotal_words\u001b[0m\u001b[0;34m=\u001b[0m\u001b[0mtotal_words\u001b[0m\u001b[0;34m,\u001b[0m \u001b[0mepochs\u001b[0m\u001b[0;34m=\u001b[0m\u001b[0mepochs\u001b[0m\u001b[0;34m,\u001b[0m \u001b[0mstart_alpha\u001b[0m\u001b[0;34m=\u001b[0m\u001b[0mstart_alpha\u001b[0m\u001b[0;34m,\u001b[0m \u001b[0mend_alpha\u001b[0m\u001b[0;34m=\u001b[0m\u001b[0mend_alpha\u001b[0m\u001b[0;34m,\u001b[0m \u001b[0mword_count\u001b[0m\u001b[0;34m=\u001b[0m\u001b[0mword_count\u001b[0m\u001b[0;34m,\u001b[0m\u001b[0;34m\u001b[0m\u001b[0;34m\u001b[0m\u001b[0m\n\u001b[1;32m   1080\u001b[0m             \u001b[0mqueue_factor\u001b[0m\u001b[0;34m=\u001b[0m\u001b[0mqueue_factor\u001b[0m\u001b[0;34m,\u001b[0m \u001b[0mreport_delay\u001b[0m\u001b[0;34m=\u001b[0m\u001b[0mreport_delay\u001b[0m\u001b[0;34m,\u001b[0m \u001b[0mcompute_loss\u001b[0m\u001b[0;34m=\u001b[0m\u001b[0mcompute_loss\u001b[0m\u001b[0;34m,\u001b[0m \u001b[0mcallbacks\u001b[0m\u001b[0;34m=\u001b[0m\u001b[0mcallbacks\u001b[0m\u001b[0;34m,\u001b[0m\u001b[0;34m\u001b[0m\u001b[0;34m\u001b[0m\u001b[0m\n\u001b[0;32m-> 1081\u001b[0;31m             **kwargs)\n\u001b[0m\u001b[1;32m   1082\u001b[0m \u001b[0;34m\u001b[0m\u001b[0m\n\u001b[1;32m   1083\u001b[0m     \u001b[0;32mdef\u001b[0m \u001b[0m_get_job_params\u001b[0m\u001b[0;34m(\u001b[0m\u001b[0mself\u001b[0m\u001b[0;34m,\u001b[0m \u001b[0mcur_epoch\u001b[0m\u001b[0;34m)\u001b[0m\u001b[0;34m:\u001b[0m\u001b[0;34m\u001b[0m\u001b[0;34m\u001b[0m\u001b[0m\n",
            "\u001b[0;32m/usr/local/lib/python3.7/dist-packages/gensim/models/base_any2vec.py\u001b[0m in \u001b[0;36mtrain\u001b[0;34m(self, data_iterable, corpus_file, epochs, total_examples, total_words, queue_factor, report_delay, callbacks, **kwargs)\u001b[0m\n\u001b[1;32m    551\u001b[0m                 trained_word_count_epoch, raw_word_count_epoch, job_tally_epoch = self._train_epoch(\n\u001b[1;32m    552\u001b[0m                     \u001b[0mdata_iterable\u001b[0m\u001b[0;34m,\u001b[0m \u001b[0mcur_epoch\u001b[0m\u001b[0;34m=\u001b[0m\u001b[0mcur_epoch\u001b[0m\u001b[0;34m,\u001b[0m \u001b[0mtotal_examples\u001b[0m\u001b[0;34m=\u001b[0m\u001b[0mtotal_examples\u001b[0m\u001b[0;34m,\u001b[0m\u001b[0;34m\u001b[0m\u001b[0;34m\u001b[0m\u001b[0m\n\u001b[0;32m--> 553\u001b[0;31m                     total_words=total_words, queue_factor=queue_factor, report_delay=report_delay)\n\u001b[0m\u001b[1;32m    554\u001b[0m             \u001b[0;32melse\u001b[0m\u001b[0;34m:\u001b[0m\u001b[0;34m\u001b[0m\u001b[0;34m\u001b[0m\u001b[0m\n\u001b[1;32m    555\u001b[0m                 trained_word_count_epoch, raw_word_count_epoch, job_tally_epoch = self._train_epoch_corpusfile(\n",
            "\u001b[0;32m/usr/local/lib/python3.7/dist-packages/gensim/models/base_any2vec.py\u001b[0m in \u001b[0;36m_train_epoch\u001b[0;34m(self, data_iterable, cur_epoch, total_examples, total_words, queue_factor, report_delay)\u001b[0m\n\u001b[1;32m    487\u001b[0m         trained_word_count, raw_word_count, job_tally = self._log_epoch_progress(\n\u001b[1;32m    488\u001b[0m             \u001b[0mprogress_queue\u001b[0m\u001b[0;34m,\u001b[0m \u001b[0mjob_queue\u001b[0m\u001b[0;34m,\u001b[0m \u001b[0mcur_epoch\u001b[0m\u001b[0;34m=\u001b[0m\u001b[0mcur_epoch\u001b[0m\u001b[0;34m,\u001b[0m \u001b[0mtotal_examples\u001b[0m\u001b[0;34m=\u001b[0m\u001b[0mtotal_examples\u001b[0m\u001b[0;34m,\u001b[0m \u001b[0mtotal_words\u001b[0m\u001b[0;34m=\u001b[0m\u001b[0mtotal_words\u001b[0m\u001b[0;34m,\u001b[0m\u001b[0;34m\u001b[0m\u001b[0;34m\u001b[0m\u001b[0m\n\u001b[0;32m--> 489\u001b[0;31m             report_delay=report_delay, is_corpus_file_mode=False)\n\u001b[0m\u001b[1;32m    490\u001b[0m \u001b[0;34m\u001b[0m\u001b[0m\n\u001b[1;32m    491\u001b[0m         \u001b[0;32mreturn\u001b[0m \u001b[0mtrained_word_count\u001b[0m\u001b[0;34m,\u001b[0m \u001b[0mraw_word_count\u001b[0m\u001b[0;34m,\u001b[0m \u001b[0mjob_tally\u001b[0m\u001b[0;34m\u001b[0m\u001b[0;34m\u001b[0m\u001b[0m\n",
            "\u001b[0;32m/usr/local/lib/python3.7/dist-packages/gensim/models/base_any2vec.py\u001b[0m in \u001b[0;36m_log_epoch_progress\u001b[0;34m(self, progress_queue, job_queue, cur_epoch, total_examples, total_words, report_delay, is_corpus_file_mode)\u001b[0m\n\u001b[1;32m    344\u001b[0m \u001b[0;34m\u001b[0m\u001b[0m\n\u001b[1;32m    345\u001b[0m         \u001b[0;32mwhile\u001b[0m \u001b[0munfinished_worker_count\u001b[0m \u001b[0;34m>\u001b[0m \u001b[0;36m0\u001b[0m\u001b[0;34m:\u001b[0m\u001b[0;34m\u001b[0m\u001b[0;34m\u001b[0m\u001b[0m\n\u001b[0;32m--> 346\u001b[0;31m             \u001b[0mreport\u001b[0m \u001b[0;34m=\u001b[0m \u001b[0mprogress_queue\u001b[0m\u001b[0;34m.\u001b[0m\u001b[0mget\u001b[0m\u001b[0;34m(\u001b[0m\u001b[0;34m)\u001b[0m  \u001b[0;31m# blocks if workers too slow\u001b[0m\u001b[0;34m\u001b[0m\u001b[0;34m\u001b[0m\u001b[0m\n\u001b[0m\u001b[1;32m    347\u001b[0m             \u001b[0;32mif\u001b[0m \u001b[0mreport\u001b[0m \u001b[0;32mis\u001b[0m \u001b[0;32mNone\u001b[0m\u001b[0;34m:\u001b[0m  \u001b[0;31m# a thread reporting that it finished\u001b[0m\u001b[0;34m\u001b[0m\u001b[0;34m\u001b[0m\u001b[0m\n\u001b[1;32m    348\u001b[0m                 \u001b[0munfinished_worker_count\u001b[0m \u001b[0;34m-=\u001b[0m \u001b[0;36m1\u001b[0m\u001b[0;34m\u001b[0m\u001b[0;34m\u001b[0m\u001b[0m\n",
            "\u001b[0;32m/usr/lib/python3.7/queue.py\u001b[0m in \u001b[0;36mget\u001b[0;34m(self, block, timeout)\u001b[0m\n\u001b[1;32m    168\u001b[0m             \u001b[0;32melif\u001b[0m \u001b[0mtimeout\u001b[0m \u001b[0;32mis\u001b[0m \u001b[0;32mNone\u001b[0m\u001b[0;34m:\u001b[0m\u001b[0;34m\u001b[0m\u001b[0;34m\u001b[0m\u001b[0m\n\u001b[1;32m    169\u001b[0m                 \u001b[0;32mwhile\u001b[0m \u001b[0;32mnot\u001b[0m \u001b[0mself\u001b[0m\u001b[0;34m.\u001b[0m\u001b[0m_qsize\u001b[0m\u001b[0;34m(\u001b[0m\u001b[0;34m)\u001b[0m\u001b[0;34m:\u001b[0m\u001b[0;34m\u001b[0m\u001b[0;34m\u001b[0m\u001b[0m\n\u001b[0;32m--> 170\u001b[0;31m                     \u001b[0mself\u001b[0m\u001b[0;34m.\u001b[0m\u001b[0mnot_empty\u001b[0m\u001b[0;34m.\u001b[0m\u001b[0mwait\u001b[0m\u001b[0;34m(\u001b[0m\u001b[0;34m)\u001b[0m\u001b[0;34m\u001b[0m\u001b[0;34m\u001b[0m\u001b[0m\n\u001b[0m\u001b[1;32m    171\u001b[0m             \u001b[0;32melif\u001b[0m \u001b[0mtimeout\u001b[0m \u001b[0;34m<\u001b[0m \u001b[0;36m0\u001b[0m\u001b[0;34m:\u001b[0m\u001b[0;34m\u001b[0m\u001b[0;34m\u001b[0m\u001b[0m\n\u001b[1;32m    172\u001b[0m                 \u001b[0;32mraise\u001b[0m \u001b[0mValueError\u001b[0m\u001b[0;34m(\u001b[0m\u001b[0;34m\"'timeout' must be a non-negative number\"\u001b[0m\u001b[0;34m)\u001b[0m\u001b[0;34m\u001b[0m\u001b[0;34m\u001b[0m\u001b[0m\n",
            "\u001b[0;32m/usr/lib/python3.7/threading.py\u001b[0m in \u001b[0;36mwait\u001b[0;34m(self, timeout)\u001b[0m\n\u001b[1;32m    294\u001b[0m         \u001b[0;32mtry\u001b[0m\u001b[0;34m:\u001b[0m    \u001b[0;31m# restore state no matter what (e.g., KeyboardInterrupt)\u001b[0m\u001b[0;34m\u001b[0m\u001b[0;34m\u001b[0m\u001b[0m\n\u001b[1;32m    295\u001b[0m             \u001b[0;32mif\u001b[0m \u001b[0mtimeout\u001b[0m \u001b[0;32mis\u001b[0m \u001b[0;32mNone\u001b[0m\u001b[0;34m:\u001b[0m\u001b[0;34m\u001b[0m\u001b[0;34m\u001b[0m\u001b[0m\n\u001b[0;32m--> 296\u001b[0;31m                 \u001b[0mwaiter\u001b[0m\u001b[0;34m.\u001b[0m\u001b[0macquire\u001b[0m\u001b[0;34m(\u001b[0m\u001b[0;34m)\u001b[0m\u001b[0;34m\u001b[0m\u001b[0;34m\u001b[0m\u001b[0m\n\u001b[0m\u001b[1;32m    297\u001b[0m                 \u001b[0mgotit\u001b[0m \u001b[0;34m=\u001b[0m \u001b[0;32mTrue\u001b[0m\u001b[0;34m\u001b[0m\u001b[0;34m\u001b[0m\u001b[0m\n\u001b[1;32m    298\u001b[0m             \u001b[0;32melse\u001b[0m\u001b[0;34m:\u001b[0m\u001b[0;34m\u001b[0m\u001b[0;34m\u001b[0m\u001b[0m\n",
            "\u001b[0;31mKeyboardInterrupt\u001b[0m: "
          ]
        }
      ]
    },
    {
      "cell_type": "code",
      "metadata": {
        "id": "TmnqDiQF3x8b"
      },
      "source": [
        "model.wv.vectors.shape"
      ],
      "execution_count": null,
      "outputs": []
    },
    {
      "cell_type": "code",
      "metadata": {
        "id": "izPmMu8U5UD3"
      },
      "source": [
        "model.wv.most_similar('샤프심')"
      ],
      "execution_count": null,
      "outputs": []
    },
    {
      "cell_type": "code",
      "metadata": {
        "id": "gDnFG_2u5UMh"
      },
      "source": [
        ""
      ],
      "execution_count": null,
      "outputs": []
    },
    {
      "cell_type": "code",
      "metadata": {
        "id": "hGJ1MyNX5UXA"
      },
      "source": [
        ""
      ],
      "execution_count": null,
      "outputs": []
    }
  ]
}